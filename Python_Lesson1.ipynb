{
 "cells": [
  {
   "cell_type": "code",
   "execution_count": 3,
   "id": "01490b3b",
   "metadata": {},
   "outputs": [
    {
     "data": {
      "text/plain": [
       "2"
      ]
     },
     "execution_count": 3,
     "metadata": {},
     "output_type": "execute_result"
    }
   ],
   "source": [
    "1 + 1"
   ]
  },
  {
   "cell_type": "markdown",
   "id": "f985d595",
   "metadata": {},
   "source": [
    "### Hi\n",
    "This is python.  \n",
    "13. Show the remainder when my_number is divided by 7 "
   ]
  },
  {
   "cell_type": "code",
   "execution_count": 10,
   "id": "4bd8878a",
   "metadata": {},
   "outputs": [
    {
     "name": "stdout",
     "output_type": "stream",
     "text": [
      "2 3 1\n"
     ]
    }
   ],
   "source": [
    "a = 5 // 2\n",
    "b = 2 + 1\n",
    "c = 1 ** 5\n",
    "print(a,b,c)\n"
   ]
  },
  {
   "cell_type": "markdown",
   "id": "a81de9d6",
   "metadata": {},
   "source": [
    "#### Class practice\n",
    "* Part 2 - Working with variables   \n",
    "9. Underneath that one, add a Markdown cell with the title: Numbers   \n",
    "10. Define a variable named my_number and insert the value 500"
   ]
  },
  {
   "cell_type": "code",
   "execution_count": 17,
   "id": "aebc4a88",
   "metadata": {},
   "outputs": [],
   "source": [
    "my_number = 500\n",
    "# define ny_number"
   ]
  },
  {
   "cell_type": "code",
   "execution_count": 12,
   "id": "8e9d23bf",
   "metadata": {},
   "outputs": [
    {
     "data": {
      "text/plain": [
       "500"
      ]
     },
     "execution_count": 12,
     "metadata": {},
     "output_type": "execute_result"
    }
   ],
   "source": [
    "my_number"
   ]
  },
  {
   "cell_type": "code",
   "execution_count": 13,
   "id": "0e1b48a5",
   "metadata": {},
   "outputs": [
    {
     "name": "stdout",
     "output_type": "stream",
     "text": [
      "500\n"
     ]
    }
   ],
   "source": [
    "print(my_number)"
   ]
  },
  {
   "cell_type": "code",
   "execution_count": 22,
   "id": "4d82dd45",
   "metadata": {},
   "outputs": [
    {
     "name": "stdout",
     "output_type": "stream",
     "text": [
      "price is 500\n"
     ]
    }
   ],
   "source": [
    "print('price is ' + str(my_number))\n",
    "# we need to fix same datatype"
   ]
  },
  {
   "cell_type": "markdown",
   "id": "9691f74b",
   "metadata": {},
   "source": [
    "11. Display the value for the variable my_number"
   ]
  },
  {
   "cell_type": "code",
   "execution_count": 29,
   "id": "c2702184",
   "metadata": {},
   "outputs": [
    {
     "name": "stdout",
     "output_type": "stream",
     "text": [
      "The price is 500\n",
      "The price is 500\n"
     ]
    }
   ],
   "source": [
    "print('The price is',my_number)\n",
    "# Whichever is good\n",
    "\n",
    "print(f'The price is {my_number}')\n",
    "# This allow any sentences."
   ]
  },
  {
   "cell_type": "markdown",
   "id": "625c5730",
   "metadata": {},
   "source": [
    "12. Add 30 to the variable, and multiply the result by 2 \n",
    "Display the value for the variable my_number\n"
   ]
  },
  {
   "cell_type": "code",
   "execution_count": 31,
   "id": "e1188cb3",
   "metadata": {},
   "outputs": [
    {
     "data": {
      "text/plain": [
       "1060"
      ]
     },
     "execution_count": 31,
     "metadata": {},
     "output_type": "execute_result"
    }
   ],
   "source": [
    "my_number = (my_number + 30) * 2\n",
    "my_number"
   ]
  },
  {
   "cell_type": "markdown",
   "id": "7a4f7335",
   "metadata": {},
   "source": [
    "13. Show the remainder when my_number is divided by 7 "
   ]
  },
  {
   "cell_type": "code",
   "execution_count": 32,
   "id": "148632a0",
   "metadata": {},
   "outputs": [
    {
     "data": {
      "text/plain": [
       "3"
      ]
     },
     "execution_count": 32,
     "metadata": {},
     "output_type": "execute_result"
    }
   ],
   "source": [
    "my_number % 7"
   ]
  },
  {
   "cell_type": "markdown",
   "id": "9e02e9fc",
   "metadata": {},
   "source": [
    "14. Define a unit_price variable, with the value of 503"
   ]
  },
  {
   "cell_type": "code",
   "execution_count": 33,
   "id": "1d5ca91c",
   "metadata": {},
   "outputs": [],
   "source": [
    "unit_price = 503"
   ]
  },
  {
   "cell_type": "markdown",
   "id": "adea511c",
   "metadata": {},
   "source": [
    "15. Define a qty_sold variable, with the value of 8 "
   ]
  },
  {
   "cell_type": "code",
   "execution_count": 34,
   "id": "49d3bdfe",
   "metadata": {},
   "outputs": [],
   "source": [
    "qty_sold = 8"
   ]
  },
  {
   "cell_type": "markdown",
   "id": "07c3cfbb",
   "metadata": {},
   "source": [
    "16. Using the variables you defined in the previous sections, calculate what amount the customer would pay if he received a 10% discount.     \n",
    "\n",
    "\n",
    "Perform the assignment statement (save the value) to the variable named   \n",
    "* total_price \n",
    "Display the value of the variable"
   ]
  },
  {
   "cell_type": "code",
   "execution_count": 39,
   "id": "be5e88a9",
   "metadata": {},
   "outputs": [
    {
     "data": {
      "text/plain": [
       "3621.6"
      ]
     },
     "execution_count": 39,
     "metadata": {},
     "output_type": "execute_result"
    }
   ],
   "source": [
    "total_price = unit_price * qty_sold * 0.9\n",
    "total_price"
   ]
  },
  {
   "cell_type": "markdown",
   "id": "675d8272",
   "metadata": {},
   "source": [
    "17. Show the result of dividing total_price by 3 "
   ]
  },
  {
   "cell_type": "code",
   "execution_count": 40,
   "id": "1ef812ab",
   "metadata": {},
   "outputs": [
    {
     "data": {
      "text/plain": [
       "1207.0"
      ]
     },
     "execution_count": 40,
     "metadata": {},
     "output_type": "execute_result"
    }
   ],
   "source": [
    "total_price // 3"
   ]
  },
  {
   "cell_type": "code",
   "execution_count": 44,
   "id": "575d6833",
   "metadata": {},
   "outputs": [
    {
     "data": {
      "text/plain": [
       "float"
      ]
     },
     "execution_count": 44,
     "metadata": {},
     "output_type": "execute_result"
    }
   ],
   "source": [
    "type(total_price)\n",
    "# You can know what is data type."
   ]
  },
  {
   "cell_type": "code",
   "execution_count": null,
   "id": "d8a04484",
   "metadata": {},
   "outputs": [
    {
     "data": {
      "text/plain": [
       "True"
      ]
     },
     "execution_count": 48,
     "metadata": {},
     "output_type": "execute_result"
    }
   ],
   "source": [
    "# check all number?\n",
    "product_id = '21'\n",
    "product_id.isdigit()"
   ]
  },
  {
   "cell_type": "markdown",
   "id": "6e570539",
   "metadata": {},
   "source": [
    "18. Show the result of dividing total_price by 3 but show only a whole number "
   ]
  },
  {
   "cell_type": "markdown",
   "id": "bda107cc",
   "metadata": {},
   "source": [
    "19. What is the variable type of total_price?"
   ]
  },
  {
   "cell_type": "markdown",
   "id": "af6e01cf",
   "metadata": {},
   "source": [
    "### Part 3 - Working with Strings, Functions and Useful Methods  \n",
    "20. Define a Markdown cell with the title: String slicing and methods"
   ]
  },
  {
   "cell_type": "markdown",
   "id": "ae5ef9aa",
   "metadata": {},
   "source": [
    "### String slicing and methods"
   ]
  },
  {
   "cell_type": "markdown",
   "id": "c50deb5e",
   "metadata": {},
   "source": [
    "20. Define a Markdown cell with the title: String slicing and methods"
   ]
  },
  {
   "cell_type": "code",
   "execution_count": 49,
   "id": "1960ba5c",
   "metadata": {},
   "outputs": [],
   "source": [
    "my_name = 'Yui Hanamura'"
   ]
  },
  {
   "cell_type": "markdown",
   "id": "2e5f782a",
   "metadata": {},
   "source": [
    "21. Define a new variable named my_name, and put in your name   \n",
    "22. Define a new variable named city, and put in the name of the city where you live"
   ]
  },
  {
   "cell_type": "code",
   "execution_count": 52,
   "id": "b528883d",
   "metadata": {},
   "outputs": [
    {
     "data": {
      "text/plain": [
       "str"
      ]
     },
     "execution_count": 52,
     "metadata": {},
     "output_type": "execute_result"
    }
   ],
   "source": [
    "city = 'New York'\n",
    "type(city)"
   ]
  },
  {
   "cell_type": "markdown",
   "id": "62e54c57",
   "metadata": {},
   "source": [
    "24. Set to print (<> refers to the value in the variable in parentheses):   \n",
    "Welcome <my_name> from <City>, please pay <total_price>"
   ]
  },
  {
   "cell_type": "code",
   "execution_count": 54,
   "id": "368e81b7",
   "metadata": {},
   "outputs": [
    {
     "name": "stdout",
     "output_type": "stream",
     "text": [
      "Welcome Yui Hanamura from New York, please pay 3621.6\n"
     ]
    }
   ],
   "source": [
    "print(f'Welcome {my_name} from {city}, please pay {total_price}')"
   ]
  },
  {
   "cell_type": "markdown",
   "id": "36bf1d99",
   "metadata": {},
   "source": [
    "25. Print the following text accurately:   \n",
    "Hello <my_name>,   \n",
    "It's our first Python lesson    \n",
    "How fun!  =)"
   ]
  },
  {
   "cell_type": "code",
   "execution_count": 85,
   "id": "8efc6579",
   "metadata": {},
   "outputs": [
    {
     "name": "stdout",
     "output_type": "stream",
     "text": [
      "Hello Yui Hanamura, \n",
      " It's our first Python lesson \tHow fun! =)\n"
     ]
    }
   ],
   "source": [
    "print(f\"Hello {my_name}, \\n It's our first Python lesson \\tHow fun! =)\" )"
   ]
  },
  {
   "cell_type": "markdown",
   "id": "6d354085",
   "metadata": {},
   "source": [
    "26. What will be the result of the expression? Think to yourself first and only then   \n",
    "check the software:   \n",
    "\"He\" + \"l\" * 2 + \"o\" + \" Class - \" + \"Python \" + str(100//5) + str(45%23)"
   ]
  },
  {
   "cell_type": "code",
   "execution_count": 87,
   "id": "fd26cb68",
   "metadata": {},
   "outputs": [
    {
     "name": "stdout",
     "output_type": "stream",
     "text": [
      "Hello Class - Python 2022\n"
     ]
    }
   ],
   "source": [
    "print(\"He\" + \"l\" * 2 + \"o\" + \" Class - \" + \"Python \" + str(100//5) + str(45%23))"
   ]
  },
  {
   "cell_type": "markdown",
   "id": "175df5bf",
   "metadata": {},
   "source": [
    "27. Define a new variable named my_address, and put in your full address   \n",
    "28. Print only the first 5 characters  \n",
    "29. Print the last 6 characters   \n",
    "30. Print the address from the beginning to the end in increments of 3  \n",
    "31. Print the address from the end to the beginning\n"
   ]
  },
  {
   "cell_type": "code",
   "execution_count": 96,
   "id": "5d481a37",
   "metadata": {},
   "outputs": [
    {
     "name": "stdout",
     "output_type": "stream",
     "text": [
      "5177s\n",
      "dleySt\n",
      "57dy\n",
      "tSyeldis7715\n"
     ]
    }
   ],
   "source": [
    "my_adress = '5177sidleySt'\n",
    "print(my_adress[:5])\n",
    "print(my_adress[-6:])\n",
    "\n",
    "# step 3 charactor Q30\n",
    "print(my_adress[::3])\n",
    "# last number not include\n",
    "print(my_adress[::-1])"
   ]
  },
  {
   "cell_type": "markdown",
   "id": "426f500f",
   "metadata": {},
   "source": [
    "32. Print the following text exactly as it appears (including line breaks and indentations):     \n",
    "Twinkle, twinkle, little star,   \n",
    "How I wonder what you are!    \n",
    "Up above the world so high, \n",
    "Like a diamond in the sky.    \n",
    "Twinkle, twinkle, little star,    \n",
    "How I wonder what you are"
   ]
  },
  {
   "cell_type": "code",
   "execution_count": 105,
   "id": "f98aa260",
   "metadata": {},
   "outputs": [
    {
     "name": "stdout",
     "output_type": "stream",
     "text": [
      "Twinkle, twinkle, little star,\n",
      "\tHow I wonder what you are!  \n",
      "\t\tUp above the world so high,\n",
      "\t\tLike a diamond in the sky.\n",
      "Twinkle, twinkle, little star,\n",
      " \tHow I wonder what you are \n"
     ]
    }
   ],
   "source": [
    "print(\"Twinkle, twinkle, little star,\\n\\tHow I wonder what you are!  \\n\\t\\tUp above the world so high,\\n\\t\\tLike a diamond in the sky.\\nTwinkle, twinkle, little star,\\n \\tHow I wonder what you are \")"
   ]
  }
 ],
 "metadata": {
  "kernelspec": {
   "display_name": "Python 3",
   "language": "python",
   "name": "python3"
  },
  "language_info": {
   "codemirror_mode": {
    "name": "ipython",
    "version": 3
   },
   "file_extension": ".py",
   "mimetype": "text/x-python",
   "name": "python",
   "nbconvert_exporter": "python",
   "pygments_lexer": "ipython3",
   "version": "3.13.3"
  }
 },
 "nbformat": 4,
 "nbformat_minor": 5
}
