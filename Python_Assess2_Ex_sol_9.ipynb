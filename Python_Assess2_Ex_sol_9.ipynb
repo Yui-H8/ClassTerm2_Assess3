{
 "cells": [
  {
   "cell_type": "markdown",
   "id": "fb49e164",
   "metadata": {},
   "source": [
    "### TECH-DA104-4 / Assess 2      \n",
    "\n",
    "---\n",
    "#### Lesson 9 Conditions, Loops and Functions\n",
    "##### Part 1 - Conditions (IF Block)  \n",
    "---\n",
    "Python Unit – Class practice booklet   \n",
    "Yui Hanamura / student No: 24904\n",
    "\n"
   ]
  },
  {
   "cell_type": "markdown",
   "id": "4ed4ae63",
   "metadata": {},
   "source": [
    " \n",
    "1. Open a new folder on your desktop named Python_Class \n",
    "2. Go to the folder you opened, and create a new notebook called Ex_sol_9 \n",
    "(Make sure that a notebook has been opened in the desired location) \n",
    "3. Add a Markdown cell containing the title: Conditions\n",
    "\n",
    "### Conditions"
   ]
  },
  {
   "cell_type": "markdown",
   "id": "7c2cc009",
   "metadata": {},
   "source": [
    "4. Manually calculate the following (without copying and running this in the jupyter notebook), what is the answer for this code snippet: "
   ]
  },
  {
   "cell_type": "code",
   "execution_count": 1,
   "id": "78c7e43a",
   "metadata": {},
   "outputs": [
    {
     "name": "stdout",
     "output_type": "stream",
     "text": [
      "x is less than 3\n"
     ]
    }
   ],
   "source": [
    "x = 2 \n",
    "if x == 3: \n",
    "    print(\"x is 3\") \n",
    "elif x < 3: \n",
    "    print(\"x is less than 3\") \n",
    "else: \n",
    "    print(\"x is more than 3\")\n",
    "\n",
    "# An if statement in which the output results depend on the value of X"
   ]
  },
  {
   "cell_type": "markdown",
   "id": "c1eb74d7",
   "metadata": {},
   "source": [
    "5. Define a variable named my_num, and update it with any number you choose \n",
    "Write a conditional block so that: \n",
    "* If my_num is less than 1000, \"Not Expensive\" will be printed \n",
    "* If between 1000 and 1500, \"Expensive\" is printed  \n",
    "* And if above 1500, \"Very Expensive\" will be printed"
   ]
  },
  {
   "cell_type": "code",
   "execution_count": 2,
   "id": "6b2dcce6",
   "metadata": {},
   "outputs": [
    {
     "name": "stdout",
     "output_type": "stream",
     "text": [
      "Expensive\n"
     ]
    }
   ],
   "source": [
    "\n",
    "my_num = 1200\n",
    "if my_num < 1000:\n",
    "    print(\"Not Expensive\")\n",
    "elif 1000 <= my_num <= 1500:\n",
    "    print(\"Expensive\")\n",
    "else:\n",
    "    print(\"Very Expensive\")\n",
    "\n",
    "# An if statement in which the output results depend on the value of my_num"
   ]
  },
  {
   "cell_type": "markdown",
   "id": "740fbbb1",
   "metadata": {},
   "source": [
    "6. Define a variable named chosen_food, and insert your favorite food (insert = place a value into the variable ) \n"
   ]
  },
  {
   "cell_type": "code",
   "execution_count": 3,
   "id": "ec6e2f00",
   "metadata": {},
   "outputs": [
    {
     "name": "stdout",
     "output_type": "stream",
     "text": [
      "Let's eat!\n"
     ]
    }
   ],
   "source": [
    "choosen_food = \"Pizza\"\n",
    "# 7. Write a conditional block that will check the value in the chosen_food variable:\n",
    "type(choosen_food)\n",
    "# a. If the name of the dish is fewer than 5 characters long:  Print the name of the dish 5 times in the same line\n",
    "# b. If the name of the dish is 5-10 characters in total, print: \"Let's eat!\" \n",
    "# c. If the name of the dish is over 10 characters, type: \"Next time\" \n",
    "if len(choosen_food) < 5:\n",
    "    print(choosen_food * 5)\n",
    "elif len(choosen_food) <= 10:\n",
    "    print(\"Let's eat!\")\n",
    "else:\n",
    "    print(\"Next time\")\n",
    "\n",
    "# An if statement that branches the output depending on the number of characters in chosen_food\n"
   ]
  },
  {
   "cell_type": "markdown",
   "id": "e4e0a650",
   "metadata": {},
   "source": [
    "8. Define two variables: \n",
    "*  a. full_name - Update the value with your full name \n",
    "*  b. birth_year - Update the value with your year of birth"
   ]
  },
  {
   "cell_type": "code",
   "execution_count": 4,
   "id": "aab445ad",
   "metadata": {},
   "outputs": [],
   "source": [
    "full_name = \"Yui Hanamura\" \n",
    "birth_year = 1983"
   ]
  },
  {
   "cell_type": "markdown",
   "id": "a09b67e8",
   "metadata": {},
   "source": [
    "9. Use conditions to print the following output: \n",
    "* a. If your full name is up to 10 characters (but not including) - Print your full name from the end to the beginning (backwards)   \n",
    "\n",
    "  For example: if your full name is Gal Gadot >> todaG laG\n",
    "* b. If your full name is between 10 characters (including) and 14 characters (but not including) - Print:  <full name> was born in <birth_year>\n",
    "*  c. If your full name is longer than 14 characters, print your name by skipping every other character (that is, the first character will be printed, the next character will not be printed) \n"
   ]
  },
  {
   "cell_type": "code",
   "execution_count": 5,
   "id": "fbf8a3be",
   "metadata": {},
   "outputs": [
    {
     "name": "stdout",
     "output_type": "stream",
     "text": [
      "Yui Hanamura was born in 1983\n"
     ]
    }
   ],
   "source": [
    "full_name = \"Yui Hanamura\" \n",
    "birth_year = 1983\n",
    "if len(full_name) < 10:\n",
    "    print(full_name[::-1])\n",
    "elif len(full_name) < 14:\n",
    "    print(f'{full_name} was born in {birth_year}')\n",
    "else:\n",
    "    print(full_name[::2])\n",
    "\n",
    "# An if statement that branches the output depending on the number of characters in full_name. \n",
    "# he result may be a skipped number or include the age."
   ]
  },
  {
   "cell_type": "markdown",
   "id": "0aead087",
   "metadata": {},
   "source": [
    "#### Part 2 - Loops: For, while \n",
    "10. Open a new cell and turn it into a Markdown cell, and place the following main header: Loops \n",
    "11. Define a variable called: name. Put your full name in it"
   ]
  },
  {
   "cell_type": "markdown",
   "id": "98135bfa",
   "metadata": {},
   "source": [
    "### Loops"
   ]
  },
  {
   "cell_type": "markdown",
   "id": "794ea72f",
   "metadata": {},
   "source": [
    "12. Using a loop, print out your name as follows (each row with a different letter, and using only uppercase letters)"
   ]
  },
  {
   "cell_type": "code",
   "execution_count": 6,
   "id": "ee202c8c",
   "metadata": {},
   "outputs": [
    {
     "name": "stdout",
     "output_type": "stream",
     "text": [
      "Y\n",
      "U\n",
      "I\n",
      " \n",
      "H\n",
      "A\n",
      "N\n",
      "A\n",
      "M\n",
      "U\n",
      "R\n",
      "A\n"
     ]
    }
   ],
   "source": [
    "name = \"Yui Hanamura\"\n",
    "for letter in name.upper():\n",
    "    print(letter)\n",
    "\n",
    "# Output each character in uppercase"
   ]
  },
  {
   "cell_type": "code",
   "execution_count": 7,
   "id": "04018053",
   "metadata": {},
   "outputs": [
    {
     "name": "stdout",
     "output_type": "stream",
     "text": [
      "Y\n",
      "U\n",
      "I\n",
      " \n",
      "H\n",
      "A\n",
      "N\n",
      "A\n",
      "M\n",
      "U\n",
      "R\n",
      "A\n"
     ]
    }
   ],
   "source": [
    "# Same result, different code\n",
    "name = \"Yui Hanamura\"\n",
    "for letter in name:\n",
    "    print(f'{letter.upper()}')"
   ]
  },
  {
   "cell_type": "markdown",
   "id": "a6864aa0",
   "metadata": {},
   "source": [
    "13. The Fibonacci series is the series whose first two numbers are 0, 1 and each number thereafter is equal to the sum of its two predecessors. Therefore, the first several numbers of the series are:    \n",
    " 0, 1, 1, 2, 3, 5, 8, 13, 21…\n",
    "\n",
    "* Write a code that goes uses the numbers from 0 to 50, and produces a Fibonacci series\n"
   ]
  },
  {
   "cell_type": "code",
   "execution_count": null,
   "id": "3a4457fe",
   "metadata": {},
   "outputs": [
    {
     "name": "stdout",
     "output_type": "stream",
     "text": [
      "[0, 1, 1, 2, 3, 5, 8, 13, 21, 34, 55, 89, 144, 233, 377, 610, 987, 1597, 2584, 4181, 6765, 10946, 17711, 28657, 46368, 75025, 121393, 196418, 317811, 514229, 832040, 1346269, 2178309, 3524578, 5702887, 9227465, 14930352, 24157817, 39088169, 63245986, 102334155, 165580141, 267914296, 433494437, 701408733, 1134903170, 1836311903, 2971215073, 4807526976, 7778742049]\n"
     ]
    }
   ],
   "source": [
    "# AI output Fibonacci sequence\n",
    "def fibonacci_series(n):\n",
    "    fib_sequence = [0, 1]\n",
    "    while len(fib_sequence) < n:\n",
    "        next_value = fib_sequence[-1] + fib_sequence[-2]\n",
    "        fib_sequence.append(next_value)\n",
    "    return fib_sequence\n",
    "fib_sequence = fibonacci_series(50)\n",
    "print(fib_sequence)"
   ]
  },
  {
   "cell_type": "code",
   "execution_count": 9,
   "id": "d28e7c8a",
   "metadata": {},
   "outputs": [
    {
     "name": "stdout",
     "output_type": "stream",
     "text": [
      "1 1 2 3 5 8 13 21 34 "
     ]
    }
   ],
   "source": [
    "x, y = 0, 1\n",
    "while y < 50:\n",
    "    print(y, end=' ')\n",
    "    x, y = y, x + y\n",
    "# A simple Fibonacci sequence output. \n",
    "# The previous two values ​​are added together and written consecutively."
   ]
  },
  {
   "cell_type": "markdown",
   "id": "597b861e",
   "metadata": {},
   "source": [
    "Part 3 - User Functions    \n",
    "14. Define a Markdown cell named User function"
   ]
  },
  {
   "cell_type": "markdown",
   "id": "46908487",
   "metadata": {},
   "source": [
    "### User function "
   ]
  },
  {
   "cell_type": "markdown",
   "id": "382f1f7d",
   "metadata": {},
   "source": [
    "15. Create a function called multiple, which receives a list, and doubles all the items in the list\n",
    "\n"
   ]
  },
  {
   "cell_type": "code",
   "execution_count": 11,
   "id": "ae6bd3d5",
   "metadata": {},
   "outputs": [
    {
     "data": {
      "text/plain": [
       "120"
      ]
     },
     "execution_count": 11,
     "metadata": {},
     "output_type": "execute_result"
    }
   ],
   "source": [
    "def multiply(numbers):\n",
    "    result = 1\n",
    "    for number in numbers:\n",
    "        result *= number\n",
    "    return result\n",
    "numbers = [1, 2, 3, 4, 5]\n",
    "multiply(numbers)\n",
    "\n",
    "# Multiply all numbers from 1 to 5. \n",
    "# The range of numbers is specified in the second half."
   ]
  },
  {
   "cell_type": "markdown",
   "id": "227d7db5",
   "metadata": {},
   "source": [
    "16. Create a function that receives a list and returns a list with only the even numbers\n"
   ]
  },
  {
   "cell_type": "code",
   "execution_count": null,
   "id": "1fb5ef74",
   "metadata": {},
   "outputs": [
    {
     "data": {
      "text/plain": [
       "[2, 4, 6, 8, 10]"
      ]
     },
     "execution_count": 12,
     "metadata": {},
     "output_type": "execute_result"
    }
   ],
   "source": [
    "def is_even(thelist):\n",
    "    result = []\n",
    "    for number in thelist:\n",
    "        if number % 2 == 0:\n",
    "            result.append(number)\n",
    "    return result\n",
    "\n",
    "thelist = [1, 2, 3, 4, 5, 6, 7, 8, 9, 10]\n",
    "is_even(thelist)\n",
    "# A function that returns a list of even numbers from the given list."
   ]
  },
  {
   "cell_type": "markdown",
   "id": "4a802e02",
   "metadata": {},
   "source": [
    "17. Import the Pandas Library to the notebook \n",
    "18. Import the police.csv file into the df Only import the columns driver_gender, driver_age, and violation \n"
   ]
  },
  {
   "cell_type": "code",
   "execution_count": 13,
   "id": "9a753f28",
   "metadata": {},
   "outputs": [
    {
     "data": {
      "application/vnd.microsoft.datawrangler.viewer.v0+json": {
       "columns": [
        {
         "name": "index",
         "rawType": "int64",
         "type": "integer"
        },
        {
         "name": "driver_gender",
         "rawType": "object",
         "type": "unknown"
        },
        {
         "name": "driver_age",
         "rawType": "float64",
         "type": "float"
        },
        {
         "name": "violation",
         "rawType": "object",
         "type": "unknown"
        }
       ],
       "ref": "33fd849b-31f8-403d-b8c8-b02ad20b62e9",
       "rows": [
        [
         "0",
         "M",
         "20.0",
         "Speeding"
        ],
        [
         "1",
         "M",
         "40.0",
         "Speeding"
        ],
        [
         "2",
         "M",
         "33.0",
         "Speeding"
        ],
        [
         "3",
         "M",
         "19.0",
         "Other"
        ],
        [
         "4",
         "F",
         "21.0",
         "Speeding"
        ],
        [
         "5",
         "M",
         "23.0",
         "Equipment"
        ],
        [
         "6",
         "M",
         "36.0",
         "Speeding"
        ],
        [
         "7",
         "F",
         "19.0",
         "Speeding"
        ],
        [
         "8",
         "M",
         "35.0",
         "Speeding"
        ],
        [
         "9",
         "M",
         "35.0",
         "Speeding"
        ],
        [
         "10",
         "M",
         "26.0",
         "Speeding"
        ],
        [
         "11",
         "F",
         "39.0",
         "Speeding"
        ],
        [
         "12",
         "M",
         "26.0",
         "Speeding"
        ],
        [
         "13",
         "F",
         "21.0",
         "Speeding"
        ],
        [
         "14",
         "M",
         "36.0",
         "Speeding"
        ],
        [
         "15",
         "M",
         "23.0",
         "Speeding"
        ],
        [
         "16",
         "M",
         "23.0",
         "Speeding"
        ],
        [
         "17",
         "M",
         "26.0",
         "Equipment"
        ],
        [
         "18",
         "M",
         "50.0",
         "Speeding"
        ],
        [
         "19",
         "F",
         "47.0",
         "Speeding"
        ],
        [
         "20",
         "F",
         "26.0",
         "Speeding"
        ],
        [
         "21",
         "M",
         "52.0",
         "Moving violation"
        ],
        [
         "22",
         "M",
         "50.0",
         "Moving violation"
        ],
        [
         "23",
         "F",
         "38.0",
         "Speeding"
        ],
        [
         "24",
         "M",
         "26.0",
         "Moving violation"
        ],
        [
         "25",
         null,
         null,
         null
        ],
        [
         "26",
         "M",
         "41.0",
         "Speeding"
        ],
        [
         "27",
         "F",
         "28.0",
         "Speeding"
        ],
        [
         "28",
         "M",
         "21.0",
         "Speeding"
        ],
        [
         "29",
         null,
         null,
         null
        ],
        [
         "30",
         "M",
         "46.0",
         "Moving violation"
        ],
        [
         "31",
         "M",
         "23.0",
         "Speeding"
        ],
        [
         "32",
         "M",
         "32.0",
         "Speeding"
        ],
        [
         "33",
         "M",
         "52.0",
         "Moving violation"
        ],
        [
         "34",
         "M",
         "58.0",
         "Speeding"
        ],
        [
         "35",
         "M",
         "27.0",
         "Equipment"
        ],
        [
         "36",
         "F",
         "19.0",
         "Speeding"
        ],
        [
         "37",
         "M",
         "43.0",
         "Speeding"
        ],
        [
         "38",
         "M",
         "24.0",
         "Speeding"
        ],
        [
         "39",
         "M",
         "17.0",
         "Speeding"
        ],
        [
         "40",
         "M",
         "17.0",
         "Equipment"
        ],
        [
         "41",
         "M",
         "17.0",
         "Equipment"
        ],
        [
         "42",
         "M",
         "28.0",
         "Moving violation"
        ],
        [
         "43",
         "M",
         "20.0",
         "Speeding"
        ],
        [
         "44",
         "M",
         "22.0",
         "Speeding"
        ],
        [
         "45",
         "M",
         "44.0",
         "Moving violation"
        ],
        [
         "46",
         "M",
         "46.0",
         "Equipment"
        ],
        [
         "47",
         "M",
         "33.0",
         "Speeding"
        ],
        [
         "48",
         "M",
         "48.0",
         "Speeding"
        ],
        [
         "49",
         "M",
         "34.0",
         "Equipment"
        ]
       ],
       "shape": {
        "columns": 3,
        "rows": 91741
       }
      },
      "text/html": [
       "<div>\n",
       "<style scoped>\n",
       "    .dataframe tbody tr th:only-of-type {\n",
       "        vertical-align: middle;\n",
       "    }\n",
       "\n",
       "    .dataframe tbody tr th {\n",
       "        vertical-align: top;\n",
       "    }\n",
       "\n",
       "    .dataframe thead th {\n",
       "        text-align: right;\n",
       "    }\n",
       "</style>\n",
       "<table border=\"1\" class=\"dataframe\">\n",
       "  <thead>\n",
       "    <tr style=\"text-align: right;\">\n",
       "      <th></th>\n",
       "      <th>driver_gender</th>\n",
       "      <th>driver_age</th>\n",
       "      <th>violation</th>\n",
       "    </tr>\n",
       "  </thead>\n",
       "  <tbody>\n",
       "    <tr>\n",
       "      <th>0</th>\n",
       "      <td>M</td>\n",
       "      <td>20.0</td>\n",
       "      <td>Speeding</td>\n",
       "    </tr>\n",
       "    <tr>\n",
       "      <th>1</th>\n",
       "      <td>M</td>\n",
       "      <td>40.0</td>\n",
       "      <td>Speeding</td>\n",
       "    </tr>\n",
       "    <tr>\n",
       "      <th>2</th>\n",
       "      <td>M</td>\n",
       "      <td>33.0</td>\n",
       "      <td>Speeding</td>\n",
       "    </tr>\n",
       "    <tr>\n",
       "      <th>3</th>\n",
       "      <td>M</td>\n",
       "      <td>19.0</td>\n",
       "      <td>Other</td>\n",
       "    </tr>\n",
       "    <tr>\n",
       "      <th>4</th>\n",
       "      <td>F</td>\n",
       "      <td>21.0</td>\n",
       "      <td>Speeding</td>\n",
       "    </tr>\n",
       "    <tr>\n",
       "      <th>...</th>\n",
       "      <td>...</td>\n",
       "      <td>...</td>\n",
       "      <td>...</td>\n",
       "    </tr>\n",
       "    <tr>\n",
       "      <th>91736</th>\n",
       "      <td>M</td>\n",
       "      <td>29.0</td>\n",
       "      <td>Speeding</td>\n",
       "    </tr>\n",
       "    <tr>\n",
       "      <th>91737</th>\n",
       "      <td>F</td>\n",
       "      <td>33.0</td>\n",
       "      <td>Equipment</td>\n",
       "    </tr>\n",
       "    <tr>\n",
       "      <th>91738</th>\n",
       "      <td>M</td>\n",
       "      <td>23.0</td>\n",
       "      <td>Moving violation</td>\n",
       "    </tr>\n",
       "    <tr>\n",
       "      <th>91739</th>\n",
       "      <td>M</td>\n",
       "      <td>22.0</td>\n",
       "      <td>Speeding</td>\n",
       "    </tr>\n",
       "    <tr>\n",
       "      <th>91740</th>\n",
       "      <td>M</td>\n",
       "      <td>56.0</td>\n",
       "      <td>Speeding</td>\n",
       "    </tr>\n",
       "  </tbody>\n",
       "</table>\n",
       "<p>91741 rows × 3 columns</p>\n",
       "</div>"
      ],
      "text/plain": [
       "      driver_gender  driver_age         violation\n",
       "0                 M        20.0          Speeding\n",
       "1                 M        40.0          Speeding\n",
       "2                 M        33.0          Speeding\n",
       "3                 M        19.0             Other\n",
       "4                 F        21.0          Speeding\n",
       "...             ...         ...               ...\n",
       "91736             M        29.0          Speeding\n",
       "91737             F        33.0         Equipment\n",
       "91738             M        23.0  Moving violation\n",
       "91739             M        22.0          Speeding\n",
       "91740             M        56.0          Speeding\n",
       "\n",
       "[91741 rows x 3 columns]"
      ]
     },
     "execution_count": 13,
     "metadata": {},
     "output_type": "execute_result"
    }
   ],
   "source": [
    "import pandas as pd\n",
    "# Installing required packages every time\n",
    "\n",
    "df = pd.read_csv('police.csv', usecols=['driver_gender', 'driver_age', 'violation'])\n",
    "df\n",
    "# Extract police files in the same folder by specifying columns"
   ]
  },
  {
   "cell_type": "markdown",
   "id": "c5630515",
   "metadata": {},
   "source": [
    "19. Define a user function called get_age_category, which accepts an integer representing the age (for example 18, 26, 68) and returns the age group according to the following rules:\n",
    "* a. Less than 18 → ‘0 to 18’ \n",
    "* b. Between 18 (inclusive) and 30 (not inclusive) → ‘18 to 30’ \n",
    "* c. Between 30 (inclusive) and 42 (not inclusive) → ‘30 to 42’ \n",
    "* d. Between 42 (inclusive) and 54 (not inclusive) → ‘42 to 54’ \n",
    "* e. Between 54 (inclusive) and 66 (not inclusive) → ‘54 to 66’ \n",
    "* f. 66 (inclusive) and above → ‘66 +’ "
   ]
  },
  {
   "cell_type": "code",
   "execution_count": 14,
   "id": "b2c2ac0b",
   "metadata": {},
   "outputs": [
    {
     "data": {
      "text/plain": [
       "'18 to 30'"
      ]
     },
     "execution_count": 14,
     "metadata": {},
     "output_type": "execute_result"
    }
   ],
   "source": [
    "def get_age_category(age):\n",
    "    if age < 18:\n",
    "        return '0 to 18'\n",
    "    elif 18 <= age < 30:\n",
    "        return '18 to 30'\n",
    "    elif 30 <= age < 42:\n",
    "        return '30 to 42'\n",
    "    elif 42 <= age < 54:\n",
    "        return '42 to 54'\n",
    "    elif 54 <= age < 66:\n",
    "        return '54 to 66'\n",
    "    else:\n",
    "        return '66 +'\n",
    "get_age_category(25)  \n",
    "\n",
    "# Six age categories are specified,\n",
    "#  and the final number entered is used to make a judgment."
   ]
  },
  {
   "cell_type": "markdown",
   "id": "b15c24bc",
   "metadata": {},
   "source": [
    "20. Check if the function is working properly by calling to the function and entering appropriate arguments (e.g. 5, 18, 70) \n",
    "If the function returns correct results, proceed to the next section. \n",
    "If the function does not work properly - fix it and check again "
   ]
  },
  {
   "cell_type": "code",
   "execution_count": 15,
   "id": "2da403ab",
   "metadata": {},
   "outputs": [
    {
     "data": {
      "text/plain": [
       "'0 to 18'"
      ]
     },
     "execution_count": 15,
     "metadata": {},
     "output_type": "execute_result"
    }
   ],
   "source": [
    "get_age_category(2)  "
   ]
  },
  {
   "cell_type": "code",
   "execution_count": 16,
   "id": "620856c1",
   "metadata": {},
   "outputs": [
    {
     "data": {
      "text/plain": [
       "'54 to 66'"
      ]
     },
     "execution_count": 16,
     "metadata": {},
     "output_type": "execute_result"
    }
   ],
   "source": [
    "get_age_category(65)  "
   ]
  },
  {
   "cell_type": "code",
   "execution_count": 17,
   "id": "dc7a524e",
   "metadata": {},
   "outputs": [
    {
     "data": {
      "text/plain": [
       "'42 to 54'"
      ]
     },
     "execution_count": 17,
     "metadata": {},
     "output_type": "execute_result"
    }
   ],
   "source": [
    "get_age_category(44)  "
   ]
  },
  {
   "cell_type": "markdown",
   "id": "634b0cc0",
   "metadata": {},
   "source": [
    "21. Add a new column to the table called age_category, which will contain the age category of the person who was stopped, by running the get_age_category function on the driver_age column\n"
   ]
  },
  {
   "cell_type": "code",
   "execution_count": 18,
   "id": "055c1415",
   "metadata": {},
   "outputs": [
    {
     "data": {
      "application/vnd.microsoft.datawrangler.viewer.v0+json": {
       "columns": [
        {
         "name": "index",
         "rawType": "int64",
         "type": "integer"
        },
        {
         "name": "driver_gender",
         "rawType": "object",
         "type": "unknown"
        },
        {
         "name": "driver_age",
         "rawType": "float64",
         "type": "float"
        },
        {
         "name": "violation",
         "rawType": "object",
         "type": "unknown"
        },
        {
         "name": "age_category",
         "rawType": "object",
         "type": "string"
        }
       ],
       "ref": "8c99f329-253d-47e5-90d5-72f8e0fc16aa",
       "rows": [
        [
         "0",
         "M",
         "20.0",
         "Speeding",
         "18 to 30"
        ],
        [
         "1",
         "M",
         "40.0",
         "Speeding",
         "30 to 42"
        ],
        [
         "2",
         "M",
         "33.0",
         "Speeding",
         "30 to 42"
        ],
        [
         "3",
         "M",
         "19.0",
         "Other",
         "18 to 30"
        ],
        [
         "4",
         "F",
         "21.0",
         "Speeding",
         "18 to 30"
        ],
        [
         "5",
         "M",
         "23.0",
         "Equipment",
         "18 to 30"
        ],
        [
         "6",
         "M",
         "36.0",
         "Speeding",
         "30 to 42"
        ],
        [
         "7",
         "F",
         "19.0",
         "Speeding",
         "18 to 30"
        ],
        [
         "8",
         "M",
         "35.0",
         "Speeding",
         "30 to 42"
        ],
        [
         "9",
         "M",
         "35.0",
         "Speeding",
         "30 to 42"
        ],
        [
         "10",
         "M",
         "26.0",
         "Speeding",
         "18 to 30"
        ],
        [
         "11",
         "F",
         "39.0",
         "Speeding",
         "30 to 42"
        ],
        [
         "12",
         "M",
         "26.0",
         "Speeding",
         "18 to 30"
        ],
        [
         "13",
         "F",
         "21.0",
         "Speeding",
         "18 to 30"
        ],
        [
         "14",
         "M",
         "36.0",
         "Speeding",
         "30 to 42"
        ],
        [
         "15",
         "M",
         "23.0",
         "Speeding",
         "18 to 30"
        ],
        [
         "16",
         "M",
         "23.0",
         "Speeding",
         "18 to 30"
        ],
        [
         "17",
         "M",
         "26.0",
         "Equipment",
         "18 to 30"
        ],
        [
         "18",
         "M",
         "50.0",
         "Speeding",
         "42 to 54"
        ],
        [
         "19",
         "F",
         "47.0",
         "Speeding",
         "42 to 54"
        ],
        [
         "20",
         "F",
         "26.0",
         "Speeding",
         "18 to 30"
        ],
        [
         "21",
         "M",
         "52.0",
         "Moving violation",
         "42 to 54"
        ],
        [
         "22",
         "M",
         "50.0",
         "Moving violation",
         "42 to 54"
        ],
        [
         "23",
         "F",
         "38.0",
         "Speeding",
         "30 to 42"
        ],
        [
         "24",
         "M",
         "26.0",
         "Moving violation",
         "18 to 30"
        ],
        [
         "25",
         null,
         null,
         null,
         "66 +"
        ],
        [
         "26",
         "M",
         "41.0",
         "Speeding",
         "30 to 42"
        ],
        [
         "27",
         "F",
         "28.0",
         "Speeding",
         "18 to 30"
        ],
        [
         "28",
         "M",
         "21.0",
         "Speeding",
         "18 to 30"
        ],
        [
         "29",
         null,
         null,
         null,
         "66 +"
        ],
        [
         "30",
         "M",
         "46.0",
         "Moving violation",
         "42 to 54"
        ],
        [
         "31",
         "M",
         "23.0",
         "Speeding",
         "18 to 30"
        ],
        [
         "32",
         "M",
         "32.0",
         "Speeding",
         "30 to 42"
        ],
        [
         "33",
         "M",
         "52.0",
         "Moving violation",
         "42 to 54"
        ],
        [
         "34",
         "M",
         "58.0",
         "Speeding",
         "54 to 66"
        ],
        [
         "35",
         "M",
         "27.0",
         "Equipment",
         "18 to 30"
        ],
        [
         "36",
         "F",
         "19.0",
         "Speeding",
         "18 to 30"
        ],
        [
         "37",
         "M",
         "43.0",
         "Speeding",
         "42 to 54"
        ],
        [
         "38",
         "M",
         "24.0",
         "Speeding",
         "18 to 30"
        ],
        [
         "39",
         "M",
         "17.0",
         "Speeding",
         "0 to 18"
        ],
        [
         "40",
         "M",
         "17.0",
         "Equipment",
         "0 to 18"
        ],
        [
         "41",
         "M",
         "17.0",
         "Equipment",
         "0 to 18"
        ],
        [
         "42",
         "M",
         "28.0",
         "Moving violation",
         "18 to 30"
        ],
        [
         "43",
         "M",
         "20.0",
         "Speeding",
         "18 to 30"
        ],
        [
         "44",
         "M",
         "22.0",
         "Speeding",
         "18 to 30"
        ],
        [
         "45",
         "M",
         "44.0",
         "Moving violation",
         "42 to 54"
        ],
        [
         "46",
         "M",
         "46.0",
         "Equipment",
         "42 to 54"
        ],
        [
         "47",
         "M",
         "33.0",
         "Speeding",
         "30 to 42"
        ],
        [
         "48",
         "M",
         "48.0",
         "Speeding",
         "42 to 54"
        ],
        [
         "49",
         "M",
         "34.0",
         "Equipment",
         "30 to 42"
        ]
       ],
       "shape": {
        "columns": 4,
        "rows": 91741
       }
      },
      "text/html": [
       "<div>\n",
       "<style scoped>\n",
       "    .dataframe tbody tr th:only-of-type {\n",
       "        vertical-align: middle;\n",
       "    }\n",
       "\n",
       "    .dataframe tbody tr th {\n",
       "        vertical-align: top;\n",
       "    }\n",
       "\n",
       "    .dataframe thead th {\n",
       "        text-align: right;\n",
       "    }\n",
       "</style>\n",
       "<table border=\"1\" class=\"dataframe\">\n",
       "  <thead>\n",
       "    <tr style=\"text-align: right;\">\n",
       "      <th></th>\n",
       "      <th>driver_gender</th>\n",
       "      <th>driver_age</th>\n",
       "      <th>violation</th>\n",
       "      <th>age_category</th>\n",
       "    </tr>\n",
       "  </thead>\n",
       "  <tbody>\n",
       "    <tr>\n",
       "      <th>0</th>\n",
       "      <td>M</td>\n",
       "      <td>20.0</td>\n",
       "      <td>Speeding</td>\n",
       "      <td>18 to 30</td>\n",
       "    </tr>\n",
       "    <tr>\n",
       "      <th>1</th>\n",
       "      <td>M</td>\n",
       "      <td>40.0</td>\n",
       "      <td>Speeding</td>\n",
       "      <td>30 to 42</td>\n",
       "    </tr>\n",
       "    <tr>\n",
       "      <th>2</th>\n",
       "      <td>M</td>\n",
       "      <td>33.0</td>\n",
       "      <td>Speeding</td>\n",
       "      <td>30 to 42</td>\n",
       "    </tr>\n",
       "    <tr>\n",
       "      <th>3</th>\n",
       "      <td>M</td>\n",
       "      <td>19.0</td>\n",
       "      <td>Other</td>\n",
       "      <td>18 to 30</td>\n",
       "    </tr>\n",
       "    <tr>\n",
       "      <th>4</th>\n",
       "      <td>F</td>\n",
       "      <td>21.0</td>\n",
       "      <td>Speeding</td>\n",
       "      <td>18 to 30</td>\n",
       "    </tr>\n",
       "    <tr>\n",
       "      <th>...</th>\n",
       "      <td>...</td>\n",
       "      <td>...</td>\n",
       "      <td>...</td>\n",
       "      <td>...</td>\n",
       "    </tr>\n",
       "    <tr>\n",
       "      <th>91736</th>\n",
       "      <td>M</td>\n",
       "      <td>29.0</td>\n",
       "      <td>Speeding</td>\n",
       "      <td>18 to 30</td>\n",
       "    </tr>\n",
       "    <tr>\n",
       "      <th>91737</th>\n",
       "      <td>F</td>\n",
       "      <td>33.0</td>\n",
       "      <td>Equipment</td>\n",
       "      <td>30 to 42</td>\n",
       "    </tr>\n",
       "    <tr>\n",
       "      <th>91738</th>\n",
       "      <td>M</td>\n",
       "      <td>23.0</td>\n",
       "      <td>Moving violation</td>\n",
       "      <td>18 to 30</td>\n",
       "    </tr>\n",
       "    <tr>\n",
       "      <th>91739</th>\n",
       "      <td>M</td>\n",
       "      <td>22.0</td>\n",
       "      <td>Speeding</td>\n",
       "      <td>18 to 30</td>\n",
       "    </tr>\n",
       "    <tr>\n",
       "      <th>91740</th>\n",
       "      <td>M</td>\n",
       "      <td>56.0</td>\n",
       "      <td>Speeding</td>\n",
       "      <td>54 to 66</td>\n",
       "    </tr>\n",
       "  </tbody>\n",
       "</table>\n",
       "<p>91741 rows × 4 columns</p>\n",
       "</div>"
      ],
      "text/plain": [
       "      driver_gender  driver_age         violation age_category\n",
       "0                 M        20.0          Speeding     18 to 30\n",
       "1                 M        40.0          Speeding     30 to 42\n",
       "2                 M        33.0          Speeding     30 to 42\n",
       "3                 M        19.0             Other     18 to 30\n",
       "4                 F        21.0          Speeding     18 to 30\n",
       "...             ...         ...               ...          ...\n",
       "91736             M        29.0          Speeding     18 to 30\n",
       "91737             F        33.0         Equipment     30 to 42\n",
       "91738             M        23.0  Moving violation     18 to 30\n",
       "91739             M        22.0          Speeding     18 to 30\n",
       "91740             M        56.0          Speeding     54 to 66\n",
       "\n",
       "[91741 rows x 4 columns]"
      ]
     },
     "execution_count": 18,
     "metadata": {},
     "output_type": "execute_result"
    }
   ],
   "source": [
    "df['age_category'] = df['driver_age'].apply(get_age_category)\n",
    "df\n",
    "# Add the six categories created in all questions to the data frame\n"
   ]
  },
  {
   "cell_type": "markdown",
   "id": "02250d70",
   "metadata": {},
   "source": [
    "22. Calculate how many traffic offenses are associated with each age category (age_category) \n"
   ]
  },
  {
   "cell_type": "code",
   "execution_count": 28,
   "id": "9929637d",
   "metadata": {},
   "outputs": [
    {
     "data": {
      "application/vnd.microsoft.datawrangler.viewer.v0+json": {
       "columns": [
        {
         "name": "age_category",
         "rawType": "object",
         "type": "string"
        },
        {
         "name": "count",
         "rawType": "int64",
         "type": "integer"
        }
       ],
       "ref": "22846e24-9232-4929-993e-826faf248c15",
       "rows": [
        [
         "18 to 30",
         "39954"
        ],
        [
         "30 to 42",
         "22050"
        ],
        [
         "42 to 54",
         "15427"
        ],
        [
         "66 +",
         "6942"
        ],
        [
         "54 to 66",
         "6733"
        ],
        [
         "0 to 18",
         "635"
        ]
       ],
       "shape": {
        "columns": 1,
        "rows": 6
       }
      },
      "text/plain": [
       "age_category\n",
       "18 to 30    39954\n",
       "30 to 42    22050\n",
       "42 to 54    15427\n",
       "66 +         6942\n",
       "54 to 66     6733\n",
       "0 to 18       635\n",
       "Name: count, dtype: int64"
      ]
     },
     "execution_count": 28,
     "metadata": {},
     "output_type": "execute_result"
    }
   ],
   "source": [
    "age_category_counts = df['age_category'].value_counts()\n",
    "age_category_counts\n",
    "# Counting people by category"
   ]
  },
  {
   "cell_type": "markdown",
   "id": "32dff9c6",
   "metadata": {},
   "source": [
    "23. Continuing from the previous section, create a bar chart that shows the distribution of traffic offenses by age category (age_category).   \n",
    "\n",
    "Note: that the chart must be sorted by age category (age_category)\n"
   ]
  },
  {
   "cell_type": "code",
   "execution_count": null,
   "id": "0157d6b8",
   "metadata": {},
   "outputs": [
    {
     "data": {
      "text/plain": [
       "<Axes: xlabel='age_category'>"
      ]
     },
     "execution_count": 30,
     "metadata": {},
     "output_type": "execute_result"
    },
    {
     "data": {
      "image/png": "[encoded data removed]",
      "text/plain": [
       "<Figure size 640x480 with 1 Axes>"
      ]
     },
     "metadata": {},
     "output_type": "display_data"
    }
   ],
   "source": [
    "import matplotlib.pyplot as plt\n",
    "# Package imports required every time.\n",
    "\n",
    "custom_order = ['0 to 18', '18 to 30', '30 to 42', '42 to 54', '54 to 66', '66 +']\n",
    "age_category_counts = age_category_counts.reindex(custom_order)\n",
    "# Ordering Categories\n",
    "\n",
    "age_category_counts.plot(kind='bar')\n",
    "# Creating a column chart"
   ]
  },
  {
   "cell_type": "markdown",
   "id": "5dedefee",
   "metadata": {},
   "source": [
    "24. Continuing from the previous section, what is the age category (age_category) in which most traffic offenses were committed?   \n",
    "\n",
    "Answer: *18 to 30*"
   ]
  },
  {
   "cell_type": "markdown",
   "id": "55cd0833",
   "metadata": {},
   "source": [
    "25. Define a user function called get_violation_severity, which accepts the traffic offense committed (violation), and returns its severity according to the following categories:    \n",
    "* a. 'Speeding' or 'Seat belt'  → 1-Serious offense   \n",
    "* b. 'Registration/plates' or 'Equipment' → 2-Medium offense  \n",
    "* c. Every other violation → 3-Minor offense "
   ]
  },
  {
   "cell_type": "code",
   "execution_count": 36,
   "id": "a382870f",
   "metadata": {},
   "outputs": [],
   "source": [
    "def get_violation_severity(violation):\n",
    "    if violation in ['Speeding', 'Seat belt']:\n",
    "        return '1-Serious offense'\n",
    "    elif violation in ['Registration/plates', 'Equipment']:\n",
    "        return '2-Medium offense'\n",
    "    else:\n",
    "        return '3-Minor offense'"
   ]
  },
  {
   "cell_type": "markdown",
   "id": "3c2b2fe1",
   "metadata": {},
   "source": [
    "26. Check if the function is working properly by calling to the function and sending    \n",
    "\n",
    "appropriate arguments (for example 'Speeding', 'Equipment', 'Moving violation') \n",
    "* If the function returns correct results, proceed to the next section. \n",
    "* If the function does not work properly - fix it and check again"
   ]
  },
  {
   "cell_type": "code",
   "execution_count": 37,
   "id": "526b2680",
   "metadata": {},
   "outputs": [
    {
     "data": {
      "text/plain": [
       "'1-Serious offense'"
      ]
     },
     "execution_count": 37,
     "metadata": {},
     "output_type": "execute_result"
    }
   ],
   "source": [
    "get_violation_severity('Speeding')  \n",
    "# Should return 1"
   ]
  },
  {
   "cell_type": "code",
   "execution_count": 38,
   "id": "9a4a826c",
   "metadata": {},
   "outputs": [
    {
     "data": {
      "text/plain": [
       "'2-Medium offense'"
      ]
     },
     "execution_count": 38,
     "metadata": {},
     "output_type": "execute_result"
    }
   ],
   "source": [
    "get_violation_severity('Equipment')  \n",
    "# Should return 2"
   ]
  },
  {
   "cell_type": "code",
   "execution_count": 39,
   "id": "dd159f86",
   "metadata": {},
   "outputs": [
    {
     "data": {
      "text/plain": [
       "'3-Minor offense'"
      ]
     },
     "execution_count": 39,
     "metadata": {},
     "output_type": "execute_result"
    }
   ],
   "source": [
    "get_violation_severity('Moving violation')  \n",
    "# Should return 3"
   ]
  },
  {
   "cell_type": "markdown",
   "id": "0f9e7a01",
   "metadata": {},
   "source": [
    "27. Add a new column to the table called violation_severity, which will contain the severity category of the traffic offense by running the get_violation_severity function on the violation column\n"
   ]
  },
  {
   "cell_type": "code",
   "execution_count": null,
   "id": "55f763c4",
   "metadata": {},
   "outputs": [
    {
     "data": {
      "application/vnd.microsoft.datawrangler.viewer.v0+json": {
       "columns": [
        {
         "name": "index",
         "rawType": "int64",
         "type": "integer"
        },
        {
         "name": "driver_gender",
         "rawType": "object",
         "type": "unknown"
        },
        {
         "name": "driver_age",
         "rawType": "float64",
         "type": "float"
        },
        {
         "name": "violation",
         "rawType": "object",
         "type": "unknown"
        },
        {
         "name": "age_category",
         "rawType": "object",
         "type": "string"
        },
        {
         "name": "violation_severity",
         "rawType": "object",
         "type": "string"
        }
       ],
       "ref": "eb18f947-1261-454d-b8fb-f51f07c814f8",
       "rows": [
        [
         "0",
         "M",
         "20.0",
         "Speeding",
         "18 to 30",
         "1-Serious offense"
        ],
        [
         "1",
         "M",
         "40.0",
         "Speeding",
         "30 to 42",
         "1-Serious offense"
        ],
        [
         "2",
         "M",
         "33.0",
         "Speeding",
         "30 to 42",
         "1-Serious offense"
        ],
        [
         "3",
         "M",
         "19.0",
         "Other",
         "18 to 30",
         "3-Minor offense"
        ],
        [
         "4",
         "F",
         "21.0",
         "Speeding",
         "18 to 30",
         "1-Serious offense"
        ],
        [
         "5",
         "M",
         "23.0",
         "Equipment",
         "18 to 30",
         "2-Medium offense"
        ],
        [
         "6",
         "M",
         "36.0",
         "Speeding",
         "30 to 42",
         "1-Serious offense"
        ],
        [
         "7",
         "F",
         "19.0",
         "Speeding",
         "18 to 30",
         "1-Serious offense"
        ],
        [
         "8",
         "M",
         "35.0",
         "Speeding",
         "30 to 42",
         "1-Serious offense"
        ],
        [
         "9",
         "M",
         "35.0",
         "Speeding",
         "30 to 42",
         "1-Serious offense"
        ],
        [
         "10",
         "M",
         "26.0",
         "Speeding",
         "18 to 30",
         "1-Serious offense"
        ],
        [
         "11",
         "F",
         "39.0",
         "Speeding",
         "30 to 42",
         "1-Serious offense"
        ],
        [
         "12",
         "M",
         "26.0",
         "Speeding",
         "18 to 30",
         "1-Serious offense"
        ],
        [
         "13",
         "F",
         "21.0",
         "Speeding",
         "18 to 30",
         "1-Serious offense"
        ],
        [
         "14",
         "M",
         "36.0",
         "Speeding",
         "30 to 42",
         "1-Serious offense"
        ],
        [
         "15",
         "M",
         "23.0",
         "Speeding",
         "18 to 30",
         "1-Serious offense"
        ],
        [
         "16",
         "M",
         "23.0",
         "Speeding",
         "18 to 30",
         "1-Serious offense"
        ],
        [
         "17",
         "M",
         "26.0",
         "Equipment",
         "18 to 30",
         "2-Medium offense"
        ],
        [
         "18",
         "M",
         "50.0",
         "Speeding",
         "42 to 54",
         "1-Serious offense"
        ],
        [
         "19",
         "F",
         "47.0",
         "Speeding",
         "42 to 54",
         "1-Serious offense"
        ],
        [
         "20",
         "F",
         "26.0",
         "Speeding",
         "18 to 30",
         "1-Serious offense"
        ],
        [
         "21",
         "M",
         "52.0",
         "Moving violation",
         "42 to 54",
         "3-Minor offense"
        ],
        [
         "22",
         "M",
         "50.0",
         "Moving violation",
         "42 to 54",
         "3-Minor offense"
        ],
        [
         "23",
         "F",
         "38.0",
         "Speeding",
         "30 to 42",
         "1-Serious offense"
        ],
        [
         "24",
         "M",
         "26.0",
         "Moving violation",
         "18 to 30",
         "3-Minor offense"
        ],
        [
         "25",
         null,
         null,
         null,
         "66 +",
         "3-Minor offense"
        ],
        [
         "26",
         "M",
         "41.0",
         "Speeding",
         "30 to 42",
         "1-Serious offense"
        ],
        [
         "27",
         "F",
         "28.0",
         "Speeding",
         "18 to 30",
         "1-Serious offense"
        ],
        [
         "28",
         "M",
         "21.0",
         "Speeding",
         "18 to 30",
         "1-Serious offense"
        ],
        [
         "29",
         null,
         null,
         null,
         "66 +",
         "3-Minor offense"
        ],
        [
         "30",
         "M",
         "46.0",
         "Moving violation",
         "42 to 54",
         "3-Minor offense"
        ],
        [
         "31",
         "M",
         "23.0",
         "Speeding",
         "18 to 30",
         "1-Serious offense"
        ],
        [
         "32",
         "M",
         "32.0",
         "Speeding",
         "30 to 42",
         "1-Serious offense"
        ],
        [
         "33",
         "M",
         "52.0",
         "Moving violation",
         "42 to 54",
         "3-Minor offense"
        ],
        [
         "34",
         "M",
         "58.0",
         "Speeding",
         "54 to 66",
         "1-Serious offense"
        ],
        [
         "35",
         "M",
         "27.0",
         "Equipment",
         "18 to 30",
         "2-Medium offense"
        ],
        [
         "36",
         "F",
         "19.0",
         "Speeding",
         "18 to 30",
         "1-Serious offense"
        ],
        [
         "37",
         "M",
         "43.0",
         "Speeding",
         "42 to 54",
         "1-Serious offense"
        ],
        [
         "38",
         "M",
         "24.0",
         "Speeding",
         "18 to 30",
         "1-Serious offense"
        ],
        [
         "39",
         "M",
         "17.0",
         "Speeding",
         "0 to 18",
         "1-Serious offense"
        ],
        [
         "40",
         "M",
         "17.0",
         "Equipment",
         "0 to 18",
         "2-Medium offense"
        ],
        [
         "41",
         "M",
         "17.0",
         "Equipment",
         "0 to 18",
         "2-Medium offense"
        ],
        [
         "42",
         "M",
         "28.0",
         "Moving violation",
         "18 to 30",
         "3-Minor offense"
        ],
        [
         "43",
         "M",
         "20.0",
         "Speeding",
         "18 to 30",
         "1-Serious offense"
        ],
        [
         "44",
         "M",
         "22.0",
         "Speeding",
         "18 to 30",
         "1-Serious offense"
        ],
        [
         "45",
         "M",
         "44.0",
         "Moving violation",
         "42 to 54",
         "3-Minor offense"
        ],
        [
         "46",
         "M",
         "46.0",
         "Equipment",
         "42 to 54",
         "2-Medium offense"
        ],
        [
         "47",
         "M",
         "33.0",
         "Speeding",
         "30 to 42",
         "1-Serious offense"
        ],
        [
         "48",
         "M",
         "48.0",
         "Speeding",
         "42 to 54",
         "1-Serious offense"
        ],
        [
         "49",
         "M",
         "34.0",
         "Equipment",
         "30 to 42",
         "2-Medium offense"
        ]
       ],
       "shape": {
        "columns": 5,
        "rows": 91741
       }
      },
      "text/html": [
       "<div>\n",
       "<style scoped>\n",
       "    .dataframe tbody tr th:only-of-type {\n",
       "        vertical-align: middle;\n",
       "    }\n",
       "\n",
       "    .dataframe tbody tr th {\n",
       "        vertical-align: top;\n",
       "    }\n",
       "\n",
       "    .dataframe thead th {\n",
       "        text-align: right;\n",
       "    }\n",
       "</style>\n",
       "<table border=\"1\" class=\"dataframe\">\n",
       "  <thead>\n",
       "    <tr style=\"text-align: right;\">\n",
       "      <th></th>\n",
       "      <th>driver_gender</th>\n",
       "      <th>driver_age</th>\n",
       "      <th>violation</th>\n",
       "      <th>age_category</th>\n",
       "      <th>violation_severity</th>\n",
       "    </tr>\n",
       "  </thead>\n",
       "  <tbody>\n",
       "    <tr>\n",
       "      <th>0</th>\n",
       "      <td>M</td>\n",
       "      <td>20.0</td>\n",
       "      <td>Speeding</td>\n",
       "      <td>18 to 30</td>\n",
       "      <td>1-Serious offense</td>\n",
       "    </tr>\n",
       "    <tr>\n",
       "      <th>1</th>\n",
       "      <td>M</td>\n",
       "      <td>40.0</td>\n",
       "      <td>Speeding</td>\n",
       "      <td>30 to 42</td>\n",
       "      <td>1-Serious offense</td>\n",
       "    </tr>\n",
       "    <tr>\n",
       "      <th>2</th>\n",
       "      <td>M</td>\n",
       "      <td>33.0</td>\n",
       "      <td>Speeding</td>\n",
       "      <td>30 to 42</td>\n",
       "      <td>1-Serious offense</td>\n",
       "    </tr>\n",
       "    <tr>\n",
       "      <th>3</th>\n",
       "      <td>M</td>\n",
       "      <td>19.0</td>\n",
       "      <td>Other</td>\n",
       "      <td>18 to 30</td>\n",
       "      <td>3-Minor offense</td>\n",
       "    </tr>\n",
       "    <tr>\n",
       "      <th>4</th>\n",
       "      <td>F</td>\n",
       "      <td>21.0</td>\n",
       "      <td>Speeding</td>\n",
       "      <td>18 to 30</td>\n",
       "      <td>1-Serious offense</td>\n",
       "    </tr>\n",
       "    <tr>\n",
       "      <th>...</th>\n",
       "      <td>...</td>\n",
       "      <td>...</td>\n",
       "      <td>...</td>\n",
       "      <td>...</td>\n",
       "      <td>...</td>\n",
       "    </tr>\n",
       "    <tr>\n",
       "      <th>91736</th>\n",
       "      <td>M</td>\n",
       "      <td>29.0</td>\n",
       "      <td>Speeding</td>\n",
       "      <td>18 to 30</td>\n",
       "      <td>1-Serious offense</td>\n",
       "    </tr>\n",
       "    <tr>\n",
       "      <th>91737</th>\n",
       "      <td>F</td>\n",
       "      <td>33.0</td>\n",
       "      <td>Equipment</td>\n",
       "      <td>30 to 42</td>\n",
       "      <td>2-Medium offense</td>\n",
       "    </tr>\n",
       "    <tr>\n",
       "      <th>91738</th>\n",
       "      <td>M</td>\n",
       "      <td>23.0</td>\n",
       "      <td>Moving violation</td>\n",
       "      <td>18 to 30</td>\n",
       "      <td>3-Minor offense</td>\n",
       "    </tr>\n",
       "    <tr>\n",
       "      <th>91739</th>\n",
       "      <td>M</td>\n",
       "      <td>22.0</td>\n",
       "      <td>Speeding</td>\n",
       "      <td>18 to 30</td>\n",
       "      <td>1-Serious offense</td>\n",
       "    </tr>\n",
       "    <tr>\n",
       "      <th>91740</th>\n",
       "      <td>M</td>\n",
       "      <td>56.0</td>\n",
       "      <td>Speeding</td>\n",
       "      <td>54 to 66</td>\n",
       "      <td>1-Serious offense</td>\n",
       "    </tr>\n",
       "  </tbody>\n",
       "</table>\n",
       "<p>91741 rows × 5 columns</p>\n",
       "</div>"
      ],
      "text/plain": [
       "      driver_gender  driver_age         violation age_category  \\\n",
       "0                 M        20.0          Speeding     18 to 30   \n",
       "1                 M        40.0          Speeding     30 to 42   \n",
       "2                 M        33.0          Speeding     30 to 42   \n",
       "3                 M        19.0             Other     18 to 30   \n",
       "4                 F        21.0          Speeding     18 to 30   \n",
       "...             ...         ...               ...          ...   \n",
       "91736             M        29.0          Speeding     18 to 30   \n",
       "91737             F        33.0         Equipment     30 to 42   \n",
       "91738             M        23.0  Moving violation     18 to 30   \n",
       "91739             M        22.0          Speeding     18 to 30   \n",
       "91740             M        56.0          Speeding     54 to 66   \n",
       "\n",
       "      violation_severity  \n",
       "0      1-Serious offense  \n",
       "1      1-Serious offense  \n",
       "2      1-Serious offense  \n",
       "3        3-Minor offense  \n",
       "4      1-Serious offense  \n",
       "...                  ...  \n",
       "91736  1-Serious offense  \n",
       "91737   2-Medium offense  \n",
       "91738    3-Minor offense  \n",
       "91739  1-Serious offense  \n",
       "91740  1-Serious offense  \n",
       "\n",
       "[91741 rows x 5 columns]"
      ]
     },
     "execution_count": 40,
     "metadata": {},
     "output_type": "execute_result"
    }
   ],
   "source": [
    "df['violation_severity'] = df['violation'].apply(get_violation_severity)\n",
    "df"
   ]
  },
  {
   "cell_type": "markdown",
   "id": "9487f1df",
   "metadata": {},
   "source": [
    "28. Create a pie chart that shows the distribution of traffic offenses according to the severity category of the traffic offense (violation_severity).    \n",
    "Note: that the chart must be sorted by traffic offense severity category (violation_severity) \n"
   ]
  },
  {
   "cell_type": "code",
   "execution_count": 46,
   "id": "9a7d5a8e",
   "metadata": {},
   "outputs": [
    {
     "data": {
      "image/png": "[encoded data removed]",
      "text/plain": [
       "<Figure size 600x600 with 1 Axes>"
      ]
     },
     "metadata": {},
     "output_type": "display_data"
    }
   ],
   "source": [
    "severity_counts = df['violation_severity'].value_counts()\n",
    "# Count each category\n",
    "\n",
    "custom_order = ['1-Serious offense', '2-Medium offense', '3-Minor offense']\n",
    "severity_counts = severity_counts.reindex(custom_order)\n",
    "# Ordering Categories\n",
    "\n",
    "severity_counts.plot(kind='pie', \n",
    "                     autopct='%1.1f%%', \n",
    "                     startangle=90,\n",
    "                     counterclock=False, \n",
    "                     figsize=(6, 6))\n",
    "# criate a pie chart\n",
    "plt.title('Violation Severity Distribution')\n",
    "plt.ylabel('')\n",
    "# hide Y label\n",
    "plt.show()"
   ]
  },
  {
   "cell_type": "markdown",
   "id": "29c4c2b0",
   "metadata": {},
   "source": [
    "29. Continuing from the previous section, what is the category of traffic offense severity (violation_severity) in which the most traffic offenses were committed?\n"
   ]
  },
  {
   "cell_type": "code",
   "execution_count": null,
   "id": "39a9e829",
   "metadata": {},
   "outputs": [
    {
     "name": "stdout",
     "output_type": "stream",
     "text": [
      "The most common violation severity is: 1-Serious offense\n"
     ]
    }
   ],
   "source": [
    "most_common_severity = severity_counts.idxmax()\n",
    "print(f'The most common violation severity is: {most_common_severity}')\n"
   ]
  },
  {
   "cell_type": "markdown",
   "id": "91f48bc9",
   "metadata": {},
   "source": [
    "30. Challenge: Create a function that implements the split method \n",
    "* a. The signature of the function is: def split(string, by): \n",
    "* b. Do not use the method: str.split() \n",
    "* c. You can use all the topics learned so far \n",
    "* d. To check this, call to the function you created and check your \n",
    "* result: split ('Great.practice.!.!.!', '.') "
   ]
  },
  {
   "cell_type": "code",
   "execution_count": 51,
   "id": "84e74f3a",
   "metadata": {},
   "outputs": [],
   "source": [
    "def split2(string, by):\n",
    "    result = []\n",
    "    current = ''\n",
    "    \n",
    "    for char in string:\n",
    "        if char == by:\n",
    "            result.append(current)\n",
    "            current = ''\n",
    "        else:\n",
    "            current += char\n",
    "\n",
    "    result.append(current) \n",
    "    return result\n"
   ]
  },
  {
   "cell_type": "code",
   "execution_count": 63,
   "id": "54c23028",
   "metadata": {},
   "outputs": [
    {
     "name": "stdout",
     "output_type": "stream",
     "text": [
      "['This answer', ' made by', ' Chat', '- ', ' GPT']\n"
     ]
    }
   ],
   "source": [
    "print(split2(\"This answer, made by, Chat,- , GPT\", ','))  "
   ]
  },
  {
   "cell_type": "markdown",
   "id": "16db53a6",
   "metadata": {},
   "source": [
    "31. Create a function that receives a list of numbers and returns True if all the numbers are different from each other, otherwise it returns False \n"
   ]
  },
  {
   "cell_type": "code",
   "execution_count": 55,
   "id": "00a1633b",
   "metadata": {},
   "outputs": [],
   "source": [
    "def all_unique(numbers):\n",
    "    seen = set()\n",
    "    for number in numbers:\n",
    "        if number in seen:\n",
    "            return False\n",
    "        seen.add(number)\n",
    "    return True"
   ]
  },
  {
   "cell_type": "code",
   "execution_count": null,
   "id": "d8339e63",
   "metadata": {},
   "outputs": [
    {
     "data": {
      "text/plain": [
       "True"
      ]
     },
     "execution_count": 56,
     "metadata": {},
     "output_type": "execute_result"
    }
   ],
   "source": [
    "all_unique([1, 2, 3, 4, 5])  # Should return True"
   ]
  },
  {
   "cell_type": "code",
   "execution_count": 57,
   "id": "0daeff31",
   "metadata": {},
   "outputs": [
    {
     "data": {
      "text/plain": [
       "False"
      ]
     },
     "execution_count": 57,
     "metadata": {},
     "output_type": "execute_result"
    }
   ],
   "source": [
    "all_unique([1, 2, True, 4, 5])  # Should return False"
   ]
  }
 ],
 "metadata": {
  "kernelspec": {
   "display_name": "Python 3",
   "language": "python",
   "name": "python3"
  },
  "language_info": {
   "codemirror_mode": {
    "name": "ipython",
    "version": 3
   },
   "file_extension": ".py",
   "mimetype": "text/x-python",
   "name": "python",
   "nbconvert_exporter": "python",
   "pygments_lexer": "ipython3",
   "version": "3.13.3"
  }
 },
 "nbformat": 4,
 "nbformat_minor": 5
}
