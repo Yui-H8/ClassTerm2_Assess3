{
 "cells": [
  {
   "cell_type": "code",
   "execution_count": 2,
   "metadata": {},
   "outputs": [
    {
     "name": "stdout",
     "output_type": "stream",
     "text": [
      "Requirement already satisfied: pyodbc in c:\\users\\hanay\\appdata\\local\\programs\\python\\python313\\lib\\site-packages (5.2.0)\n",
      "Note: you may need to restart the kernel to use updated packages.\n"
     ]
    }
   ],
   "source": [
    "pip install pyodbc"
   ]
  },
  {
   "cell_type": "code",
   "execution_count": 3,
   "metadata": {},
   "outputs": [
    {
     "name": "stdout",
     "output_type": "stream",
     "text": [
      "Requirement already satisfied: sqlalchemy in c:\\users\\hanay\\appdata\\local\\programs\\python\\python313\\lib\\site-packages (2.0.41)\n",
      "Requirement already satisfied: greenlet>=1 in c:\\users\\hanay\\appdata\\local\\programs\\python\\python313\\lib\\site-packages (from sqlalchemy) (3.2.2)\n",
      "Requirement already satisfied: typing-extensions>=4.6.0 in c:\\users\\hanay\\appdata\\local\\programs\\python\\python313\\lib\\site-packages (from sqlalchemy) (4.13.2)\n",
      "Note: you may need to restart the kernel to use updated packages.\n"
     ]
    }
   ],
   "source": [
    "pip install sqlalchemy"
   ]
  },
  {
   "cell_type": "code",
   "execution_count": 4,
   "metadata": {},
   "outputs": [],
   "source": [
    "import pyodbc\n",
    "from sqlalchemy import create_engine\n",
    "import urllib\n",
    "import pandas as pd"
   ]
  },
  {
   "cell_type": "code",
   "execution_count": 5,
   "metadata": {},
   "outputs": [
    {
     "name": "stdout",
     "output_type": "stream",
     "text": [
      "2025-05-29 09:14:05,123 INFO sqlalchemy.engine.Engine SELECT CAST(SERVERPROPERTY('ProductVersion') AS VARCHAR)\n",
      "2025-05-29 09:14:05,125 INFO sqlalchemy.engine.Engine [raw sql] ()\n",
      "2025-05-29 09:14:05,182 INFO sqlalchemy.engine.Engine SELECT schema_name()\n",
      "2025-05-29 09:14:05,183 INFO sqlalchemy.engine.Engine [generated in 0.00127s] ()\n",
      "2025-05-29 09:14:05,351 INFO sqlalchemy.engine.Engine SELECT CAST('test max support' AS NVARCHAR(max))\n",
      "2025-05-29 09:14:05,352 INFO sqlalchemy.engine.Engine [generated in 0.00116s] ()\n",
      "2025-05-29 09:14:05,410 INFO sqlalchemy.engine.Engine SELECT 1 FROM fn_listextendedproperty(default, default, default, default, default, default, default)\n",
      "2025-05-29 09:14:05,411 INFO sqlalchemy.engine.Engine [generated in 0.00131s] ()\n"
     ]
    },
    {
     "data": {
      "text/plain": [
       "<sqlalchemy.engine.base.Connection at 0x1677f9c0050>"
      ]
     },
     "execution_count": 5,
     "metadata": {},
     "output_type": "execute_result"
    }
   ],
   "source": [
    "params = urllib.parse.quote_plus(\"DRIVER={SQL Server};\\\n",
    "                                 SERVER=greystone.database.windows.net;\\\n",
    "                                 DATABASE=AdventureWorks2016;\\\n",
    "                                 UID=sa2;\\\n",
    "                                 PWD=Pa$$w0rd\")\n",
    "\n",
    "conn_str = 'mssql+pyodbc:///?odbc_connect={}'.format(params)\n",
    "conn = create_engine(conn_str,echo=True)\n",
    "\n",
    "conn.connect()"
   ]
  },
  {
   "cell_type": "code",
   "execution_count": 6,
   "metadata": {},
   "outputs": [
    {
     "name": "stdout",
     "output_type": "stream",
     "text": [
      "2025-05-29 09:14:08,201 INFO sqlalchemy.engine.Engine BEGIN (implicit)\n",
      "2025-05-29 09:14:08,203 INFO sqlalchemy.engine.Engine \n",
      "        select businessentityid,\n",
      "            Firstname,\n",
      "            Lastname\n",
      "        from person.person \n",
      "2025-05-29 09:14:08,204 INFO sqlalchemy.engine.Engine [raw sql] ()\n",
      "2025-05-29 09:14:08,843 INFO sqlalchemy.engine.Engine ROLLBACK\n"
     ]
    },
    {
     "data": {
      "application/vnd.microsoft.datawrangler.viewer.v0+json": {
       "columns": [
        {
         "name": "index",
         "rawType": "int64",
         "type": "integer"
        },
        {
         "name": "businessentityid",
         "rawType": "int64",
         "type": "integer"
        },
        {
         "name": "Firstname",
         "rawType": "object",
         "type": "string"
        },
        {
         "name": "Lastname",
         "rawType": "object",
         "type": "string"
        }
       ],
       "ref": "f61d9fb0-c57b-4829-88ce-95aae8a3aa7c",
       "rows": [
        [
         "0",
         "285",
         "Syed",
         "Abbas"
        ],
        [
         "1",
         "293",
         "Catherine",
         "Abel"
        ],
        [
         "2",
         "295",
         "Kim",
         "Abercrombie"
        ],
        [
         "3",
         "2170",
         "Kim",
         "Abercrombie"
        ],
        [
         "4",
         "38",
         "Kim",
         "Abercrombie"
        ],
        [
         "5",
         "211",
         "Hazem",
         "Abolrous"
        ],
        [
         "6",
         "2357",
         "Sam",
         "Abolrous"
        ],
        [
         "7",
         "297",
         "Humberto",
         "Acevedo"
        ],
        [
         "8",
         "291",
         "Gustavo",
         "Achong"
        ],
        [
         "9",
         "299",
         "Pilar",
         "Ackerman"
        ],
        [
         "10",
         "121",
         "Pilar",
         "Ackerman"
        ],
        [
         "11",
         "16867",
         "Aaron",
         "Adams"
        ],
        [
         "12",
         "16901",
         "Adam",
         "Adams"
        ],
        [
         "13",
         "16724",
         "Alex",
         "Adams"
        ],
        [
         "14",
         "10263",
         "Alexandra",
         "Adams"
        ],
        [
         "15",
         "10312",
         "Allison",
         "Adams"
        ],
        [
         "16",
         "10274",
         "Amanda",
         "Adams"
        ],
        [
         "17",
         "10292",
         "Amber",
         "Adams"
        ],
        [
         "18",
         "10314",
         "Andrea",
         "Adams"
        ],
        [
         "19",
         "16699",
         "Angel",
         "Adams"
        ],
        [
         "20",
         "10299",
         "Bailey",
         "Adams"
        ],
        [
         "21",
         "1770",
         "Ben",
         "Adams"
        ],
        [
         "22",
         "4194",
         "Blake",
         "Adams"
        ],
        [
         "23",
         "305",
         "Carla",
         "Adams"
        ],
        [
         "24",
         "16691",
         "Carlos",
         "Adams"
        ],
        [
         "25",
         "4891",
         "Charles",
         "Adams"
        ],
        [
         "26",
         "10251",
         "Chloe",
         "Adams"
        ],
        [
         "27",
         "16872",
         "Connor",
         "Adams"
        ],
        [
         "28",
         "10293",
         "Courtney",
         "Adams"
        ],
        [
         "29",
         "4503",
         "Dalton",
         "Adams"
        ],
        [
         "30",
         "4970",
         "Devin",
         "Adams"
        ],
        [
         "31",
         "5055",
         "Eduardo",
         "Adams"
        ],
        [
         "32",
         "3731",
         "Edward",
         "Adams"
        ],
        [
         "33",
         "16858",
         "Elijah",
         "Adams"
        ],
        [
         "34",
         "16902",
         "Eric",
         "Adams"
        ],
        [
         "35",
         "16730",
         "Evan",
         "Adams"
        ],
        [
         "36",
         "3889",
         "Fernando",
         "Adams"
        ],
        [
         "37",
         "301",
         "Frances",
         "Adams"
        ],
        [
         "38",
         "16850",
         "Gabriel",
         "Adams"
        ],
        [
         "39",
         "10302",
         "Gabriella",
         "Adams"
        ],
        [
         "40",
         "10282",
         "Gabrielle",
         "Adams"
        ],
        [
         "41",
         "10279",
         "Hailey",
         "Adams"
        ],
        [
         "42",
         "10283",
         "Haley",
         "Adams"
        ],
        [
         "43",
         "16656",
         "Hunter",
         "Adams"
        ],
        [
         "44",
         "4747",
         "Ian",
         "Adams"
        ],
        [
         "45",
         "16747",
         "Isaac",
         "Adams"
        ],
        [
         "46",
         "10261",
         "Isabella",
         "Adams"
        ],
        [
         "47",
         "16722",
         "Isaiah",
         "Adams"
        ],
        [
         "48",
         "16894",
         "Jack",
         "Adams"
        ],
        [
         "49",
         "16910",
         "Jackson",
         "Adams"
        ]
       ],
       "shape": {
        "columns": 3,
        "rows": 19972
       }
      },
      "text/html": [
       "<div>\n",
       "<style scoped>\n",
       "    .dataframe tbody tr th:only-of-type {\n",
       "        vertical-align: middle;\n",
       "    }\n",
       "\n",
       "    .dataframe tbody tr th {\n",
       "        vertical-align: top;\n",
       "    }\n",
       "\n",
       "    .dataframe thead th {\n",
       "        text-align: right;\n",
       "    }\n",
       "</style>\n",
       "<table border=\"1\" class=\"dataframe\">\n",
       "  <thead>\n",
       "    <tr style=\"text-align: right;\">\n",
       "      <th></th>\n",
       "      <th>businessentityid</th>\n",
       "      <th>Firstname</th>\n",
       "      <th>Lastname</th>\n",
       "    </tr>\n",
       "  </thead>\n",
       "  <tbody>\n",
       "    <tr>\n",
       "      <th>0</th>\n",
       "      <td>285</td>\n",
       "      <td>Syed</td>\n",
       "      <td>Abbas</td>\n",
       "    </tr>\n",
       "    <tr>\n",
       "      <th>1</th>\n",
       "      <td>293</td>\n",
       "      <td>Catherine</td>\n",
       "      <td>Abel</td>\n",
       "    </tr>\n",
       "    <tr>\n",
       "      <th>2</th>\n",
       "      <td>295</td>\n",
       "      <td>Kim</td>\n",
       "      <td>Abercrombie</td>\n",
       "    </tr>\n",
       "    <tr>\n",
       "      <th>3</th>\n",
       "      <td>2170</td>\n",
       "      <td>Kim</td>\n",
       "      <td>Abercrombie</td>\n",
       "    </tr>\n",
       "    <tr>\n",
       "      <th>4</th>\n",
       "      <td>38</td>\n",
       "      <td>Kim</td>\n",
       "      <td>Abercrombie</td>\n",
       "    </tr>\n",
       "    <tr>\n",
       "      <th>...</th>\n",
       "      <td>...</td>\n",
       "      <td>...</td>\n",
       "      <td>...</td>\n",
       "    </tr>\n",
       "    <tr>\n",
       "      <th>19967</th>\n",
       "      <td>2087</td>\n",
       "      <td>Patricia</td>\n",
       "      <td>Zubaty</td>\n",
       "    </tr>\n",
       "    <tr>\n",
       "      <th>19968</th>\n",
       "      <td>2088</td>\n",
       "      <td>Judy</td>\n",
       "      <td>Zugelder</td>\n",
       "    </tr>\n",
       "    <tr>\n",
       "      <th>19969</th>\n",
       "      <td>12079</td>\n",
       "      <td>Jake</td>\n",
       "      <td>Zukowski</td>\n",
       "    </tr>\n",
       "    <tr>\n",
       "      <th>19970</th>\n",
       "      <td>64</td>\n",
       "      <td>Michael</td>\n",
       "      <td>Zwilling</td>\n",
       "    </tr>\n",
       "    <tr>\n",
       "      <th>19971</th>\n",
       "      <td>2089</td>\n",
       "      <td>Michael</td>\n",
       "      <td>Zwilling</td>\n",
       "    </tr>\n",
       "  </tbody>\n",
       "</table>\n",
       "<p>19972 rows × 3 columns</p>\n",
       "</div>"
      ],
      "text/plain": [
       "       businessentityid  Firstname     Lastname\n",
       "0                   285       Syed        Abbas\n",
       "1                   293  Catherine         Abel\n",
       "2                   295        Kim  Abercrombie\n",
       "3                  2170        Kim  Abercrombie\n",
       "4                    38        Kim  Abercrombie\n",
       "...                 ...        ...          ...\n",
       "19967              2087   Patricia       Zubaty\n",
       "19968              2088       Judy     Zugelder\n",
       "19969             12079       Jake     Zukowski\n",
       "19970                64    Michael     Zwilling\n",
       "19971              2089    Michael     Zwilling\n",
       "\n",
       "[19972 rows x 3 columns]"
      ]
     },
     "execution_count": 6,
     "metadata": {},
     "output_type": "execute_result"
    }
   ],
   "source": [
    "import pandas as pd\n",
    "query='''\n",
    "        select businessentityid,\n",
    "            Firstname,\n",
    "            Lastname\n",
    "        from person.person '''\n",
    " \n",
    "ppl_names = pd.read_sql_query(query, conn)\n",
    "ppl_names"
   ]
  },
  {
   "cell_type": "code",
   "execution_count": 7,
   "metadata": {},
   "outputs": [
    {
     "data": {
      "application/vnd.microsoft.datawrangler.viewer.v0+json": {
       "columns": [
        {
         "name": "Firstname",
         "rawType": "object",
         "type": "string"
        },
        {
         "name": "count",
         "rawType": "int64",
         "type": "integer"
        }
       ],
       "ref": "d4332e0f-48bd-421f-98cf-80d906f8061c",
       "rows": [
        [
         "Richard",
         "103"
        ],
        [
         "Katherine",
         "99"
        ],
        [
         "James",
         "97"
        ],
        [
         "Marcus",
         "97"
        ],
        [
         "Jennifer",
         "96"
        ],
        [
         "Dalton",
         "93"
        ],
        [
         "Lucas",
         "93"
        ],
        [
         "Alexandra",
         "93"
        ],
        [
         "Isabella",
         "92"
        ],
        [
         "Morgan",
         "92"
        ],
        [
         "Seth",
         "92"
        ],
        [
         "Natalie",
         "91"
        ],
        [
         "Kaitlyn",
         "90"
        ],
        [
         "Robert",
         "90"
        ],
        [
         "Eduardo",
         "90"
        ],
        [
         "Sydney",
         "90"
        ],
        [
         "Julia",
         "89"
        ],
        [
         "Ian",
         "89"
        ],
        [
         "Chloe",
         "88"
        ],
        [
         "Xavier",
         "88"
        ],
        [
         "David",
         "87"
        ],
        [
         "Devin",
         "87"
        ],
        [
         "Thomas",
         "85"
        ],
        [
         "Jonathan",
         "78"
        ],
        [
         "Jordan",
         "77"
        ],
        [
         "Abigail",
         "76"
        ],
        [
         "Nathan",
         "75"
        ],
        [
         "Jose",
         "75"
        ],
        [
         "Jessica",
         "73"
        ],
        [
         "Logan",
         "73"
        ],
        [
         "Samuel",
         "73"
        ],
        [
         "Noah",
         "73"
        ],
        [
         "Miguel",
         "73"
        ],
        [
         "Nicole",
         "72"
        ],
        [
         "Edward",
         "72"
        ],
        [
         "Charles",
         "71"
        ],
        [
         "Blake",
         "71"
        ],
        [
         "Anna",
         "71"
        ],
        [
         "Rachel",
         "71"
        ],
        [
         "Taylor",
         "71"
        ],
        [
         "Hunter",
         "70"
        ],
        [
         "Wyatt",
         "70"
        ],
        [
         "Stephanie",
         "70"
        ],
        [
         "Megan",
         "70"
        ],
        [
         "Destiny",
         "69"
        ],
        [
         "Grace",
         "69"
        ],
        [
         "Lauren",
         "69"
        ],
        [
         "Amanda",
         "69"
        ],
        [
         "Victoria",
         "69"
        ],
        [
         "Emma",
         "68"
        ]
       ],
       "shape": {
        "columns": 1,
        "rows": 1018
       }
      },
      "text/plain": [
       "Firstname\n",
       "Richard         103\n",
       "Katherine        99\n",
       "James            97\n",
       "Marcus           97\n",
       "Jennifer         96\n",
       "               ... \n",
       "Gracia            1\n",
       "Marcel            1\n",
       "Michael John      1\n",
       "Shirleen          1\n",
       "Billie Jo         1\n",
       "Name: count, Length: 1018, dtype: int64"
      ]
     },
     "execution_count": 7,
     "metadata": {},
     "output_type": "execute_result"
    }
   ],
   "source": [
    "ppl_names[\"Firstname\"].value_counts()"
   ]
  },
  {
   "cell_type": "code",
   "execution_count": 8,
   "metadata": {},
   "outputs": [
    {
     "data": {
      "application/vnd.microsoft.datawrangler.viewer.v0+json": {
       "columns": [
        {
         "name": "Firstname",
         "rawType": "object",
         "type": "string"
        },
        {
         "name": "count",
         "rawType": "int64",
         "type": "integer"
        }
       ],
       "ref": "f999d315-992e-4250-aa66-51442dd69c0d",
       "rows": [
        [
         "Richard",
         "103"
        ],
        [
         "Katherine",
         "99"
        ],
        [
         "James",
         "97"
        ],
        [
         "Marcus",
         "97"
        ],
        [
         "Jennifer",
         "96"
        ],
        [
         "Dalton",
         "93"
        ],
        [
         "Lucas",
         "93"
        ],
        [
         "Alexandra",
         "93"
        ],
        [
         "Isabella",
         "92"
        ],
        [
         "Morgan",
         "92"
        ]
       ],
       "shape": {
        "columns": 1,
        "rows": 10
       }
      },
      "text/plain": [
       "Firstname\n",
       "Richard      103\n",
       "Katherine     99\n",
       "James         97\n",
       "Marcus        97\n",
       "Jennifer      96\n",
       "Dalton        93\n",
       "Lucas         93\n",
       "Alexandra     93\n",
       "Isabella      92\n",
       "Morgan        92\n",
       "Name: count, dtype: int64"
      ]
     },
     "execution_count": 8,
     "metadata": {},
     "output_type": "execute_result"
    }
   ],
   "source": [
    "#13\n",
    "ppl_names[\"Firstname\"].value_counts().head(10)"
   ]
  },
  {
   "cell_type": "code",
   "execution_count": 9,
   "metadata": {},
   "outputs": [
    {
     "name": "stdout",
     "output_type": "stream",
     "text": [
      "2025-05-29 09:14:27,469 INFO sqlalchemy.engine.Engine BEGIN (implicit)\n",
      "2025-05-29 09:14:27,471 INFO sqlalchemy.engine.Engine \n",
      "        select  d.SalesOrderID,\n",
      "            h.OrderDate,\n",
      "            DATEPART(WEEKDAY, h.OrderDate) as OrderWeekday,\n",
      "            d.ProductID,\n",
      "            d.OrderQty,\n",
      "            d.LineTotal,\n",
      "            p.ProductSubcategoryID,\n",
      "            p.Color\n",
      "    from Sales.SalesOrderDetail d\n",
      "        join Sales.SalesOrderHeader h\n",
      "            on h.SalesOrderID = d.SalesOrderID\n",
      "        join Production.Product p\n",
      "            on p.ProductID = d.ProductID\n",
      "    where YEAR(OrderDate) = 2013 \n",
      "2025-05-29 09:14:27,472 INFO sqlalchemy.engine.Engine [raw sql] ()\n",
      "2025-05-29 09:14:28,836 INFO sqlalchemy.engine.Engine ROLLBACK\n"
     ]
    },
    {
     "data": {
      "application/vnd.microsoft.datawrangler.viewer.v0+json": {
       "columns": [
        {
         "name": "index",
         "rawType": "int64",
         "type": "integer"
        },
        {
         "name": "SalesOrderID",
         "rawType": "int64",
         "type": "integer"
        },
        {
         "name": "OrderDate",
         "rawType": "datetime64[ns]",
         "type": "datetime"
        },
        {
         "name": "OrderWeekday",
         "rawType": "int64",
         "type": "integer"
        },
        {
         "name": "ProductID",
         "rawType": "int64",
         "type": "integer"
        },
        {
         "name": "OrderQty",
         "rawType": "int64",
         "type": "integer"
        },
        {
         "name": "LineTotal",
         "rawType": "float64",
         "type": "float"
        },
        {
         "name": "ProductSubcategoryID",
         "rawType": "int64",
         "type": "integer"
        },
        {
         "name": "Color",
         "rawType": "object",
         "type": "unknown"
        }
       ],
       "ref": "7901f8dc-1394-4253-8482-d2b20c19aee9",
       "rows": [
        [
         "0",
         "49181",
         "2013-01-01 00:00:00",
         "3",
         "794",
         "1",
         "2181.5625",
         "2",
         "Black"
        ],
        [
         "1",
         "49182",
         "2013-01-01 00:00:00",
         "3",
         "790",
         "1",
         "2443.35",
         "2",
         "Red"
        ],
        [
         "2",
         "49183",
         "2013-01-01 00:00:00",
         "3",
         "791",
         "1",
         "2443.35",
         "2",
         "Red"
        ],
        [
         "3",
         "49184",
         "2013-01-01 00:00:00",
         "3",
         "784",
         "1",
         "2049.0982",
         "1",
         "Black"
        ],
        [
         "4",
         "49185",
         "2013-01-01 00:00:00",
         "3",
         "784",
         "1",
         "2049.0982",
         "1",
         "Black"
        ],
        [
         "5",
         "49186",
         "2013-01-01 00:00:00",
         "3",
         "791",
         "1",
         "2443.35",
         "2",
         "Red"
        ],
        [
         "6",
         "49187",
         "2013-01-01 00:00:00",
         "3",
         "796",
         "1",
         "2181.5625",
         "2",
         "Black"
        ],
        [
         "7",
         "49188",
         "2013-01-01 00:00:00",
         "3",
         "782",
         "1",
         "2049.0982",
         "1",
         "Black"
        ],
        [
         "8",
         "49189",
         "2013-01-01 00:00:00",
         "3",
         "769",
         "1",
         "782.99",
         "2",
         "Black"
        ],
        [
         "9",
         "49190",
         "2013-01-01 00:00:00",
         "3",
         "798",
         "1",
         "1000.4375",
         "2",
         "Yellow"
        ],
        [
         "10",
         "49191",
         "2013-01-02 00:00:00",
         "4",
         "800",
         "1",
         "1000.4375",
         "2",
         "Yellow"
        ],
        [
         "11",
         "49192",
         "2013-01-02 00:00:00",
         "4",
         "800",
         "1",
         "1000.4375",
         "2",
         "Yellow"
        ],
        [
         "12",
         "49193",
         "2013-01-02 00:00:00",
         "4",
         "783",
         "1",
         "2049.0982",
         "1",
         "Black"
        ],
        [
         "13",
         "49194",
         "2013-01-02 00:00:00",
         "4",
         "766",
         "1",
         "782.99",
         "2",
         "Black"
        ],
        [
         "14",
         "49195",
         "2013-01-02 00:00:00",
         "4",
         "759",
         "1",
         "782.99",
         "2",
         "Red"
        ],
        [
         "15",
         "49196",
         "2013-01-02 00:00:00",
         "4",
         "780",
         "1",
         "2071.4196",
         "1",
         "Silver"
        ],
        [
         "16",
         "49197",
         "2013-01-02 00:00:00",
         "4",
         "783",
         "1",
         "2049.0982",
         "1",
         "Black"
        ],
        [
         "17",
         "49198",
         "2013-01-02 00:00:00",
         "4",
         "770",
         "1",
         "782.99",
         "2",
         "Black"
        ],
        [
         "18",
         "49199",
         "2013-01-02 00:00:00",
         "4",
         "767",
         "1",
         "782.99",
         "2",
         "Black"
        ],
        [
         "19",
         "49200",
         "2013-01-03 00:00:00",
         "5",
         "789",
         "1",
         "2443.35",
         "2",
         "Red"
        ],
        [
         "20",
         "49201",
         "2013-01-03 00:00:00",
         "5",
         "791",
         "1",
         "2443.35",
         "2",
         "Red"
        ],
        [
         "21",
         "49202",
         "2013-01-03 00:00:00",
         "5",
         "794",
         "1",
         "2181.5625",
         "2",
         "Black"
        ],
        [
         "22",
         "49203",
         "2013-01-03 00:00:00",
         "5",
         "764",
         "1",
         "782.99",
         "2",
         "Red"
        ],
        [
         "23",
         "49204",
         "2013-01-03 00:00:00",
         "5",
         "779",
         "1",
         "2071.4196",
         "1",
         "Silver"
        ],
        [
         "24",
         "49205",
         "2013-01-03 00:00:00",
         "5",
         "782",
         "1",
         "2049.0982",
         "1",
         "Black"
        ],
        [
         "25",
         "49206",
         "2013-01-03 00:00:00",
         "5",
         "794",
         "1",
         "2181.5625",
         "2",
         "Black"
        ],
        [
         "26",
         "49207",
         "2013-01-03 00:00:00",
         "5",
         "790",
         "1",
         "2443.35",
         "2",
         "Red"
        ],
        [
         "27",
         "49208",
         "2013-01-03 00:00:00",
         "5",
         "794",
         "1",
         "2181.5625",
         "2",
         "Black"
        ],
        [
         "28",
         "49209",
         "2013-01-03 00:00:00",
         "5",
         "792",
         "1",
         "2181.5625",
         "2",
         "Red"
        ],
        [
         "29",
         "49210",
         "2013-01-03 00:00:00",
         "5",
         "781",
         "1",
         "2071.4196",
         "1",
         "Silver"
        ],
        [
         "30",
         "49211",
         "2013-01-03 00:00:00",
         "5",
         "780",
         "1",
         "2071.4196",
         "1",
         "Silver"
        ],
        [
         "31",
         "49212",
         "2013-01-03 00:00:00",
         "5",
         "800",
         "1",
         "1000.4375",
         "2",
         "Yellow"
        ],
        [
         "32",
         "49213",
         "2013-01-03 00:00:00",
         "5",
         "800",
         "1",
         "1000.4375",
         "2",
         "Yellow"
        ],
        [
         "33",
         "49214",
         "2013-01-03 00:00:00",
         "5",
         "796",
         "1",
         "2181.5625",
         "2",
         "Black"
        ],
        [
         "34",
         "49215",
         "2013-01-03 00:00:00",
         "5",
         "761",
         "1",
         "782.99",
         "2",
         "Red"
        ],
        [
         "35",
         "49216",
         "2013-01-03 00:00:00",
         "5",
         "762",
         "1",
         "782.99",
         "2",
         "Red"
        ],
        [
         "36",
         "49217",
         "2013-01-04 00:00:00",
         "6",
         "795",
         "1",
         "2181.5625",
         "2",
         "Black"
        ],
        [
         "37",
         "49218",
         "2013-01-04 00:00:00",
         "6",
         "796",
         "1",
         "2181.5625",
         "2",
         "Black"
        ],
        [
         "38",
         "49219",
         "2013-01-04 00:00:00",
         "6",
         "784",
         "1",
         "2049.0982",
         "1",
         "Black"
        ],
        [
         "39",
         "49220",
         "2013-01-04 00:00:00",
         "6",
         "779",
         "1",
         "2071.4196",
         "1",
         "Silver"
        ],
        [
         "40",
         "49221",
         "2013-01-04 00:00:00",
         "6",
         "796",
         "1",
         "2181.5625",
         "2",
         "Black"
        ],
        [
         "41",
         "49222",
         "2013-01-04 00:00:00",
         "6",
         "779",
         "1",
         "2071.4196",
         "1",
         "Silver"
        ],
        [
         "42",
         "49223",
         "2013-01-04 00:00:00",
         "6",
         "783",
         "1",
         "2049.0982",
         "1",
         "Black"
        ],
        [
         "43",
         "49224",
         "2013-01-04 00:00:00",
         "6",
         "782",
         "1",
         "2049.0982",
         "1",
         "Black"
        ],
        [
         "44",
         "49225",
         "2013-01-05 00:00:00",
         "7",
         "794",
         "1",
         "2181.5625",
         "2",
         "Black"
        ],
        [
         "45",
         "49226",
         "2013-01-05 00:00:00",
         "7",
         "791",
         "1",
         "2443.35",
         "2",
         "Red"
        ],
        [
         "46",
         "49227",
         "2013-01-05 00:00:00",
         "7",
         "790",
         "1",
         "2443.35",
         "2",
         "Red"
        ],
        [
         "47",
         "49228",
         "2013-01-05 00:00:00",
         "7",
         "783",
         "1",
         "2049.0982",
         "1",
         "Black"
        ],
        [
         "48",
         "49229",
         "2013-01-05 00:00:00",
         "7",
         "781",
         "1",
         "2071.4196",
         "1",
         "Silver"
        ],
        [
         "49",
         "49230",
         "2013-01-05 00:00:00",
         "7",
         "782",
         "1",
         "2049.0982",
         "1",
         "Black"
        ]
       ],
       "shape": {
        "columns": 8,
        "rows": 56573
       }
      },
      "text/html": [
       "<div>\n",
       "<style scoped>\n",
       "    .dataframe tbody tr th:only-of-type {\n",
       "        vertical-align: middle;\n",
       "    }\n",
       "\n",
       "    .dataframe tbody tr th {\n",
       "        vertical-align: top;\n",
       "    }\n",
       "\n",
       "    .dataframe thead th {\n",
       "        text-align: right;\n",
       "    }\n",
       "</style>\n",
       "<table border=\"1\" class=\"dataframe\">\n",
       "  <thead>\n",
       "    <tr style=\"text-align: right;\">\n",
       "      <th></th>\n",
       "      <th>SalesOrderID</th>\n",
       "      <th>OrderDate</th>\n",
       "      <th>OrderWeekday</th>\n",
       "      <th>ProductID</th>\n",
       "      <th>OrderQty</th>\n",
       "      <th>LineTotal</th>\n",
       "      <th>ProductSubcategoryID</th>\n",
       "      <th>Color</th>\n",
       "    </tr>\n",
       "  </thead>\n",
       "  <tbody>\n",
       "    <tr>\n",
       "      <th>0</th>\n",
       "      <td>49181</td>\n",
       "      <td>2013-01-01</td>\n",
       "      <td>3</td>\n",
       "      <td>794</td>\n",
       "      <td>1</td>\n",
       "      <td>2181.5625</td>\n",
       "      <td>2</td>\n",
       "      <td>Black</td>\n",
       "    </tr>\n",
       "    <tr>\n",
       "      <th>1</th>\n",
       "      <td>49182</td>\n",
       "      <td>2013-01-01</td>\n",
       "      <td>3</td>\n",
       "      <td>790</td>\n",
       "      <td>1</td>\n",
       "      <td>2443.3500</td>\n",
       "      <td>2</td>\n",
       "      <td>Red</td>\n",
       "    </tr>\n",
       "    <tr>\n",
       "      <th>2</th>\n",
       "      <td>49183</td>\n",
       "      <td>2013-01-01</td>\n",
       "      <td>3</td>\n",
       "      <td>791</td>\n",
       "      <td>1</td>\n",
       "      <td>2443.3500</td>\n",
       "      <td>2</td>\n",
       "      <td>Red</td>\n",
       "    </tr>\n",
       "    <tr>\n",
       "      <th>3</th>\n",
       "      <td>49184</td>\n",
       "      <td>2013-01-01</td>\n",
       "      <td>3</td>\n",
       "      <td>784</td>\n",
       "      <td>1</td>\n",
       "      <td>2049.0982</td>\n",
       "      <td>1</td>\n",
       "      <td>Black</td>\n",
       "    </tr>\n",
       "    <tr>\n",
       "      <th>4</th>\n",
       "      <td>49185</td>\n",
       "      <td>2013-01-01</td>\n",
       "      <td>3</td>\n",
       "      <td>784</td>\n",
       "      <td>1</td>\n",
       "      <td>2049.0982</td>\n",
       "      <td>1</td>\n",
       "      <td>Black</td>\n",
       "    </tr>\n",
       "    <tr>\n",
       "      <th>...</th>\n",
       "      <td>...</td>\n",
       "      <td>...</td>\n",
       "      <td>...</td>\n",
       "      <td>...</td>\n",
       "      <td>...</td>\n",
       "      <td>...</td>\n",
       "      <td>...</td>\n",
       "      <td>...</td>\n",
       "    </tr>\n",
       "    <tr>\n",
       "      <th>56568</th>\n",
       "      <td>63360</td>\n",
       "      <td>2013-12-31</td>\n",
       "      <td>3</td>\n",
       "      <td>998</td>\n",
       "      <td>1</td>\n",
       "      <td>539.9900</td>\n",
       "      <td>2</td>\n",
       "      <td>Black</td>\n",
       "    </tr>\n",
       "    <tr>\n",
       "      <th>56569</th>\n",
       "      <td>63360</td>\n",
       "      <td>2013-12-31</td>\n",
       "      <td>3</td>\n",
       "      <td>872</td>\n",
       "      <td>1</td>\n",
       "      <td>8.9900</td>\n",
       "      <td>28</td>\n",
       "      <td>None</td>\n",
       "    </tr>\n",
       "    <tr>\n",
       "      <th>56570</th>\n",
       "      <td>63361</td>\n",
       "      <td>2013-12-31</td>\n",
       "      <td>3</td>\n",
       "      <td>955</td>\n",
       "      <td>1</td>\n",
       "      <td>2384.0700</td>\n",
       "      <td>3</td>\n",
       "      <td>Yellow</td>\n",
       "    </tr>\n",
       "    <tr>\n",
       "      <th>56571</th>\n",
       "      <td>63362</td>\n",
       "      <td>2013-12-31</td>\n",
       "      <td>3</td>\n",
       "      <td>966</td>\n",
       "      <td>1</td>\n",
       "      <td>2384.0700</td>\n",
       "      <td>3</td>\n",
       "      <td>Blue</td>\n",
       "    </tr>\n",
       "    <tr>\n",
       "      <th>56572</th>\n",
       "      <td>63362</td>\n",
       "      <td>2013-12-31</td>\n",
       "      <td>3</td>\n",
       "      <td>711</td>\n",
       "      <td>1</td>\n",
       "      <td>34.9900</td>\n",
       "      <td>31</td>\n",
       "      <td>Blue</td>\n",
       "    </tr>\n",
       "  </tbody>\n",
       "</table>\n",
       "<p>56573 rows × 8 columns</p>\n",
       "</div>"
      ],
      "text/plain": [
       "       SalesOrderID  OrderDate  OrderWeekday  ProductID  OrderQty  LineTotal  \\\n",
       "0             49181 2013-01-01             3        794         1  2181.5625   \n",
       "1             49182 2013-01-01             3        790         1  2443.3500   \n",
       "2             49183 2013-01-01             3        791         1  2443.3500   \n",
       "3             49184 2013-01-01             3        784         1  2049.0982   \n",
       "4             49185 2013-01-01             3        784         1  2049.0982   \n",
       "...             ...        ...           ...        ...       ...        ...   \n",
       "56568         63360 2013-12-31             3        998         1   539.9900   \n",
       "56569         63360 2013-12-31             3        872         1     8.9900   \n",
       "56570         63361 2013-12-31             3        955         1  2384.0700   \n",
       "56571         63362 2013-12-31             3        966         1  2384.0700   \n",
       "56572         63362 2013-12-31             3        711         1    34.9900   \n",
       "\n",
       "       ProductSubcategoryID   Color  \n",
       "0                         2   Black  \n",
       "1                         2     Red  \n",
       "2                         2     Red  \n",
       "3                         1   Black  \n",
       "4                         1   Black  \n",
       "...                     ...     ...  \n",
       "56568                     2   Black  \n",
       "56569                    28    None  \n",
       "56570                     3  Yellow  \n",
       "56571                     3    Blue  \n",
       "56572                    31    Blue  \n",
       "\n",
       "[56573 rows x 8 columns]"
      ]
     },
     "execution_count": 9,
     "metadata": {},
     "output_type": "execute_result"
    }
   ],
   "source": [
    "query='''\n",
    "        select  d.SalesOrderID,\n",
    "            h.OrderDate,\n",
    "            DATEPART(WEEKDAY, h.OrderDate) as OrderWeekday,\n",
    "            d.ProductID,\n",
    "            d.OrderQty,\n",
    "            d.LineTotal,\n",
    "            p.ProductSubcategoryID,\n",
    "            p.Color\n",
    "    from Sales.SalesOrderDetail d\n",
    "        join Sales.SalesOrderHeader h\n",
    "            on h.SalesOrderID = d.SalesOrderID\n",
    "        join Production.Product p\n",
    "            on p.ProductID = d.ProductID\n",
    "    where YEAR(OrderDate) = 2013 '''\n",
    " \n",
    "sales = pd.read_sql_query(query, conn)\n",
    "sales"
   ]
  },
  {
   "cell_type": "code",
   "execution_count": 10,
   "metadata": {},
   "outputs": [
    {
     "data": {
      "application/vnd.microsoft.datawrangler.viewer.v0+json": {
       "columns": [
        {
         "name": "Color",
         "rawType": "object",
         "type": "string"
        },
        {
         "name": "SalesOrderID",
         "rawType": "int64",
         "type": "integer"
        },
        {
         "name": "OrderQty",
         "rawType": "int64",
         "type": "integer"
        },
        {
         "name": "LineTotal",
         "rawType": "float64",
         "type": "float"
        }
       ],
       "ref": "14291ed8-d644-4198-82fe-3990b7c570c7",
       "rows": [
        [
         "Black",
         "12943",
         "35134",
         "15031199.732873"
        ],
        [
         "Blue",
         "4947",
         "14214",
         "5911773.8293779995"
        ],
        [
         "Multi",
         "3607",
         "10721",
         "266937.608439"
        ],
        [
         "Red",
         "3208",
         "7455",
         "3673029.982378"
        ],
        [
         "Silver",
         "5379",
         "13309",
         "7608885.823052"
        ],
        [
         "Silver/Black",
         "1057",
         "2774",
         "104183.93533200001"
        ],
        [
         "White",
         "738",
         "2724",
         "15404.388374"
        ],
        [
         "Yellow",
         "7083",
         "19536",
         "10423520.139188001"
        ]
       ],
       "shape": {
        "columns": 3,
        "rows": 8
       }
      },
      "text/html": [
       "<div>\n",
       "<style scoped>\n",
       "    .dataframe tbody tr th:only-of-type {\n",
       "        vertical-align: middle;\n",
       "    }\n",
       "\n",
       "    .dataframe tbody tr th {\n",
       "        vertical-align: top;\n",
       "    }\n",
       "\n",
       "    .dataframe thead th {\n",
       "        text-align: right;\n",
       "    }\n",
       "</style>\n",
       "<table border=\"1\" class=\"dataframe\">\n",
       "  <thead>\n",
       "    <tr style=\"text-align: right;\">\n",
       "      <th></th>\n",
       "      <th>SalesOrderID</th>\n",
       "      <th>OrderQty</th>\n",
       "      <th>LineTotal</th>\n",
       "    </tr>\n",
       "    <tr>\n",
       "      <th>Color</th>\n",
       "      <th></th>\n",
       "      <th></th>\n",
       "      <th></th>\n",
       "    </tr>\n",
       "  </thead>\n",
       "  <tbody>\n",
       "    <tr>\n",
       "      <th>Black</th>\n",
       "      <td>12943</td>\n",
       "      <td>35134</td>\n",
       "      <td>1.503120e+07</td>\n",
       "    </tr>\n",
       "    <tr>\n",
       "      <th>Blue</th>\n",
       "      <td>4947</td>\n",
       "      <td>14214</td>\n",
       "      <td>5.911774e+06</td>\n",
       "    </tr>\n",
       "    <tr>\n",
       "      <th>Multi</th>\n",
       "      <td>3607</td>\n",
       "      <td>10721</td>\n",
       "      <td>2.669376e+05</td>\n",
       "    </tr>\n",
       "    <tr>\n",
       "      <th>Red</th>\n",
       "      <td>3208</td>\n",
       "      <td>7455</td>\n",
       "      <td>3.673030e+06</td>\n",
       "    </tr>\n",
       "    <tr>\n",
       "      <th>Silver</th>\n",
       "      <td>5379</td>\n",
       "      <td>13309</td>\n",
       "      <td>7.608886e+06</td>\n",
       "    </tr>\n",
       "    <tr>\n",
       "      <th>Silver/Black</th>\n",
       "      <td>1057</td>\n",
       "      <td>2774</td>\n",
       "      <td>1.041839e+05</td>\n",
       "    </tr>\n",
       "    <tr>\n",
       "      <th>White</th>\n",
       "      <td>738</td>\n",
       "      <td>2724</td>\n",
       "      <td>1.540439e+04</td>\n",
       "    </tr>\n",
       "    <tr>\n",
       "      <th>Yellow</th>\n",
       "      <td>7083</td>\n",
       "      <td>19536</td>\n",
       "      <td>1.042352e+07</td>\n",
       "    </tr>\n",
       "  </tbody>\n",
       "</table>\n",
       "</div>"
      ],
      "text/plain": [
       "              SalesOrderID  OrderQty     LineTotal\n",
       "Color                                             \n",
       "Black                12943     35134  1.503120e+07\n",
       "Blue                  4947     14214  5.911774e+06\n",
       "Multi                 3607     10721  2.669376e+05\n",
       "Red                   3208      7455  3.673030e+06\n",
       "Silver                5379     13309  7.608886e+06\n",
       "Silver/Black          1057      2774  1.041839e+05\n",
       "White                  738      2724  1.540439e+04\n",
       "Yellow                7083     19536  1.042352e+07"
      ]
     },
     "execution_count": 10,
     "metadata": {},
     "output_type": "execute_result"
    }
   ],
   "source": [
    "#17\n",
    "sales.groupby(\"Color\").agg({\"SalesOrderID\":\"count\",\n",
    "                            \"OrderQty\":\"sum\",\n",
    "                            \"LineTotal\":\"sum\"})"
   ]
  },
  {
   "cell_type": "code",
   "execution_count": 11,
   "metadata": {},
   "outputs": [
    {
     "data": {
      "application/vnd.microsoft.datawrangler.viewer.v0+json": {
       "columns": [
        {
         "name": "Color",
         "rawType": "object",
         "type": "string"
        },
        {
         "name": "SalesOrderID",
         "rawType": "int64",
         "type": "integer"
        },
        {
         "name": "OrderQty",
         "rawType": "int64",
         "type": "integer"
        },
        {
         "name": "LineTotal",
         "rawType": "float64",
         "type": "float"
        }
       ],
       "ref": "54c44cba-420d-4cd2-8492-32379a66a5bc",
       "rows": [
        [
         "Black",
         "12943",
         "35134",
         "15031199.732873"
        ],
        [
         "Yellow",
         "7083",
         "19536",
         "10423520.139188001"
        ],
        [
         "Silver",
         "5379",
         "13309",
         "7608885.823052"
        ],
        [
         "Blue",
         "4947",
         "14214",
         "5911773.8293779995"
        ],
        [
         "Red",
         "3208",
         "7455",
         "3673029.982378"
        ],
        [
         "Multi",
         "3607",
         "10721",
         "266937.608439"
        ],
        [
         "Silver/Black",
         "1057",
         "2774",
         "104183.93533200001"
        ],
        [
         "White",
         "738",
         "2724",
         "15404.388374"
        ]
       ],
       "shape": {
        "columns": 3,
        "rows": 8
       }
      },
      "text/html": [
       "<div>\n",
       "<style scoped>\n",
       "    .dataframe tbody tr th:only-of-type {\n",
       "        vertical-align: middle;\n",
       "    }\n",
       "\n",
       "    .dataframe tbody tr th {\n",
       "        vertical-align: top;\n",
       "    }\n",
       "\n",
       "    .dataframe thead th {\n",
       "        text-align: right;\n",
       "    }\n",
       "</style>\n",
       "<table border=\"1\" class=\"dataframe\">\n",
       "  <thead>\n",
       "    <tr style=\"text-align: right;\">\n",
       "      <th></th>\n",
       "      <th>SalesOrderID</th>\n",
       "      <th>OrderQty</th>\n",
       "      <th>LineTotal</th>\n",
       "    </tr>\n",
       "    <tr>\n",
       "      <th>Color</th>\n",
       "      <th></th>\n",
       "      <th></th>\n",
       "      <th></th>\n",
       "    </tr>\n",
       "  </thead>\n",
       "  <tbody>\n",
       "    <tr>\n",
       "      <th>Black</th>\n",
       "      <td>12943</td>\n",
       "      <td>35134</td>\n",
       "      <td>1.503120e+07</td>\n",
       "    </tr>\n",
       "    <tr>\n",
       "      <th>Yellow</th>\n",
       "      <td>7083</td>\n",
       "      <td>19536</td>\n",
       "      <td>1.042352e+07</td>\n",
       "    </tr>\n",
       "    <tr>\n",
       "      <th>Silver</th>\n",
       "      <td>5379</td>\n",
       "      <td>13309</td>\n",
       "      <td>7.608886e+06</td>\n",
       "    </tr>\n",
       "    <tr>\n",
       "      <th>Blue</th>\n",
       "      <td>4947</td>\n",
       "      <td>14214</td>\n",
       "      <td>5.911774e+06</td>\n",
       "    </tr>\n",
       "    <tr>\n",
       "      <th>Red</th>\n",
       "      <td>3208</td>\n",
       "      <td>7455</td>\n",
       "      <td>3.673030e+06</td>\n",
       "    </tr>\n",
       "    <tr>\n",
       "      <th>Multi</th>\n",
       "      <td>3607</td>\n",
       "      <td>10721</td>\n",
       "      <td>2.669376e+05</td>\n",
       "    </tr>\n",
       "    <tr>\n",
       "      <th>Silver/Black</th>\n",
       "      <td>1057</td>\n",
       "      <td>2774</td>\n",
       "      <td>1.041839e+05</td>\n",
       "    </tr>\n",
       "    <tr>\n",
       "      <th>White</th>\n",
       "      <td>738</td>\n",
       "      <td>2724</td>\n",
       "      <td>1.540439e+04</td>\n",
       "    </tr>\n",
       "  </tbody>\n",
       "</table>\n",
       "</div>"
      ],
      "text/plain": [
       "              SalesOrderID  OrderQty     LineTotal\n",
       "Color                                             \n",
       "Black                12943     35134  1.503120e+07\n",
       "Yellow                7083     19536  1.042352e+07\n",
       "Silver                5379     13309  7.608886e+06\n",
       "Blue                  4947     14214  5.911774e+06\n",
       "Red                   3208      7455  3.673030e+06\n",
       "Multi                 3607     10721  2.669376e+05\n",
       "Silver/Black          1057      2774  1.041839e+05\n",
       "White                  738      2724  1.540439e+04"
      ]
     },
     "execution_count": 11,
     "metadata": {},
     "output_type": "execute_result"
    }
   ],
   "source": [
    "#18\n",
    "sales.groupby(\"Color\").agg({\"SalesOrderID\":\"count\",\n",
    "                            \"OrderQty\":\"sum\",\n",
    "                            \"LineTotal\":\"sum\"}).sort_values(\"LineTotal\",ascending=False)"
   ]
  },
  {
   "cell_type": "code",
   "execution_count": null,
   "metadata": {},
   "outputs": [],
   "source": []
  },
  {
   "cell_type": "code",
   "execution_count": null,
   "metadata": {},
   "outputs": [],
   "source": []
  },
  {
   "cell_type": "code",
   "execution_count": null,
   "metadata": {},
   "outputs": [],
   "source": []
  },
  {
   "cell_type": "code",
   "execution_count": 12,
   "metadata": {},
   "outputs": [
    {
     "data": {
      "application/vnd.microsoft.datawrangler.viewer.v0+json": {
       "columns": [
        {
         "name": "Color",
         "rawType": "object",
         "type": "string"
        },
        {
         "name": "SalesOrderID",
         "rawType": "int64",
         "type": "integer"
        },
        {
         "name": "OrderQty",
         "rawType": "int64",
         "type": "integer"
        },
        {
         "name": "LineTotal",
         "rawType": "float64",
         "type": "float"
        }
       ],
       "ref": "e748d4a7-8e60-48aa-96db-dd1cd377c449",
       "rows": [
        [
         "Black",
         "12943",
         "35134",
         "15031199.732873"
        ],
        [
         "Yellow",
         "7083",
         "19536",
         "10423520.139188001"
        ],
        [
         "Silver",
         "5379",
         "13309",
         "7608885.823052"
        ],
        [
         "Blue",
         "4947",
         "14214",
         "5911773.8293779995"
        ],
        [
         "Red",
         "3208",
         "7455",
         "3673029.982378"
        ],
        [
         "Multi",
         "3607",
         "10721",
         "266937.608439"
        ],
        [
         "Silver/Black",
         "1057",
         "2774",
         "104183.93533200001"
        ],
        [
         "White",
         "738",
         "2724",
         "15404.388374"
        ]
       ],
       "shape": {
        "columns": 3,
        "rows": 8
       }
      },
      "text/html": [
       "<div>\n",
       "<style scoped>\n",
       "    .dataframe tbody tr th:only-of-type {\n",
       "        vertical-align: middle;\n",
       "    }\n",
       "\n",
       "    .dataframe tbody tr th {\n",
       "        vertical-align: top;\n",
       "    }\n",
       "\n",
       "    .dataframe thead th {\n",
       "        text-align: right;\n",
       "    }\n",
       "</style>\n",
       "<table border=\"1\" class=\"dataframe\">\n",
       "  <thead>\n",
       "    <tr style=\"text-align: right;\">\n",
       "      <th></th>\n",
       "      <th>SalesOrderID</th>\n",
       "      <th>OrderQty</th>\n",
       "      <th>LineTotal</th>\n",
       "    </tr>\n",
       "    <tr>\n",
       "      <th>Color</th>\n",
       "      <th></th>\n",
       "      <th></th>\n",
       "      <th></th>\n",
       "    </tr>\n",
       "  </thead>\n",
       "  <tbody>\n",
       "    <tr>\n",
       "      <th>Black</th>\n",
       "      <td>12943</td>\n",
       "      <td>35134</td>\n",
       "      <td>1.503120e+07</td>\n",
       "    </tr>\n",
       "    <tr>\n",
       "      <th>Yellow</th>\n",
       "      <td>7083</td>\n",
       "      <td>19536</td>\n",
       "      <td>1.042352e+07</td>\n",
       "    </tr>\n",
       "    <tr>\n",
       "      <th>Silver</th>\n",
       "      <td>5379</td>\n",
       "      <td>13309</td>\n",
       "      <td>7.608886e+06</td>\n",
       "    </tr>\n",
       "    <tr>\n",
       "      <th>Blue</th>\n",
       "      <td>4947</td>\n",
       "      <td>14214</td>\n",
       "      <td>5.911774e+06</td>\n",
       "    </tr>\n",
       "    <tr>\n",
       "      <th>Red</th>\n",
       "      <td>3208</td>\n",
       "      <td>7455</td>\n",
       "      <td>3.673030e+06</td>\n",
       "    </tr>\n",
       "    <tr>\n",
       "      <th>Multi</th>\n",
       "      <td>3607</td>\n",
       "      <td>10721</td>\n",
       "      <td>2.669376e+05</td>\n",
       "    </tr>\n",
       "    <tr>\n",
       "      <th>Silver/Black</th>\n",
       "      <td>1057</td>\n",
       "      <td>2774</td>\n",
       "      <td>1.041839e+05</td>\n",
       "    </tr>\n",
       "    <tr>\n",
       "      <th>White</th>\n",
       "      <td>738</td>\n",
       "      <td>2724</td>\n",
       "      <td>1.540439e+04</td>\n",
       "    </tr>\n",
       "  </tbody>\n",
       "</table>\n",
       "</div>"
      ],
      "text/plain": [
       "              SalesOrderID  OrderQty     LineTotal\n",
       "Color                                             \n",
       "Black                12943     35134  1.503120e+07\n",
       "Yellow                7083     19536  1.042352e+07\n",
       "Silver                5379     13309  7.608886e+06\n",
       "Blue                  4947     14214  5.911774e+06\n",
       "Red                   3208      7455  3.673030e+06\n",
       "Multi                 3607     10721  2.669376e+05\n",
       "Silver/Black          1057      2774  1.041839e+05\n",
       "White                  738      2724  1.540439e+04"
      ]
     },
     "execution_count": 12,
     "metadata": {},
     "output_type": "execute_result"
    }
   ],
   "source": [
    "#18\n",
    "sales.groupby(\"Color\").agg({\"SalesOrderID\":\"count\",\n",
    "                            \"OrderQty\":\"sum\",\n",
    "                            \"LineTotal\":\"sum\"}).sort_values(\"LineTotal\",ascending=False)"
   ]
  },
  {
   "cell_type": "code",
   "execution_count": 13,
   "metadata": {},
   "outputs": [
    {
     "data": {
      "application/vnd.microsoft.datawrangler.viewer.v0+json": {
       "columns": [
        {
         "name": "ProductSubcategoryID",
         "rawType": "object",
         "type": "unknown"
        },
        {
         "name": "Black",
         "rawType": "float64",
         "type": "float"
        },
        {
         "name": "Blue",
         "rawType": "float64",
         "type": "float"
        },
        {
         "name": "Multi",
         "rawType": "float64",
         "type": "float"
        },
        {
         "name": "Red",
         "rawType": "float64",
         "type": "float"
        },
        {
         "name": "Silver",
         "rawType": "float64",
         "type": "float"
        },
        {
         "name": "Silver/Black",
         "rawType": "float64",
         "type": "float"
        },
        {
         "name": "White",
         "rawType": "float64",
         "type": "float"
        },
        {
         "name": "Yellow",
         "rawType": "float64",
         "type": "float"
        },
        {
         "name": "All",
         "rawType": "int64",
         "type": "integer"
        }
       ],
       "ref": "0955bdb1-7824-43c5-b423-90acb15076fe",
       "rows": [
        [
         "1",
         "5856.0",
         null,
         null,
         null,
         "5878.0",
         null,
         null,
         null,
         "11734"
        ],
        [
         "2",
         "6963.0",
         null,
         null,
         "3349.0",
         null,
         null,
         null,
         "6386.0",
         "16698"
        ],
        [
         "3",
         null,
         "5362.0",
         null,
         null,
         null,
         null,
         null,
         "3954.0",
         "9316"
        ],
        [
         "6",
         null,
         null,
         null,
         null,
         "767.0",
         null,
         null,
         null,
         "767"
        ],
        [
         "7",
         null,
         null,
         null,
         null,
         "533.0",
         null,
         null,
         null,
         "533"
        ],
        [
         "8",
         "768.0",
         null,
         null,
         null,
         null,
         null,
         null,
         null,
         "768"
        ],
        [
         "9",
         null,
         null,
         null,
         null,
         "804.0",
         null,
         null,
         null,
         "804"
        ],
        [
         "12",
         "2451.0",
         null,
         null,
         null,
         "3525.0",
         null,
         null,
         null,
         "5976"
        ],
        [
         "13",
         null,
         null,
         null,
         null,
         null,
         "2774.0",
         null,
         null,
         "2774"
        ],
        [
         "14",
         "1426.0",
         null,
         null,
         "1166.0",
         null,
         null,
         null,
         "1685.0",
         "4277"
        ],
        [
         "16",
         null,
         "1227.0",
         null,
         null,
         null,
         null,
         null,
         "1424.0",
         "2651"
        ],
        [
         "17",
         "1471.0",
         null,
         null,
         null,
         null,
         null,
         null,
         null,
         "1471"
        ],
        [
         "18",
         null,
         null,
         "936.0",
         null,
         null,
         null,
         null,
         null,
         "936"
        ],
        [
         "19",
         null,
         null,
         "3768.0",
         null,
         null,
         null,
         null,
         null,
         "3768"
        ],
        [
         "20",
         "5952.0",
         null,
         null,
         null,
         null,
         null,
         null,
         null,
         "5952"
        ],
        [
         "21",
         null,
         null,
         "6017.0",
         null,
         null,
         null,
         null,
         "6087.0",
         "12104"
        ],
        [
         "22",
         "5761.0",
         null,
         null,
         null,
         null,
         null,
         null,
         null,
         "5761"
        ],
        [
         "23",
         null,
         null,
         null,
         null,
         null,
         null,
         "2724.0",
         null,
         "2724"
        ],
        [
         "24",
         "1398.0",
         null,
         null,
         null,
         null,
         null,
         null,
         null,
         "1398"
        ],
        [
         "25",
         null,
         "4537.0",
         null,
         null,
         null,
         null,
         null,
         null,
         "4537"
        ],
        [
         "31",
         "3088.0",
         "3088.0",
         null,
         "2940.0",
         null,
         null,
         null,
         null,
         "9116"
        ],
        [
         "32",
         null,
         null,
         null,
         null,
         "1802.0",
         null,
         null,
         null,
         "1802"
        ],
        [
         "All",
         "35134.0",
         "14214.0",
         "10721.0",
         "7455.0",
         "13309.0",
         "2774.0",
         "2724.0",
         "19536.0",
         "105867"
        ]
       ],
       "shape": {
        "columns": 9,
        "rows": 23
       }
      },
      "text/html": [
       "<div>\n",
       "<style scoped>\n",
       "    .dataframe tbody tr th:only-of-type {\n",
       "        vertical-align: middle;\n",
       "    }\n",
       "\n",
       "    .dataframe tbody tr th {\n",
       "        vertical-align: top;\n",
       "    }\n",
       "\n",
       "    .dataframe thead th {\n",
       "        text-align: right;\n",
       "    }\n",
       "</style>\n",
       "<table border=\"1\" class=\"dataframe\">\n",
       "  <thead>\n",
       "    <tr style=\"text-align: right;\">\n",
       "      <th>Color</th>\n",
       "      <th>Black</th>\n",
       "      <th>Blue</th>\n",
       "      <th>Multi</th>\n",
       "      <th>Red</th>\n",
       "      <th>Silver</th>\n",
       "      <th>Silver/Black</th>\n",
       "      <th>White</th>\n",
       "      <th>Yellow</th>\n",
       "      <th>All</th>\n",
       "    </tr>\n",
       "    <tr>\n",
       "      <th>ProductSubcategoryID</th>\n",
       "      <th></th>\n",
       "      <th></th>\n",
       "      <th></th>\n",
       "      <th></th>\n",
       "      <th></th>\n",
       "      <th></th>\n",
       "      <th></th>\n",
       "      <th></th>\n",
       "      <th></th>\n",
       "    </tr>\n",
       "  </thead>\n",
       "  <tbody>\n",
       "    <tr>\n",
       "      <th>1</th>\n",
       "      <td>5856.0</td>\n",
       "      <td>NaN</td>\n",
       "      <td>NaN</td>\n",
       "      <td>NaN</td>\n",
       "      <td>5878.0</td>\n",
       "      <td>NaN</td>\n",
       "      <td>NaN</td>\n",
       "      <td>NaN</td>\n",
       "      <td>11734</td>\n",
       "    </tr>\n",
       "    <tr>\n",
       "      <th>2</th>\n",
       "      <td>6963.0</td>\n",
       "      <td>NaN</td>\n",
       "      <td>NaN</td>\n",
       "      <td>3349.0</td>\n",
       "      <td>NaN</td>\n",
       "      <td>NaN</td>\n",
       "      <td>NaN</td>\n",
       "      <td>6386.0</td>\n",
       "      <td>16698</td>\n",
       "    </tr>\n",
       "    <tr>\n",
       "      <th>3</th>\n",
       "      <td>NaN</td>\n",
       "      <td>5362.0</td>\n",
       "      <td>NaN</td>\n",
       "      <td>NaN</td>\n",
       "      <td>NaN</td>\n",
       "      <td>NaN</td>\n",
       "      <td>NaN</td>\n",
       "      <td>3954.0</td>\n",
       "      <td>9316</td>\n",
       "    </tr>\n",
       "    <tr>\n",
       "      <th>6</th>\n",
       "      <td>NaN</td>\n",
       "      <td>NaN</td>\n",
       "      <td>NaN</td>\n",
       "      <td>NaN</td>\n",
       "      <td>767.0</td>\n",
       "      <td>NaN</td>\n",
       "      <td>NaN</td>\n",
       "      <td>NaN</td>\n",
       "      <td>767</td>\n",
       "    </tr>\n",
       "    <tr>\n",
       "      <th>7</th>\n",
       "      <td>NaN</td>\n",
       "      <td>NaN</td>\n",
       "      <td>NaN</td>\n",
       "      <td>NaN</td>\n",
       "      <td>533.0</td>\n",
       "      <td>NaN</td>\n",
       "      <td>NaN</td>\n",
       "      <td>NaN</td>\n",
       "      <td>533</td>\n",
       "    </tr>\n",
       "    <tr>\n",
       "      <th>8</th>\n",
       "      <td>768.0</td>\n",
       "      <td>NaN</td>\n",
       "      <td>NaN</td>\n",
       "      <td>NaN</td>\n",
       "      <td>NaN</td>\n",
       "      <td>NaN</td>\n",
       "      <td>NaN</td>\n",
       "      <td>NaN</td>\n",
       "      <td>768</td>\n",
       "    </tr>\n",
       "    <tr>\n",
       "      <th>9</th>\n",
       "      <td>NaN</td>\n",
       "      <td>NaN</td>\n",
       "      <td>NaN</td>\n",
       "      <td>NaN</td>\n",
       "      <td>804.0</td>\n",
       "      <td>NaN</td>\n",
       "      <td>NaN</td>\n",
       "      <td>NaN</td>\n",
       "      <td>804</td>\n",
       "    </tr>\n",
       "    <tr>\n",
       "      <th>12</th>\n",
       "      <td>2451.0</td>\n",
       "      <td>NaN</td>\n",
       "      <td>NaN</td>\n",
       "      <td>NaN</td>\n",
       "      <td>3525.0</td>\n",
       "      <td>NaN</td>\n",
       "      <td>NaN</td>\n",
       "      <td>NaN</td>\n",
       "      <td>5976</td>\n",
       "    </tr>\n",
       "    <tr>\n",
       "      <th>13</th>\n",
       "      <td>NaN</td>\n",
       "      <td>NaN</td>\n",
       "      <td>NaN</td>\n",
       "      <td>NaN</td>\n",
       "      <td>NaN</td>\n",
       "      <td>2774.0</td>\n",
       "      <td>NaN</td>\n",
       "      <td>NaN</td>\n",
       "      <td>2774</td>\n",
       "    </tr>\n",
       "    <tr>\n",
       "      <th>14</th>\n",
       "      <td>1426.0</td>\n",
       "      <td>NaN</td>\n",
       "      <td>NaN</td>\n",
       "      <td>1166.0</td>\n",
       "      <td>NaN</td>\n",
       "      <td>NaN</td>\n",
       "      <td>NaN</td>\n",
       "      <td>1685.0</td>\n",
       "      <td>4277</td>\n",
       "    </tr>\n",
       "    <tr>\n",
       "      <th>16</th>\n",
       "      <td>NaN</td>\n",
       "      <td>1227.0</td>\n",
       "      <td>NaN</td>\n",
       "      <td>NaN</td>\n",
       "      <td>NaN</td>\n",
       "      <td>NaN</td>\n",
       "      <td>NaN</td>\n",
       "      <td>1424.0</td>\n",
       "      <td>2651</td>\n",
       "    </tr>\n",
       "    <tr>\n",
       "      <th>17</th>\n",
       "      <td>1471.0</td>\n",
       "      <td>NaN</td>\n",
       "      <td>NaN</td>\n",
       "      <td>NaN</td>\n",
       "      <td>NaN</td>\n",
       "      <td>NaN</td>\n",
       "      <td>NaN</td>\n",
       "      <td>NaN</td>\n",
       "      <td>1471</td>\n",
       "    </tr>\n",
       "    <tr>\n",
       "      <th>18</th>\n",
       "      <td>NaN</td>\n",
       "      <td>NaN</td>\n",
       "      <td>936.0</td>\n",
       "      <td>NaN</td>\n",
       "      <td>NaN</td>\n",
       "      <td>NaN</td>\n",
       "      <td>NaN</td>\n",
       "      <td>NaN</td>\n",
       "      <td>936</td>\n",
       "    </tr>\n",
       "    <tr>\n",
       "      <th>19</th>\n",
       "      <td>NaN</td>\n",
       "      <td>NaN</td>\n",
       "      <td>3768.0</td>\n",
       "      <td>NaN</td>\n",
       "      <td>NaN</td>\n",
       "      <td>NaN</td>\n",
       "      <td>NaN</td>\n",
       "      <td>NaN</td>\n",
       "      <td>3768</td>\n",
       "    </tr>\n",
       "    <tr>\n",
       "      <th>20</th>\n",
       "      <td>5952.0</td>\n",
       "      <td>NaN</td>\n",
       "      <td>NaN</td>\n",
       "      <td>NaN</td>\n",
       "      <td>NaN</td>\n",
       "      <td>NaN</td>\n",
       "      <td>NaN</td>\n",
       "      <td>NaN</td>\n",
       "      <td>5952</td>\n",
       "    </tr>\n",
       "    <tr>\n",
       "      <th>21</th>\n",
       "      <td>NaN</td>\n",
       "      <td>NaN</td>\n",
       "      <td>6017.0</td>\n",
       "      <td>NaN</td>\n",
       "      <td>NaN</td>\n",
       "      <td>NaN</td>\n",
       "      <td>NaN</td>\n",
       "      <td>6087.0</td>\n",
       "      <td>12104</td>\n",
       "    </tr>\n",
       "    <tr>\n",
       "      <th>22</th>\n",
       "      <td>5761.0</td>\n",
       "      <td>NaN</td>\n",
       "      <td>NaN</td>\n",
       "      <td>NaN</td>\n",
       "      <td>NaN</td>\n",
       "      <td>NaN</td>\n",
       "      <td>NaN</td>\n",
       "      <td>NaN</td>\n",
       "      <td>5761</td>\n",
       "    </tr>\n",
       "    <tr>\n",
       "      <th>23</th>\n",
       "      <td>NaN</td>\n",
       "      <td>NaN</td>\n",
       "      <td>NaN</td>\n",
       "      <td>NaN</td>\n",
       "      <td>NaN</td>\n",
       "      <td>NaN</td>\n",
       "      <td>2724.0</td>\n",
       "      <td>NaN</td>\n",
       "      <td>2724</td>\n",
       "    </tr>\n",
       "    <tr>\n",
       "      <th>24</th>\n",
       "      <td>1398.0</td>\n",
       "      <td>NaN</td>\n",
       "      <td>NaN</td>\n",
       "      <td>NaN</td>\n",
       "      <td>NaN</td>\n",
       "      <td>NaN</td>\n",
       "      <td>NaN</td>\n",
       "      <td>NaN</td>\n",
       "      <td>1398</td>\n",
       "    </tr>\n",
       "    <tr>\n",
       "      <th>25</th>\n",
       "      <td>NaN</td>\n",
       "      <td>4537.0</td>\n",
       "      <td>NaN</td>\n",
       "      <td>NaN</td>\n",
       "      <td>NaN</td>\n",
       "      <td>NaN</td>\n",
       "      <td>NaN</td>\n",
       "      <td>NaN</td>\n",
       "      <td>4537</td>\n",
       "    </tr>\n",
       "    <tr>\n",
       "      <th>31</th>\n",
       "      <td>3088.0</td>\n",
       "      <td>3088.0</td>\n",
       "      <td>NaN</td>\n",
       "      <td>2940.0</td>\n",
       "      <td>NaN</td>\n",
       "      <td>NaN</td>\n",
       "      <td>NaN</td>\n",
       "      <td>NaN</td>\n",
       "      <td>9116</td>\n",
       "    </tr>\n",
       "    <tr>\n",
       "      <th>32</th>\n",
       "      <td>NaN</td>\n",
       "      <td>NaN</td>\n",
       "      <td>NaN</td>\n",
       "      <td>NaN</td>\n",
       "      <td>1802.0</td>\n",
       "      <td>NaN</td>\n",
       "      <td>NaN</td>\n",
       "      <td>NaN</td>\n",
       "      <td>1802</td>\n",
       "    </tr>\n",
       "    <tr>\n",
       "      <th>All</th>\n",
       "      <td>35134.0</td>\n",
       "      <td>14214.0</td>\n",
       "      <td>10721.0</td>\n",
       "      <td>7455.0</td>\n",
       "      <td>13309.0</td>\n",
       "      <td>2774.0</td>\n",
       "      <td>2724.0</td>\n",
       "      <td>19536.0</td>\n",
       "      <td>105867</td>\n",
       "    </tr>\n",
       "  </tbody>\n",
       "</table>\n",
       "</div>"
      ],
      "text/plain": [
       "Color                   Black     Blue    Multi     Red   Silver  \\\n",
       "ProductSubcategoryID                                               \n",
       "1                      5856.0      NaN      NaN     NaN   5878.0   \n",
       "2                      6963.0      NaN      NaN  3349.0      NaN   \n",
       "3                         NaN   5362.0      NaN     NaN      NaN   \n",
       "6                         NaN      NaN      NaN     NaN    767.0   \n",
       "7                         NaN      NaN      NaN     NaN    533.0   \n",
       "8                       768.0      NaN      NaN     NaN      NaN   \n",
       "9                         NaN      NaN      NaN     NaN    804.0   \n",
       "12                     2451.0      NaN      NaN     NaN   3525.0   \n",
       "13                        NaN      NaN      NaN     NaN      NaN   \n",
       "14                     1426.0      NaN      NaN  1166.0      NaN   \n",
       "16                        NaN   1227.0      NaN     NaN      NaN   \n",
       "17                     1471.0      NaN      NaN     NaN      NaN   \n",
       "18                        NaN      NaN    936.0     NaN      NaN   \n",
       "19                        NaN      NaN   3768.0     NaN      NaN   \n",
       "20                     5952.0      NaN      NaN     NaN      NaN   \n",
       "21                        NaN      NaN   6017.0     NaN      NaN   \n",
       "22                     5761.0      NaN      NaN     NaN      NaN   \n",
       "23                        NaN      NaN      NaN     NaN      NaN   \n",
       "24                     1398.0      NaN      NaN     NaN      NaN   \n",
       "25                        NaN   4537.0      NaN     NaN      NaN   \n",
       "31                     3088.0   3088.0      NaN  2940.0      NaN   \n",
       "32                        NaN      NaN      NaN     NaN   1802.0   \n",
       "All                   35134.0  14214.0  10721.0  7455.0  13309.0   \n",
       "\n",
       "Color                 Silver/Black   White   Yellow     All  \n",
       "ProductSubcategoryID                                         \n",
       "1                              NaN     NaN      NaN   11734  \n",
       "2                              NaN     NaN   6386.0   16698  \n",
       "3                              NaN     NaN   3954.0    9316  \n",
       "6                              NaN     NaN      NaN     767  \n",
       "7                              NaN     NaN      NaN     533  \n",
       "8                              NaN     NaN      NaN     768  \n",
       "9                              NaN     NaN      NaN     804  \n",
       "12                             NaN     NaN      NaN    5976  \n",
       "13                          2774.0     NaN      NaN    2774  \n",
       "14                             NaN     NaN   1685.0    4277  \n",
       "16                             NaN     NaN   1424.0    2651  \n",
       "17                             NaN     NaN      NaN    1471  \n",
       "18                             NaN     NaN      NaN     936  \n",
       "19                             NaN     NaN      NaN    3768  \n",
       "20                             NaN     NaN      NaN    5952  \n",
       "21                             NaN     NaN   6087.0   12104  \n",
       "22                             NaN     NaN      NaN    5761  \n",
       "23                             NaN  2724.0      NaN    2724  \n",
       "24                             NaN     NaN      NaN    1398  \n",
       "25                             NaN     NaN      NaN    4537  \n",
       "31                             NaN     NaN      NaN    9116  \n",
       "32                             NaN     NaN      NaN    1802  \n",
       "All                         2774.0  2724.0  19536.0  105867  "
      ]
     },
     "execution_count": 13,
     "metadata": {},
     "output_type": "execute_result"
    }
   ],
   "source": [
    "sales.pivot_table(index=\"ProductSubcategoryID\",\n",
    "                  columns=\"Color\",\n",
    "                  values=\"OrderQty\",\n",
    "                  aggfunc=\"sum\",\n",
    "                  margins=True)"
   ]
  },
  {
   "cell_type": "code",
   "execution_count": 14,
   "metadata": {},
   "outputs": [],
   "source": [
    "conn.dispose()"
   ]
  },
  {
   "cell_type": "code",
   "execution_count": 2,
   "metadata": {},
   "outputs": [
    {
     "name": "stdout",
     "output_type": "stream",
     "text": [
      "Requirement already satisfied: openpyxl in c:\\users\\hanay\\appdata\\local\\programs\\python\\python313\\lib\\site-packages (3.1.5)\n",
      "Requirement already satisfied: et-xmlfile in c:\\users\\hanay\\appdata\\local\\programs\\python\\python313\\lib\\site-packages (from openpyxl) (2.0.0)\n",
      "Note: you may need to restart the kernel to use updated packages.\n"
     ]
    }
   ],
   "source": [
    "pip install openpyxl"
   ]
  },
  {
   "cell_type": "code",
   "execution_count": 4,
   "metadata": {},
   "outputs": [
    {
     "ename": "NameError",
     "evalue": "name 'sales' is not defined",
     "output_type": "error",
     "traceback": [
      "\u001b[31m---------------------------------------------------------------------------\u001b[39m",
      "\u001b[31mNameError\u001b[39m                                 Traceback (most recent call last)",
      "\u001b[36mCell\u001b[39m\u001b[36m \u001b[39m\u001b[32mIn[4]\u001b[39m\u001b[32m, line 1\u001b[39m\n\u001b[32m----> \u001b[39m\u001b[32m1\u001b[39m \u001b[43msales\u001b[49m.to_csv(\u001b[33m\"\u001b[39m\u001b[33mmysales.csv\u001b[39m\u001b[33m\"\u001b[39m,index=\u001b[38;5;28;01mFalse\u001b[39;00m)\n\u001b[32m      2\u001b[39m sales.to_excel(\u001b[33m\"\u001b[39m\u001b[33mmysales.xlsx\u001b[39m\u001b[33m\"\u001b[39m,index=\u001b[38;5;28;01mFalse\u001b[39;00m)\n",
      "\u001b[31mNameError\u001b[39m: name 'sales' is not defined"
     ]
    }
   ],
   "source": [
    "sales.to_csv(\"mysales.csv\",index=False)\n",
    "sales.to_excel(\"mysales.xlsx\",index=False)"
   ]
  },
  {
   "cell_type": "code",
   "execution_count": 5,
   "metadata": {},
   "outputs": [],
   "source": [
    "import matplotlib.pyplot as plt\n",
    "import seaborn as sns\n",
    "import openpyxl\n",
    "from openpyxl.utils.dataframe import dataframe_to_rows"
   ]
  },
  {
   "cell_type": "code",
   "execution_count": 8,
   "metadata": {},
   "outputs": [
    {
     "data": {
      "application/vnd.microsoft.datawrangler.viewer.v0+json": {
       "columns": [
        {
         "name": "index",
         "rawType": "int64",
         "type": "integer"
        },
        {
         "name": "pickup",
         "rawType": "datetime64[ns]",
         "type": "datetime"
        },
        {
         "name": "dropoff",
         "rawType": "datetime64[ns]",
         "type": "datetime"
        },
        {
         "name": "passengers",
         "rawType": "int64",
         "type": "integer"
        },
        {
         "name": "distance",
         "rawType": "float64",
         "type": "float"
        },
        {
         "name": "fare",
         "rawType": "float64",
         "type": "float"
        },
        {
         "name": "tip",
         "rawType": "float64",
         "type": "float"
        },
        {
         "name": "tolls",
         "rawType": "float64",
         "type": "float"
        },
        {
         "name": "total",
         "rawType": "float64",
         "type": "float"
        },
        {
         "name": "color",
         "rawType": "object",
         "type": "string"
        },
        {
         "name": "payment",
         "rawType": "object",
         "type": "unknown"
        },
        {
         "name": "pickup_zone",
         "rawType": "object",
         "type": "unknown"
        },
        {
         "name": "dropoff_zone",
         "rawType": "object",
         "type": "unknown"
        },
        {
         "name": "pickup_borough",
         "rawType": "object",
         "type": "unknown"
        },
        {
         "name": "dropoff_borough",
         "rawType": "object",
         "type": "unknown"
        }
       ],
       "ref": "f14b134d-c88b-4be7-894f-f746b9471da9",
       "rows": [
        [
         "0",
         "2019-03-23 20:21:09",
         "2019-03-23 20:27:24",
         "1",
         "1.6",
         "7.0",
         "2.15",
         "0.0",
         "12.95",
         "yellow",
         "credit card",
         "Lenox Hill West",
         "UN/Turtle Bay South",
         "Manhattan",
         "Manhattan"
        ],
        [
         "1",
         "2019-03-04 16:11:55",
         "2019-03-04 16:19:00",
         "1",
         "0.79",
         "5.0",
         "0.0",
         "0.0",
         "9.3",
         "yellow",
         "cash",
         "Upper West Side South",
         "Upper West Side South",
         "Manhattan",
         "Manhattan"
        ],
        [
         "2",
         "2019-03-27 17:53:01",
         "2019-03-27 18:00:25",
         "1",
         "1.37",
         "7.5",
         "2.36",
         "0.0",
         "14.16",
         "yellow",
         "credit card",
         "Alphabet City",
         "West Village",
         "Manhattan",
         "Manhattan"
        ],
        [
         "3",
         "2019-03-10 01:23:59",
         "2019-03-10 01:49:51",
         "1",
         "7.7",
         "27.0",
         "6.15",
         "0.0",
         "36.95",
         "yellow",
         "credit card",
         "Hudson Sq",
         "Yorkville West",
         "Manhattan",
         "Manhattan"
        ],
        [
         "4",
         "2019-03-30 13:27:42",
         "2019-03-30 13:37:14",
         "3",
         "2.16",
         "9.0",
         "1.1",
         "0.0",
         "13.4",
         "yellow",
         "credit card",
         "Midtown East",
         "Yorkville West",
         "Manhattan",
         "Manhattan"
        ],
        [
         "5",
         "2019-03-11 10:37:23",
         "2019-03-11 10:47:31",
         "1",
         "0.49",
         "7.5",
         "2.16",
         "0.0",
         "12.96",
         "yellow",
         "credit card",
         "Times Sq/Theatre District",
         "Midtown East",
         "Manhattan",
         "Manhattan"
        ],
        [
         "6",
         "2019-03-26 21:07:31",
         "2019-03-26 21:17:29",
         "1",
         "3.65",
         "13.0",
         "2.0",
         "0.0",
         "18.8",
         "yellow",
         "credit card",
         "Battery Park City",
         "Two Bridges/Seward Park",
         "Manhattan",
         "Manhattan"
        ],
        [
         "7",
         "2019-03-22 12:47:13",
         "2019-03-22 12:58:17",
         "0",
         "1.4",
         "8.5",
         "0.0",
         "0.0",
         "11.8",
         "yellow",
         null,
         "Murray Hill",
         "Flatiron",
         "Manhattan",
         "Manhattan"
        ],
        [
         "8",
         "2019-03-23 11:48:50",
         "2019-03-23 12:06:14",
         "1",
         "3.63",
         "15.0",
         "1.0",
         "0.0",
         "19.3",
         "yellow",
         "credit card",
         "East Harlem South",
         "Midtown Center",
         "Manhattan",
         "Manhattan"
        ],
        [
         "9",
         "2019-03-08 16:18:37",
         "2019-03-08 16:26:57",
         "1",
         "1.52",
         "8.0",
         "1.0",
         "0.0",
         "13.3",
         "yellow",
         "credit card",
         "Lincoln Square East",
         "Central Park",
         "Manhattan",
         "Manhattan"
        ],
        [
         "10",
         "2019-03-16 10:02:25",
         "2019-03-16 10:22:29",
         "1",
         "3.9",
         "17.0",
         "0.0",
         "0.0",
         "17.8",
         "yellow",
         "cash",
         "LaGuardia Airport",
         "Astoria",
         "Queens",
         "Queens"
        ],
        [
         "11",
         "2019-03-20 19:39:42",
         "2019-03-20 19:45:36",
         "1",
         "1.53",
         "6.5",
         "2.16",
         "0.0",
         "12.96",
         "yellow",
         "credit card",
         "Upper West Side South",
         "Manhattan Valley",
         "Manhattan",
         "Manhattan"
        ],
        [
         "12",
         "2019-03-18 21:27:14",
         "2019-03-18 21:34:16",
         "1",
         "1.05",
         "6.5",
         "1.0",
         "0.0",
         "11.3",
         "yellow",
         "credit card",
         "Murray Hill",
         "Midtown Center",
         "Manhattan",
         "Manhattan"
        ],
        [
         "13",
         "2019-03-19 07:55:25",
         "2019-03-19 08:09:17",
         "1",
         "1.75",
         "10.5",
         "0.0",
         "0.0",
         "13.8",
         "yellow",
         "cash",
         "Lincoln Square West",
         "Times Sq/Theatre District",
         "Manhattan",
         "Manhattan"
        ],
        [
         "14",
         "2019-03-27 12:13:34",
         "2019-03-27 12:25:48",
         "0",
         "2.9",
         "11.5",
         "0.0",
         "0.0",
         "14.8",
         "yellow",
         "cash",
         "Financial District North",
         "Two Bridges/Seward Park",
         "Manhattan",
         "Manhattan"
        ],
        [
         "15",
         "2019-03-16 17:53:34",
         "2019-03-16 18:13:57",
         "3",
         "2.09",
         "13.5",
         "0.0",
         "0.0",
         "16.8",
         "yellow",
         "cash",
         "Upper West Side North",
         "Clinton East",
         "Manhattan",
         "Manhattan"
        ],
        [
         "16",
         "2019-03-15 12:36:05",
         "2019-03-15 12:54:28",
         "1",
         "2.12",
         "13.0",
         "0.0",
         "0.0",
         "16.3",
         "yellow",
         "cash",
         "East Chelsea",
         "Meatpacking/West Village West",
         "Manhattan",
         "Manhattan"
        ],
        [
         "17",
         "2019-03-23 20:50:49",
         "2019-03-23 21:02:07",
         "1",
         "2.6",
         "10.5",
         "2.0",
         "0.0",
         "16.3",
         "yellow",
         "credit card",
         "Midtown Center",
         "East Harlem South",
         "Manhattan",
         "Manhattan"
        ],
        [
         "18",
         "2019-03-27 06:28:36",
         "2019-03-27 06:38:10",
         "1",
         "2.18",
         "9.5",
         "1.92",
         "0.0",
         "14.72",
         "yellow",
         "credit card",
         "Gramercy",
         "Midtown Center",
         "Manhattan",
         "Manhattan"
        ],
        [
         "19",
         "2019-03-25 22:04:25",
         "2019-03-25 22:11:30",
         "6",
         "1.08",
         "6.5",
         "1.08",
         "0.0",
         "11.38",
         "yellow",
         "credit card",
         "East Chelsea",
         "East Chelsea",
         "Manhattan",
         "Manhattan"
        ],
        [
         "20",
         "2019-03-21 03:37:34",
         "2019-03-21 03:44:13",
         "1",
         "1.07",
         "6.5",
         "1.54",
         "0.0",
         "11.84",
         "yellow",
         "credit card",
         "Penn Station/Madison Sq West",
         "Kips Bay",
         "Manhattan",
         "Manhattan"
        ],
        [
         "21",
         "2019-03-25 23:05:54",
         "2019-03-25 23:11:13",
         "1",
         "0.8",
         "5.5",
         "2.3",
         "0.0",
         "11.6",
         "yellow",
         "credit card",
         "Penn Station/Madison Sq West",
         "Murray Hill",
         "Manhattan",
         "Manhattan"
        ],
        [
         "22",
         "2019-03-28 17:20:54",
         "2019-03-28 17:55:57",
         "1",
         "9.82",
         "31.5",
         "8.31",
         "5.76",
         "49.87",
         "yellow",
         "credit card",
         "LaGuardia Airport",
         "Sutton Place/Turtle Bay North",
         "Queens",
         "Manhattan"
        ],
        [
         "23",
         "2019-03-04 12:15:39",
         "2019-03-04 12:26:53",
         "5",
         "1.09",
         "8.5",
         "2.36",
         "0.0",
         "14.16",
         "yellow",
         "credit card",
         "Sutton Place/Turtle Bay North",
         "Midtown North",
         "Manhattan",
         "Manhattan"
        ],
        [
         "24",
         "2019-03-24 09:53:28",
         "2019-03-24 10:01:22",
         "5",
         "2.89",
         "9.5",
         "3.84",
         "0.0",
         "16.64",
         "yellow",
         "credit card",
         "Lenox Hill West",
         "Gramercy",
         "Manhattan",
         "Manhattan"
        ],
        [
         "25",
         "2019-03-25 08:01:01",
         "2019-03-25 08:13:27",
         "1",
         "1.9",
         "10.0",
         "3.0",
         "0.0",
         "16.3",
         "yellow",
         "credit card",
         "Lincoln Square East",
         "Midtown South",
         "Manhattan",
         "Manhattan"
        ],
        [
         "26",
         "2019-03-03 02:45:36",
         "2019-03-03 03:02:14",
         "1",
         "3.35",
         "13.5",
         "0.0",
         "0.0",
         "17.3",
         "yellow",
         "cash",
         "West Chelsea/Hudson Yards",
         "Seaport",
         "Manhattan",
         "Manhattan"
        ],
        [
         "27",
         "2019-03-16 20:30:36",
         "2019-03-16 20:46:22",
         "1",
         "2.6",
         "12.5",
         "3.26",
         "0.0",
         "19.56",
         "yellow",
         "credit card",
         "Clinton East",
         "Lenox Hill West",
         "Manhattan",
         "Manhattan"
        ],
        [
         "28",
         "2019-03-20 12:25:31",
         "2019-03-20 12:45:02",
         "1",
         "4.71",
         "17.5",
         "0.0",
         "0.0",
         "18.3",
         "yellow",
         "credit card",
         "Clinton West",
         "East Harlem North",
         "Manhattan",
         "Manhattan"
        ],
        [
         "29",
         "2019-03-06 08:09:03",
         "2019-03-06 08:27:11",
         "1",
         "0.92",
         "12.0",
         "0.0",
         "0.0",
         "15.3",
         "yellow",
         "cash",
         "UN/Turtle Bay South",
         "Garment District",
         "Manhattan",
         "Manhattan"
        ],
        [
         "30",
         "2019-03-10 15:14:20",
         "2019-03-10 15:20:17",
         "1",
         "1.84",
         "7.0",
         "2.06",
         "0.0",
         "12.36",
         "yellow",
         "credit card",
         "Lenox Hill West",
         "East Harlem South",
         "Manhattan",
         "Manhattan"
        ],
        [
         "31",
         "2019-03-01 02:55:55",
         "2019-03-01 02:57:59",
         "3",
         "0.74",
         "4.0",
         "0.0",
         "0.0",
         "7.8",
         "yellow",
         "cash",
         "Clinton East",
         "West Chelsea/Hudson Yards",
         "Manhattan",
         "Manhattan"
        ],
        [
         "32",
         "2019-03-17 19:24:50",
         "2019-03-17 19:29:58",
         "1",
         "0.62",
         "5.5",
         "1.0",
         "0.0",
         "9.8",
         "yellow",
         "credit card",
         "Midtown Center",
         "Sutton Place/Turtle Bay North",
         "Manhattan",
         "Manhattan"
        ],
        [
         "33",
         "2019-03-20 22:29:32",
         "2019-03-20 22:32:24",
         "2",
         "0.65",
         "4.5",
         "2.49",
         "0.0",
         "10.79",
         "yellow",
         "credit card",
         "Midtown South",
         "Midtown Center",
         "Manhattan",
         "Manhattan"
        ],
        [
         "34",
         "2019-03-21 10:48:02",
         "2019-03-21 10:57:45",
         "2",
         "0.87",
         "7.5",
         "2.16",
         "0.0",
         "12.96",
         "yellow",
         "credit card",
         "Midtown North",
         "Clinton West",
         "Manhattan",
         "Manhattan"
        ],
        [
         "35",
         "2019-03-01 17:39:58",
         "2019-03-01 18:04:46",
         "1",
         "3.06",
         "17.0",
         "4.26",
         "0.0",
         "25.56",
         "yellow",
         "credit card",
         "West Chelsea/Hudson Yards",
         "Lenox Hill East",
         "Manhattan",
         "Manhattan"
        ],
        [
         "36",
         "2019-03-22 17:28:51",
         "2019-03-22 17:33:51",
         "1",
         "1.1",
         "5.5",
         "0.0",
         "0.0",
         "9.8",
         "yellow",
         "cash",
         "Garment District",
         "Flatiron",
         "Manhattan",
         "Manhattan"
        ],
        [
         "37",
         "2019-03-21 18:41:58",
         "2019-03-21 19:15:25",
         "1",
         "3.13",
         "20.5",
         "0.0",
         "0.0",
         "24.8",
         "yellow",
         "cash",
         "Lenox Hill East",
         "Garment District",
         "Manhattan",
         "Manhattan"
        ],
        [
         "38",
         "2019-03-18 16:03:14",
         "2019-03-18 16:10:36",
         "2",
         "1.13",
         "6.5",
         "2.16",
         "0.0",
         "12.96",
         "yellow",
         "credit card",
         "Gramercy",
         "Murray Hill",
         "Manhattan",
         "Manhattan"
        ],
        [
         "39",
         "2019-03-25 22:50:56",
         "2019-03-25 22:59:51",
         "1",
         "2.47",
         "10.0",
         "2.76",
         "0.0",
         "16.56",
         "yellow",
         "credit card",
         "Garment District",
         "Upper West Side South",
         "Manhattan",
         "Manhattan"
        ],
        [
         "40",
         "2019-03-07 15:15:46",
         "2019-03-07 15:50:14",
         "1",
         "7.51",
         "27.0",
         "6.06",
         "0.0",
         "36.36",
         "yellow",
         "credit card",
         "Flatiron",
         "Carroll Gardens",
         "Manhattan",
         "Brooklyn"
        ],
        [
         "41",
         "2019-03-24 18:42:56",
         "2019-03-24 19:09:00",
         "0",
         "4.5",
         "20.0",
         "0.0",
         "0.0",
         "23.3",
         "yellow",
         "cash",
         "TriBeCa/Civic Center",
         "Kips Bay",
         "Manhattan",
         "Manhattan"
        ],
        [
         "42",
         "2019-03-30 23:59:14",
         "2019-03-30 23:59:17",
         "1",
         "0.0",
         "80.0",
         "20.08",
         "0.0",
         "100.38",
         "yellow",
         "credit card",
         null,
         null,
         null,
         null
        ],
        [
         "43",
         "2019-03-27 19:39:16",
         "2019-03-27 20:00:26",
         "1",
         "9.5",
         "28.0",
         "0.0",
         "5.76",
         "35.06",
         "yellow",
         "cash",
         "LaGuardia Airport",
         "Washington Heights South",
         "Queens",
         "Manhattan"
        ],
        [
         "44",
         "2019-03-14 07:19:29",
         "2019-03-14 07:45:51",
         "1",
         "9.37",
         "29.5",
         "1.0",
         "0.0",
         "33.8",
         "yellow",
         "credit card",
         "East Harlem South",
         "Battery Park City",
         "Manhattan",
         "Manhattan"
        ],
        [
         "45",
         "2019-03-07 11:19:21",
         "2019-03-07 11:39:09",
         "1",
         "0.8",
         "12.5",
         "3.15",
         "0.0",
         "18.95",
         "yellow",
         "credit card",
         "Lincoln Square East",
         "Midtown East",
         "Manhattan",
         "Manhattan"
        ],
        [
         "46",
         "2019-03-20 11:40:59",
         "2019-03-20 12:06:41",
         "2",
         "4.7",
         "20.0",
         "0.0",
         "0.0",
         "23.3",
         "yellow",
         "cash",
         "Times Sq/Theatre District",
         "Battery Park City",
         "Manhattan",
         "Manhattan"
        ],
        [
         "47",
         "2019-03-13 06:17:45",
         "2019-03-13 06:21:54",
         "2",
         "1.15",
         "5.5",
         "2.64",
         "0.0",
         "11.44",
         "yellow",
         "credit card",
         "Upper East Side North",
         "Lenox Hill West",
         "Manhattan",
         "Manhattan"
        ],
        [
         "48",
         "2019-03-07 16:49:01",
         "2019-03-07 16:57:07",
         "1",
         "1.3",
         "7.0",
         "0.0",
         "0.0",
         "11.3",
         "yellow",
         "cash",
         "Lincoln Square East",
         "Times Sq/Theatre District",
         "Manhattan",
         "Manhattan"
        ],
        [
         "49",
         "2019-03-04 21:35:00",
         "2019-03-04 21:53:42",
         "1",
         "4.87",
         "17.5",
         "0.0",
         "0.0",
         "21.3",
         "yellow",
         "cash",
         "West Village",
         "Upper West Side South",
         "Manhattan",
         "Manhattan"
        ]
       ],
       "shape": {
        "columns": 14,
        "rows": 6433
       }
      },
      "text/html": [
       "<div>\n",
       "<style scoped>\n",
       "    .dataframe tbody tr th:only-of-type {\n",
       "        vertical-align: middle;\n",
       "    }\n",
       "\n",
       "    .dataframe tbody tr th {\n",
       "        vertical-align: top;\n",
       "    }\n",
       "\n",
       "    .dataframe thead th {\n",
       "        text-align: right;\n",
       "    }\n",
       "</style>\n",
       "<table border=\"1\" class=\"dataframe\">\n",
       "  <thead>\n",
       "    <tr style=\"text-align: right;\">\n",
       "      <th></th>\n",
       "      <th>pickup</th>\n",
       "      <th>dropoff</th>\n",
       "      <th>passengers</th>\n",
       "      <th>distance</th>\n",
       "      <th>fare</th>\n",
       "      <th>tip</th>\n",
       "      <th>tolls</th>\n",
       "      <th>total</th>\n",
       "      <th>color</th>\n",
       "      <th>payment</th>\n",
       "      <th>pickup_zone</th>\n",
       "      <th>dropoff_zone</th>\n",
       "      <th>pickup_borough</th>\n",
       "      <th>dropoff_borough</th>\n",
       "    </tr>\n",
       "  </thead>\n",
       "  <tbody>\n",
       "    <tr>\n",
       "      <th>0</th>\n",
       "      <td>2019-03-23 20:21:09</td>\n",
       "      <td>2019-03-23 20:27:24</td>\n",
       "      <td>1</td>\n",
       "      <td>1.60</td>\n",
       "      <td>7.0</td>\n",
       "      <td>2.15</td>\n",
       "      <td>0.0</td>\n",
       "      <td>12.95</td>\n",
       "      <td>yellow</td>\n",
       "      <td>credit card</td>\n",
       "      <td>Lenox Hill West</td>\n",
       "      <td>UN/Turtle Bay South</td>\n",
       "      <td>Manhattan</td>\n",
       "      <td>Manhattan</td>\n",
       "    </tr>\n",
       "    <tr>\n",
       "      <th>1</th>\n",
       "      <td>2019-03-04 16:11:55</td>\n",
       "      <td>2019-03-04 16:19:00</td>\n",
       "      <td>1</td>\n",
       "      <td>0.79</td>\n",
       "      <td>5.0</td>\n",
       "      <td>0.00</td>\n",
       "      <td>0.0</td>\n",
       "      <td>9.30</td>\n",
       "      <td>yellow</td>\n",
       "      <td>cash</td>\n",
       "      <td>Upper West Side South</td>\n",
       "      <td>Upper West Side South</td>\n",
       "      <td>Manhattan</td>\n",
       "      <td>Manhattan</td>\n",
       "    </tr>\n",
       "    <tr>\n",
       "      <th>2</th>\n",
       "      <td>2019-03-27 17:53:01</td>\n",
       "      <td>2019-03-27 18:00:25</td>\n",
       "      <td>1</td>\n",
       "      <td>1.37</td>\n",
       "      <td>7.5</td>\n",
       "      <td>2.36</td>\n",
       "      <td>0.0</td>\n",
       "      <td>14.16</td>\n",
       "      <td>yellow</td>\n",
       "      <td>credit card</td>\n",
       "      <td>Alphabet City</td>\n",
       "      <td>West Village</td>\n",
       "      <td>Manhattan</td>\n",
       "      <td>Manhattan</td>\n",
       "    </tr>\n",
       "    <tr>\n",
       "      <th>3</th>\n",
       "      <td>2019-03-10 01:23:59</td>\n",
       "      <td>2019-03-10 01:49:51</td>\n",
       "      <td>1</td>\n",
       "      <td>7.70</td>\n",
       "      <td>27.0</td>\n",
       "      <td>6.15</td>\n",
       "      <td>0.0</td>\n",
       "      <td>36.95</td>\n",
       "      <td>yellow</td>\n",
       "      <td>credit card</td>\n",
       "      <td>Hudson Sq</td>\n",
       "      <td>Yorkville West</td>\n",
       "      <td>Manhattan</td>\n",
       "      <td>Manhattan</td>\n",
       "    </tr>\n",
       "    <tr>\n",
       "      <th>4</th>\n",
       "      <td>2019-03-30 13:27:42</td>\n",
       "      <td>2019-03-30 13:37:14</td>\n",
       "      <td>3</td>\n",
       "      <td>2.16</td>\n",
       "      <td>9.0</td>\n",
       "      <td>1.10</td>\n",
       "      <td>0.0</td>\n",
       "      <td>13.40</td>\n",
       "      <td>yellow</td>\n",
       "      <td>credit card</td>\n",
       "      <td>Midtown East</td>\n",
       "      <td>Yorkville West</td>\n",
       "      <td>Manhattan</td>\n",
       "      <td>Manhattan</td>\n",
       "    </tr>\n",
       "    <tr>\n",
       "      <th>...</th>\n",
       "      <td>...</td>\n",
       "      <td>...</td>\n",
       "      <td>...</td>\n",
       "      <td>...</td>\n",
       "      <td>...</td>\n",
       "      <td>...</td>\n",
       "      <td>...</td>\n",
       "      <td>...</td>\n",
       "      <td>...</td>\n",
       "      <td>...</td>\n",
       "      <td>...</td>\n",
       "      <td>...</td>\n",
       "      <td>...</td>\n",
       "      <td>...</td>\n",
       "    </tr>\n",
       "    <tr>\n",
       "      <th>6428</th>\n",
       "      <td>2019-03-31 09:51:53</td>\n",
       "      <td>2019-03-31 09:55:27</td>\n",
       "      <td>1</td>\n",
       "      <td>0.75</td>\n",
       "      <td>4.5</td>\n",
       "      <td>1.06</td>\n",
       "      <td>0.0</td>\n",
       "      <td>6.36</td>\n",
       "      <td>green</td>\n",
       "      <td>credit card</td>\n",
       "      <td>East Harlem North</td>\n",
       "      <td>Central Harlem North</td>\n",
       "      <td>Manhattan</td>\n",
       "      <td>Manhattan</td>\n",
       "    </tr>\n",
       "    <tr>\n",
       "      <th>6429</th>\n",
       "      <td>2019-03-31 17:38:00</td>\n",
       "      <td>2019-03-31 18:34:23</td>\n",
       "      <td>1</td>\n",
       "      <td>18.74</td>\n",
       "      <td>58.0</td>\n",
       "      <td>0.00</td>\n",
       "      <td>0.0</td>\n",
       "      <td>58.80</td>\n",
       "      <td>green</td>\n",
       "      <td>credit card</td>\n",
       "      <td>Jamaica</td>\n",
       "      <td>East Concourse/Concourse Village</td>\n",
       "      <td>Queens</td>\n",
       "      <td>Bronx</td>\n",
       "    </tr>\n",
       "    <tr>\n",
       "      <th>6430</th>\n",
       "      <td>2019-03-23 22:55:18</td>\n",
       "      <td>2019-03-23 23:14:25</td>\n",
       "      <td>1</td>\n",
       "      <td>4.14</td>\n",
       "      <td>16.0</td>\n",
       "      <td>0.00</td>\n",
       "      <td>0.0</td>\n",
       "      <td>17.30</td>\n",
       "      <td>green</td>\n",
       "      <td>cash</td>\n",
       "      <td>Crown Heights North</td>\n",
       "      <td>Bushwick North</td>\n",
       "      <td>Brooklyn</td>\n",
       "      <td>Brooklyn</td>\n",
       "    </tr>\n",
       "    <tr>\n",
       "      <th>6431</th>\n",
       "      <td>2019-03-04 10:09:25</td>\n",
       "      <td>2019-03-04 10:14:29</td>\n",
       "      <td>1</td>\n",
       "      <td>1.12</td>\n",
       "      <td>6.0</td>\n",
       "      <td>0.00</td>\n",
       "      <td>0.0</td>\n",
       "      <td>6.80</td>\n",
       "      <td>green</td>\n",
       "      <td>credit card</td>\n",
       "      <td>East New York</td>\n",
       "      <td>East Flatbush/Remsen Village</td>\n",
       "      <td>Brooklyn</td>\n",
       "      <td>Brooklyn</td>\n",
       "    </tr>\n",
       "    <tr>\n",
       "      <th>6432</th>\n",
       "      <td>2019-03-13 19:31:22</td>\n",
       "      <td>2019-03-13 19:48:02</td>\n",
       "      <td>1</td>\n",
       "      <td>3.85</td>\n",
       "      <td>15.0</td>\n",
       "      <td>3.36</td>\n",
       "      <td>0.0</td>\n",
       "      <td>20.16</td>\n",
       "      <td>green</td>\n",
       "      <td>credit card</td>\n",
       "      <td>Boerum Hill</td>\n",
       "      <td>Windsor Terrace</td>\n",
       "      <td>Brooklyn</td>\n",
       "      <td>Brooklyn</td>\n",
       "    </tr>\n",
       "  </tbody>\n",
       "</table>\n",
       "<p>6433 rows × 14 columns</p>\n",
       "</div>"
      ],
      "text/plain": [
       "                  pickup             dropoff  passengers  distance  fare  \\\n",
       "0    2019-03-23 20:21:09 2019-03-23 20:27:24           1      1.60   7.0   \n",
       "1    2019-03-04 16:11:55 2019-03-04 16:19:00           1      0.79   5.0   \n",
       "2    2019-03-27 17:53:01 2019-03-27 18:00:25           1      1.37   7.5   \n",
       "3    2019-03-10 01:23:59 2019-03-10 01:49:51           1      7.70  27.0   \n",
       "4    2019-03-30 13:27:42 2019-03-30 13:37:14           3      2.16   9.0   \n",
       "...                  ...                 ...         ...       ...   ...   \n",
       "6428 2019-03-31 09:51:53 2019-03-31 09:55:27           1      0.75   4.5   \n",
       "6429 2019-03-31 17:38:00 2019-03-31 18:34:23           1     18.74  58.0   \n",
       "6430 2019-03-23 22:55:18 2019-03-23 23:14:25           1      4.14  16.0   \n",
       "6431 2019-03-04 10:09:25 2019-03-04 10:14:29           1      1.12   6.0   \n",
       "6432 2019-03-13 19:31:22 2019-03-13 19:48:02           1      3.85  15.0   \n",
       "\n",
       "       tip  tolls  total   color      payment            pickup_zone  \\\n",
       "0     2.15    0.0  12.95  yellow  credit card        Lenox Hill West   \n",
       "1     0.00    0.0   9.30  yellow         cash  Upper West Side South   \n",
       "2     2.36    0.0  14.16  yellow  credit card          Alphabet City   \n",
       "3     6.15    0.0  36.95  yellow  credit card              Hudson Sq   \n",
       "4     1.10    0.0  13.40  yellow  credit card           Midtown East   \n",
       "...    ...    ...    ...     ...          ...                    ...   \n",
       "6428  1.06    0.0   6.36   green  credit card      East Harlem North   \n",
       "6429  0.00    0.0  58.80   green  credit card                Jamaica   \n",
       "6430  0.00    0.0  17.30   green         cash    Crown Heights North   \n",
       "6431  0.00    0.0   6.80   green  credit card          East New York   \n",
       "6432  3.36    0.0  20.16   green  credit card            Boerum Hill   \n",
       "\n",
       "                          dropoff_zone pickup_borough dropoff_borough  \n",
       "0                  UN/Turtle Bay South      Manhattan       Manhattan  \n",
       "1                Upper West Side South      Manhattan       Manhattan  \n",
       "2                         West Village      Manhattan       Manhattan  \n",
       "3                       Yorkville West      Manhattan       Manhattan  \n",
       "4                       Yorkville West      Manhattan       Manhattan  \n",
       "...                                ...            ...             ...  \n",
       "6428              Central Harlem North      Manhattan       Manhattan  \n",
       "6429  East Concourse/Concourse Village         Queens           Bronx  \n",
       "6430                    Bushwick North       Brooklyn        Brooklyn  \n",
       "6431      East Flatbush/Remsen Village       Brooklyn        Brooklyn  \n",
       "6432                   Windsor Terrace       Brooklyn        Brooklyn  \n",
       "\n",
       "[6433 rows x 14 columns]"
      ]
     },
     "execution_count": 8,
     "metadata": {},
     "output_type": "execute_result"
    }
   ],
   "source": [
    "#23\n",
    "df = sns.load_dataset(\"taxis\")\n",
    "df"
   ]
  },
  {
   "cell_type": "code",
   "execution_count": 9,
   "metadata": {},
   "outputs": [],
   "source": [
    "wb = openpyxl.Workbook() #create new workbook\n",
    "ws = wb.active           #set ws to the active worksheet "
   ]
  },
  {
   "cell_type": "code",
   "execution_count": 10,
   "metadata": {},
   "outputs": [],
   "source": [
    "#28\n",
    "ws.title = \"Backup full data\""
   ]
  },
  {
   "cell_type": "code",
   "execution_count": 11,
   "metadata": {},
   "outputs": [],
   "source": [
    "#29\n",
    "#append Headers\n",
    "headers = tuple(df.keys())\n",
    "ws.append(headers)\n",
    "\n",
    "#find out how many rows \n",
    "number_of_rows = df.shape[0]\n",
    "\n",
    "#for each row append to ws\n",
    "for row in range(number_of_rows):\n",
    "    ws.append(tuple(df.iloc[row]))"
   ]
  },
  {
   "cell_type": "code",
   "execution_count": 12,
   "metadata": {},
   "outputs": [],
   "source": [
    "#change tab color to black\n",
    "ws.sheet_properties.tabColor = \"000000\""
   ]
  },
  {
   "cell_type": "code",
   "execution_count": 13,
   "metadata": {},
   "outputs": [],
   "source": [
    "#31\n",
    "ws.protection.sheet = True\n",
    "ws.protection.password = \"1234\""
   ]
  },
  {
   "cell_type": "code",
   "execution_count": 14,
   "metadata": {},
   "outputs": [],
   "source": [
    "#32\n",
    "new_ws = wb.create_sheet(\"Pickup dist chart\")"
   ]
  },
  {
   "cell_type": "code",
   "execution_count": 15,
   "metadata": {},
   "outputs": [
    {
     "data": {
      "application/vnd.microsoft.datawrangler.viewer.v0+json": {
       "columns": [
        {
         "name": "index",
         "rawType": "object",
         "type": "string"
        },
        {
         "name": "0",
         "rawType": "int64",
         "type": "integer"
        }
       ],
       "ref": "c3732a16-2da2-438a-ae4e-abcccb2b2097",
       "rows": [
        [
         "pickup",
         "0"
        ],
        [
         "dropoff",
         "0"
        ],
        [
         "passengers",
         "0"
        ],
        [
         "distance",
         "0"
        ],
        [
         "fare",
         "0"
        ],
        [
         "tip",
         "0"
        ],
        [
         "tolls",
         "0"
        ],
        [
         "total",
         "0"
        ],
        [
         "color",
         "0"
        ],
        [
         "payment",
         "44"
        ],
        [
         "pickup_zone",
         "26"
        ],
        [
         "dropoff_zone",
         "45"
        ],
        [
         "pickup_borough",
         "26"
        ],
        [
         "dropoff_borough",
         "45"
        ]
       ],
       "shape": {
        "columns": 1,
        "rows": 14
       }
      },
      "text/plain": [
       "pickup              0\n",
       "dropoff             0\n",
       "passengers          0\n",
       "distance            0\n",
       "fare                0\n",
       "tip                 0\n",
       "tolls               0\n",
       "total               0\n",
       "color               0\n",
       "payment            44\n",
       "pickup_zone        26\n",
       "dropoff_zone       45\n",
       "pickup_borough     26\n",
       "dropoff_borough    45\n",
       "dtype: int64"
      ]
     },
     "execution_count": 15,
     "metadata": {},
     "output_type": "execute_result"
    }
   ],
   "source": [
    "#33\n",
    "df.isna().sum()"
   ]
  },
  {
   "cell_type": "code",
   "execution_count": 16,
   "metadata": {},
   "outputs": [
    {
     "data": {
      "application/vnd.microsoft.datawrangler.viewer.v0+json": {
       "columns": [
        {
         "name": "pickup_borough",
         "rawType": "object",
         "type": "string"
        },
        {
         "name": "green",
         "rawType": "int64",
         "type": "integer"
        },
        {
         "name": "yellow",
         "rawType": "int64",
         "type": "integer"
        }
       ],
       "ref": "f0161940-35d9-4f1b-8b08-e213ad2a5d91",
       "rows": [
        [
         "Bronx",
         "83",
         "16"
        ],
        [
         "Brooklyn",
         "313",
         "70"
        ],
        [
         "Manhattan",
         "294",
         "4974"
        ],
        [
         "Queens",
         "288",
         "369"
        ]
       ],
       "shape": {
        "columns": 2,
        "rows": 4
       }
      },
      "text/html": [
       "<div>\n",
       "<style scoped>\n",
       "    .dataframe tbody tr th:only-of-type {\n",
       "        vertical-align: middle;\n",
       "    }\n",
       "\n",
       "    .dataframe tbody tr th {\n",
       "        vertical-align: top;\n",
       "    }\n",
       "\n",
       "    .dataframe thead th {\n",
       "        text-align: right;\n",
       "    }\n",
       "</style>\n",
       "<table border=\"1\" class=\"dataframe\">\n",
       "  <thead>\n",
       "    <tr style=\"text-align: right;\">\n",
       "      <th>color</th>\n",
       "      <th>green</th>\n",
       "      <th>yellow</th>\n",
       "    </tr>\n",
       "    <tr>\n",
       "      <th>pickup_borough</th>\n",
       "      <th></th>\n",
       "      <th></th>\n",
       "    </tr>\n",
       "  </thead>\n",
       "  <tbody>\n",
       "    <tr>\n",
       "      <th>Bronx</th>\n",
       "      <td>83</td>\n",
       "      <td>16</td>\n",
       "    </tr>\n",
       "    <tr>\n",
       "      <th>Brooklyn</th>\n",
       "      <td>313</td>\n",
       "      <td>70</td>\n",
       "    </tr>\n",
       "    <tr>\n",
       "      <th>Manhattan</th>\n",
       "      <td>294</td>\n",
       "      <td>4974</td>\n",
       "    </tr>\n",
       "    <tr>\n",
       "      <th>Queens</th>\n",
       "      <td>288</td>\n",
       "      <td>369</td>\n",
       "    </tr>\n",
       "  </tbody>\n",
       "</table>\n",
       "</div>"
      ],
      "text/plain": [
       "color           green  yellow\n",
       "pickup_borough               \n",
       "Bronx              83      16\n",
       "Brooklyn          313      70\n",
       "Manhattan         294    4974\n",
       "Queens            288     369"
      ]
     },
     "execution_count": 16,
     "metadata": {},
     "output_type": "execute_result"
    }
   ],
   "source": [
    "piv = df.pivot_table(index=\"pickup_borough\",\n",
    "               columns=\"color\",\n",
    "               values=\"pickup\",\n",
    "               aggfunc=\"count\")\n",
    "piv"
   ]
  },
  {
   "cell_type": "code",
   "execution_count": 17,
   "metadata": {},
   "outputs": [
    {
     "data": {
      "image/png": "[encoded data removed]",
      "text/plain": [
       "<Figure size 640x480 with 1 Axes>"
      ]
     },
     "metadata": {},
     "output_type": "display_data"
    }
   ],
   "source": [
    "plot = piv.plot.barh(title=\"Taxis pickup distribution by borough and taxi color\",\n",
    "              color=[\"Green\",\"Yellow\"], edgecolor=\"black\",\n",
    "              xlabel=\"Number of pickups\",\n",
    "              ylabel=\"Borough\")"
   ]
  },
  {
   "cell_type": "code",
   "execution_count": 18,
   "metadata": {},
   "outputs": [],
   "source": [
    "plot.figure.savefig(\"taxis_pickup_dist.png\")"
   ]
  },
  {
   "cell_type": "code",
   "execution_count": 19,
   "metadata": {},
   "outputs": [],
   "source": [
    "img = openpyxl.drawing.image.Image(\"taxis_pickup_dist.png\")\n",
    "new_ws.add_image(img)"
   ]
  },
  {
   "cell_type": "code",
   "execution_count": 20,
   "metadata": {},
   "outputs": [],
   "source": [
    "new_ws2 = wb.create_sheet(\"Pickup dist data\")"
   ]
  },
  {
   "cell_type": "code",
   "execution_count": 21,
   "metadata": {},
   "outputs": [],
   "source": [
    "rows = dataframe_to_rows(piv)\n",
    "\n",
    "for row_index, row_data in enumerate(rows, 1):\n",
    "    for column_index, value in enumerate(row_data, 1):\n",
    "        new_ws2.cell(row=row_index, column=column_index, value=value)"
   ]
  },
  {
   "cell_type": "code",
   "execution_count": 22,
   "metadata": {},
   "outputs": [],
   "source": [
    "wb.save(\"taxis_data.xlsx\")"
   ]
  }
 ],
 "metadata": {
  "kernelspec": {
   "display_name": "Python 3",
   "language": "python",
   "name": "python3"
  },
  "language_info": {
   "codemirror_mode": {
    "name": "ipython",
    "version": 3
   },
   "file_extension": ".py",
   "mimetype": "text/x-python",
   "name": "python",
   "nbconvert_exporter": "python",
   "pygments_lexer": "ipython3",
   "version": "3.13.3"
  }
 },
 "nbformat": 4,
 "nbformat_minor": 2
}
