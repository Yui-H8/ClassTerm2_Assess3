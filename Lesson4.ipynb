{
 "cells": [
  {
   "cell_type": "markdown",
   "id": "90d8b8a2",
   "metadata": {},
   "source": [
    "### Lesson 4\n",
    "Working with NULL Values and Aggregative Methods General instructions:   \n",
    "Each section should be performed in a separate cell\n",
    "\n",
    "\n",
    "### Part 1 - Working with NULL Values \n",
    "1. Open a new folder on your desktop named Python_Class \n",
    "2. Go to the folder you opened, and create a new notebook called Ex_sol_4 \n",
    "(Make sure that a notebook has been opened in the desired location) \n",
    "3. Import the Pandas Library to the notebook"
   ]
  },
  {
   "cell_type": "code",
   "execution_count": 119,
   "id": "483c7759",
   "metadata": {},
   "outputs": [],
   "source": [
    "import pandas as pd"
   ]
  },
  {
   "cell_type": "markdown",
   "id": "f8f0c6a3",
   "metadata": {},
   "source": [
    "4. Open a new cell and turn it into a Markdown cell containing the following title: NULL values and analytics \n",
    "5. Import the file called Police.csv to the notebook. Note the date column"
   ]
  },
  {
   "cell_type": "code",
   "execution_count": 120,
   "id": "70f97a40",
   "metadata": {},
   "outputs": [
    {
     "data": {
      "application/vnd.microsoft.datawrangler.viewer.v0+json": {
       "columns": [
        {
         "name": "index",
         "rawType": "int64",
         "type": "integer"
        },
        {
         "name": "stop_date",
         "rawType": "datetime64[ns]",
         "type": "datetime"
        },
        {
         "name": "stop_time",
         "rawType": "object",
         "type": "string"
        },
        {
         "name": "county_name",
         "rawType": "float64",
         "type": "float"
        },
        {
         "name": "driver_gender",
         "rawType": "object",
         "type": "unknown"
        },
        {
         "name": "driver_age_raw",
         "rawType": "float64",
         "type": "float"
        },
        {
         "name": "driver_age",
         "rawType": "float64",
         "type": "float"
        },
        {
         "name": "driver_race",
         "rawType": "object",
         "type": "unknown"
        },
        {
         "name": "violation_raw",
         "rawType": "object",
         "type": "unknown"
        },
        {
         "name": "violation",
         "rawType": "object",
         "type": "unknown"
        },
        {
         "name": "search_conducted",
         "rawType": "bool",
         "type": "boolean"
        },
        {
         "name": "search_type",
         "rawType": "object",
         "type": "unknown"
        },
        {
         "name": "stop_outcome",
         "rawType": "object",
         "type": "unknown"
        },
        {
         "name": "is_arrested",
         "rawType": "object",
         "type": "unknown"
        },
        {
         "name": "ticket_amount",
         "rawType": "float64",
         "type": "float"
        },
        {
         "name": "stop_duration",
         "rawType": "object",
         "type": "unknown"
        },
        {
         "name": "drugs_related_stop",
         "rawType": "bool",
         "type": "boolean"
        }
       ],
       "ref": "7ac57933-ffef-48e2-9f30-f03613075d22",
       "rows": [
        [
         "0",
         "2005-01-02 00:00:00",
         "1:55",
         null,
         "M",
         "1985.0",
         "20.0",
         "White",
         "Speeding",
         "Speeding",
         "False",
         null,
         "Ticket",
         "False",
         "341.0",
         "0-15 Min",
         "False"
        ],
        [
         "1",
         "2005-01-18 00:00:00",
         "8:15",
         null,
         "M",
         "1965.0",
         "40.0",
         "White",
         "Speeding",
         "Speeding",
         "False",
         null,
         "Citation",
         "False",
         null,
         "0-15 Min",
         "False"
        ],
        [
         "2",
         "2005-01-23 00:00:00",
         "23:15",
         null,
         "M",
         "1972.0",
         "33.0",
         "White",
         "Speeding",
         "Speeding",
         "False",
         null,
         "Ticket",
         "False",
         "161.0",
         "0-15 Min",
         "False"
        ],
        [
         "3",
         "2005-02-20 00:00:00",
         "17:15",
         null,
         "M",
         "1986.0",
         "19.0",
         "White",
         "Call for Service",
         "Other",
         "False",
         null,
         "Arrest Driver",
         "True",
         null,
         "16-30 Min",
         "False"
        ],
        [
         "4",
         "2005-03-14 00:00:00",
         "10:00",
         null,
         "F",
         "1984.0",
         "21.0",
         "White",
         "Speeding",
         "Speeding",
         "False",
         null,
         "Citation",
         "False",
         null,
         "0-15 Min",
         "False"
        ],
        [
         "5",
         "2005-03-23 00:00:00",
         "9:45",
         null,
         "M",
         "1982.0",
         "23.0",
         "Black",
         "Equipment/Inspection Violation",
         "Equipment",
         "False",
         null,
         "Citation",
         "False",
         null,
         "0-15 Min",
         "False"
        ],
        [
         "6",
         "2005-04-01 00:00:00",
         "17:30",
         null,
         "M",
         "1969.0",
         "36.0",
         "White",
         "Speeding",
         "Speeding",
         "False",
         null,
         "Citation",
         "False",
         null,
         "0-15 Min",
         "False"
        ],
        [
         "7",
         "2005-06-06 00:00:00",
         "13:20",
         null,
         "F",
         "1986.0",
         "19.0",
         "White",
         "Speeding",
         "Speeding",
         "False",
         null,
         "Citation",
         "False",
         null,
         "0-15 Min",
         "False"
        ],
        [
         "8",
         "2005-07-13 00:00:00",
         "10:15",
         null,
         "M",
         "1970.0",
         "35.0",
         "Black",
         "Speeding",
         "Speeding",
         "False",
         null,
         "Citation",
         "False",
         null,
         "0-15 Min",
         "False"
        ],
        [
         "9",
         "2005-07-13 00:00:00",
         "15:45",
         null,
         "M",
         "1970.0",
         "35.0",
         "White",
         "Speeding",
         "Speeding",
         "False",
         null,
         "Citation",
         "False",
         null,
         "0-15 Min",
         "False"
        ],
        [
         "10",
         "2005-07-13 00:00:00",
         "16:20",
         null,
         "M",
         "1979.0",
         "26.0",
         "Asian",
         "Speeding",
         "Speeding",
         "False",
         null,
         "Citation",
         "False",
         null,
         "0-15 Min",
         "False"
        ],
        [
         "11",
         "2005-07-13 00:00:00",
         "19:00",
         null,
         "F",
         "1966.0",
         "39.0",
         "White",
         "Speeding",
         "Speeding",
         "False",
         null,
         "Citation",
         "False",
         null,
         "0-15 Min",
         "False"
        ],
        [
         "12",
         "2005-07-14 00:00:00",
         "19:55",
         null,
         "M",
         "1979.0",
         "26.0",
         "White",
         "Speeding",
         "Speeding",
         "False",
         null,
         "Citation",
         "False",
         null,
         "0-15 Min",
         "False"
        ],
        [
         "13",
         "2005-07-18 00:00:00",
         "19:30",
         null,
         "F",
         "1984.0",
         "21.0",
         "White",
         "Speeding",
         "Speeding",
         "False",
         null,
         "Citation",
         "False",
         null,
         "0-15 Min",
         "False"
        ],
        [
         "14",
         "2005-07-18 00:00:00",
         "19:45",
         null,
         "M",
         "1969.0",
         "36.0",
         "White",
         "Speeding",
         "Speeding",
         "False",
         null,
         "Citation",
         "False",
         null,
         "0-15 Min",
         "False"
        ],
        [
         "15",
         "2005-07-19 00:00:00",
         "0:30",
         null,
         "M",
         "1982.0",
         "23.0",
         "White",
         "Speeding",
         "Speeding",
         "False",
         null,
         "Citation",
         "False",
         null,
         "0-15 Min",
         "False"
        ],
        [
         "16",
         "2005-07-19 00:00:00",
         "0:30",
         null,
         "M",
         "1982.0",
         "23.0",
         "White",
         "Speeding",
         "Speeding",
         "False",
         null,
         "Citation",
         "False",
         null,
         "0-15 Min",
         "False"
        ],
        [
         "17",
         "2005-07-19 00:00:00",
         "23:30",
         null,
         "M",
         "1979.0",
         "26.0",
         "White",
         "Equipment/Inspection Violation",
         "Equipment",
         "False",
         null,
         "Citation",
         "False",
         null,
         "0-15 Min",
         "False"
        ],
        [
         "18",
         "2005-07-20 00:00:00",
         "0:05",
         null,
         "M",
         "1955.0",
         "50.0",
         "White",
         "Speeding",
         "Speeding",
         "False",
         null,
         "Citation",
         "False",
         null,
         "0-15 Min",
         "False"
        ],
        [
         "19",
         "2005-07-24 00:00:00",
         "20:10",
         null,
         "F",
         "1958.0",
         "47.0",
         "White",
         "Speeding",
         "Speeding",
         "False",
         null,
         "Ticket",
         "False",
         "213.0",
         "0-15 Min",
         "False"
        ],
        [
         "20",
         "2005-07-28 00:00:00",
         "12:37",
         null,
         "F",
         "1979.0",
         "26.0",
         "Asian",
         "Speeding",
         "Speeding",
         "False",
         null,
         "Ticket",
         "False",
         "168.0",
         "0-15 Min",
         "False"
        ],
        [
         "21",
         "2005-08-07 00:00:00",
         "16:50",
         null,
         "M",
         "1953.0",
         "52.0",
         "White",
         "Other Traffic Violation",
         "Moving violation",
         "False",
         null,
         "Citation",
         "False",
         null,
         "0-15 Min",
         "False"
        ],
        [
         "22",
         "2005-08-08 00:00:00",
         "2:09",
         null,
         "M",
         "1955.0",
         "50.0",
         "Black",
         "Other Traffic Violation",
         "Moving violation",
         "False",
         null,
         "Arrest Driver",
         "True",
         null,
         "30+ Min",
         "False"
        ],
        [
         "23",
         "2005-08-18 00:00:00",
         "10:57",
         null,
         "F",
         "1967.0",
         "38.0",
         "White",
         "Speeding",
         "Speeding",
         "False",
         null,
         "Ticket",
         "False",
         "320.0",
         "0-15 Min",
         "False"
        ],
        [
         "24",
         "2005-08-28 00:00:00",
         "1:00",
         null,
         "M",
         "1979.0",
         "26.0",
         "White",
         "Other Traffic Violation",
         "Moving violation",
         "True",
         "Incident to Arrest,Protective Frisk",
         "Arrest Driver",
         "True",
         null,
         "16-30 Min",
         "False"
        ],
        [
         "25",
         "2005-09-03 00:00:00",
         "16:02",
         null,
         null,
         null,
         null,
         null,
         null,
         null,
         "False",
         null,
         null,
         null,
         "120.0",
         null,
         "False"
        ],
        [
         "26",
         "2005-09-17 00:00:00",
         "10:54",
         null,
         "M",
         "1964.0",
         "41.0",
         "White",
         "Speeding",
         "Speeding",
         "False",
         null,
         "Ticket",
         "False",
         "348.0",
         "0-15 Min",
         "False"
        ],
        [
         "27",
         "2005-09-21 00:00:00",
         "13:30",
         null,
         "F",
         "1977.0",
         "28.0",
         "White",
         "Speeding",
         "Speeding",
         "False",
         null,
         "Ticket",
         "False",
         "135.0",
         "0-15 Min",
         "False"
        ],
        [
         "28",
         "2005-09-22 00:00:00",
         "22:34",
         null,
         "M",
         "1984.0",
         "21.0",
         "White",
         "Speeding",
         "Speeding",
         "False",
         null,
         "Ticket",
         "False",
         "255.0",
         "0-15 Min",
         "False"
        ],
        [
         "29",
         "2005-09-26 00:00:00",
         "1:05",
         null,
         null,
         null,
         null,
         null,
         null,
         null,
         "False",
         null,
         null,
         null,
         null,
         null,
         "False"
        ],
        [
         "30",
         "2005-09-26 00:00:00",
         "12:09",
         null,
         "M",
         "1959.0",
         "46.0",
         "Black",
         "Other Traffic Violation",
         "Moving violation",
         "False",
         null,
         "Citation",
         "False",
         null,
         "30+ Min",
         "False"
        ],
        [
         "31",
         "2005-09-28 00:00:00",
         "6:20",
         null,
         "M",
         "1982.0",
         "23.0",
         "White",
         "Speeding",
         "Speeding",
         "False",
         null,
         "Arrest Driver",
         "True",
         null,
         "16-30 Min",
         "False"
        ],
        [
         "32",
         "2005-09-28 00:00:00",
         "7:15",
         null,
         "M",
         "1973.0",
         "32.0",
         "White",
         "Speeding",
         "Speeding",
         "False",
         null,
         "Ticket",
         "False",
         "179.0",
         "0-15 Min",
         "False"
        ],
        [
         "33",
         "2005-09-28 00:00:00",
         "7:45",
         null,
         "M",
         "1953.0",
         "52.0",
         "White",
         "Other Traffic Violation",
         "Moving violation",
         "False",
         null,
         "Citation",
         "False",
         null,
         "0-15 Min",
         "False"
        ],
        [
         "34",
         "2005-09-29 00:00:00",
         "23:45",
         null,
         "M",
         "1947.0",
         "58.0",
         "White",
         "Speeding",
         "Speeding",
         "False",
         null,
         "Ticket",
         "False",
         "343.0",
         "0-15 Min",
         "False"
        ],
        [
         "35",
         "2005-09-30 00:00:00",
         "0:15",
         null,
         "M",
         "1978.0",
         "27.0",
         "White",
         "Equipment/Inspection Violation",
         "Equipment",
         "False",
         null,
         "N/D",
         "False",
         null,
         "0-15 Min",
         "False"
        ],
        [
         "36",
         "2005-09-30 00:00:00",
         "9:30",
         null,
         "F",
         "1986.0",
         "19.0",
         "White",
         "Speeding",
         "Speeding",
         "False",
         null,
         "Ticket",
         "False",
         "215.0",
         "0-15 Min",
         "False"
        ],
        [
         "37",
         "2005-09-30 00:00:00",
         "14:00",
         null,
         "M",
         "1962.0",
         "43.0",
         "Asian",
         "Speeding",
         "Speeding",
         "False",
         null,
         "Ticket",
         "False",
         "321.0",
         "0-15 Min",
         "False"
        ],
        [
         "38",
         "2005-09-30 00:00:00",
         "19:25",
         null,
         "M",
         "1981.0",
         "24.0",
         "White",
         "Speeding",
         "Speeding",
         "False",
         null,
         "Citation",
         "False",
         null,
         "0-15 Min",
         "False"
        ],
        [
         "39",
         "2005-09-30 00:00:00",
         "20:17",
         null,
         "M",
         "1988.0",
         "17.0",
         "White",
         "Speeding",
         "Speeding",
         "False",
         null,
         "Citation",
         "False",
         null,
         "0-15 Min",
         "False"
        ],
        [
         "40",
         "2005-10-01 00:00:00",
         "0:00",
         null,
         "M",
         "1988.0",
         "17.0",
         "White",
         "Equipment/Inspection Violation",
         "Equipment",
         "True",
         "Probable Cause",
         "Arrest Driver",
         "True",
         null,
         "16-30 Min",
         "True"
        ],
        [
         "41",
         "2005-10-01 00:00:00",
         "0:00",
         null,
         "M",
         "1988.0",
         "17.0",
         "White",
         "Equipment/Inspection Violation",
         "Equipment",
         "True",
         "Probable Cause",
         "Citation",
         "False",
         null,
         "30+ Min",
         "True"
        ],
        [
         "42",
         "2005-10-01 00:00:00",
         "0:50",
         null,
         "M",
         "1977.0",
         "28.0",
         "Hispanic",
         "Other Traffic Violation",
         "Moving violation",
         "False",
         null,
         "Arrest Driver",
         "True",
         null,
         "30+ Min",
         "False"
        ],
        [
         "43",
         "2005-10-01 00:00:00",
         "1:00",
         null,
         "M",
         "1985.0",
         "20.0",
         "White",
         "Speeding",
         "Speeding",
         "False",
         null,
         "Citation",
         "False",
         null,
         "0-15 Min",
         "False"
        ],
        [
         "44",
         "2005-10-01 00:00:00",
         "1:45",
         null,
         "M",
         "1983.0",
         "22.0",
         "White",
         "Speeding",
         "Speeding",
         "False",
         null,
         "Citation",
         "False",
         null,
         "0-15 Min",
         "False"
        ],
        [
         "45",
         "2005-10-01 00:00:00",
         "2:45",
         null,
         "M",
         "1961.0",
         "44.0",
         "White",
         "Other Traffic Violation",
         "Moving violation",
         "False",
         null,
         "Citation",
         "False",
         null,
         "0-15 Min",
         "False"
        ],
        [
         "46",
         "2005-10-01 00:00:00",
         "8:40",
         null,
         "M",
         "1959.0",
         "46.0",
         "White",
         "Equipment/Inspection Violation",
         "Equipment",
         "False",
         null,
         "Citation",
         "False",
         null,
         "0-15 Min",
         "False"
        ],
        [
         "47",
         "2005-10-01 00:00:00",
         "9:10",
         null,
         "M",
         "1972.0",
         "33.0",
         "White",
         "Speeding",
         "Speeding",
         "False",
         null,
         "Citation",
         "False",
         null,
         "0-15 Min",
         "False"
        ],
        [
         "48",
         "2005-10-01 00:00:00",
         "9:20",
         null,
         "M",
         "1957.0",
         "48.0",
         "White",
         "Speeding",
         "Speeding",
         "False",
         null,
         "Citation",
         "False",
         null,
         "0-15 Min",
         "False"
        ],
        [
         "49",
         "2005-10-01 00:00:00",
         "10:45",
         null,
         "M",
         "1971.0",
         "34.0",
         "White",
         "Equipment/Inspection Violation",
         "Equipment",
         "False",
         null,
         "Citation",
         "False",
         null,
         "0-15 Min",
         "False"
        ]
       ],
       "shape": {
        "columns": 16,
        "rows": 91741
       }
      },
      "text/html": [
       "<div>\n",
       "<style scoped>\n",
       "    .dataframe tbody tr th:only-of-type {\n",
       "        vertical-align: middle;\n",
       "    }\n",
       "\n",
       "    .dataframe tbody tr th {\n",
       "        vertical-align: top;\n",
       "    }\n",
       "\n",
       "    .dataframe thead th {\n",
       "        text-align: right;\n",
       "    }\n",
       "</style>\n",
       "<table border=\"1\" class=\"dataframe\">\n",
       "  <thead>\n",
       "    <tr style=\"text-align: right;\">\n",
       "      <th></th>\n",
       "      <th>stop_date</th>\n",
       "      <th>stop_time</th>\n",
       "      <th>county_name</th>\n",
       "      <th>driver_gender</th>\n",
       "      <th>driver_age_raw</th>\n",
       "      <th>driver_age</th>\n",
       "      <th>driver_race</th>\n",
       "      <th>violation_raw</th>\n",
       "      <th>violation</th>\n",
       "      <th>search_conducted</th>\n",
       "      <th>search_type</th>\n",
       "      <th>stop_outcome</th>\n",
       "      <th>is_arrested</th>\n",
       "      <th>ticket_amount</th>\n",
       "      <th>stop_duration</th>\n",
       "      <th>drugs_related_stop</th>\n",
       "    </tr>\n",
       "  </thead>\n",
       "  <tbody>\n",
       "    <tr>\n",
       "      <th>0</th>\n",
       "      <td>2005-01-02</td>\n",
       "      <td>1:55</td>\n",
       "      <td>NaN</td>\n",
       "      <td>M</td>\n",
       "      <td>1985.0</td>\n",
       "      <td>20.0</td>\n",
       "      <td>White</td>\n",
       "      <td>Speeding</td>\n",
       "      <td>Speeding</td>\n",
       "      <td>False</td>\n",
       "      <td>NaN</td>\n",
       "      <td>Ticket</td>\n",
       "      <td>False</td>\n",
       "      <td>341.0</td>\n",
       "      <td>0-15 Min</td>\n",
       "      <td>False</td>\n",
       "    </tr>\n",
       "    <tr>\n",
       "      <th>1</th>\n",
       "      <td>2005-01-18</td>\n",
       "      <td>8:15</td>\n",
       "      <td>NaN</td>\n",
       "      <td>M</td>\n",
       "      <td>1965.0</td>\n",
       "      <td>40.0</td>\n",
       "      <td>White</td>\n",
       "      <td>Speeding</td>\n",
       "      <td>Speeding</td>\n",
       "      <td>False</td>\n",
       "      <td>NaN</td>\n",
       "      <td>Citation</td>\n",
       "      <td>False</td>\n",
       "      <td>NaN</td>\n",
       "      <td>0-15 Min</td>\n",
       "      <td>False</td>\n",
       "    </tr>\n",
       "    <tr>\n",
       "      <th>2</th>\n",
       "      <td>2005-01-23</td>\n",
       "      <td>23:15</td>\n",
       "      <td>NaN</td>\n",
       "      <td>M</td>\n",
       "      <td>1972.0</td>\n",
       "      <td>33.0</td>\n",
       "      <td>White</td>\n",
       "      <td>Speeding</td>\n",
       "      <td>Speeding</td>\n",
       "      <td>False</td>\n",
       "      <td>NaN</td>\n",
       "      <td>Ticket</td>\n",
       "      <td>False</td>\n",
       "      <td>161.0</td>\n",
       "      <td>0-15 Min</td>\n",
       "      <td>False</td>\n",
       "    </tr>\n",
       "    <tr>\n",
       "      <th>3</th>\n",
       "      <td>2005-02-20</td>\n",
       "      <td>17:15</td>\n",
       "      <td>NaN</td>\n",
       "      <td>M</td>\n",
       "      <td>1986.0</td>\n",
       "      <td>19.0</td>\n",
       "      <td>White</td>\n",
       "      <td>Call for Service</td>\n",
       "      <td>Other</td>\n",
       "      <td>False</td>\n",
       "      <td>NaN</td>\n",
       "      <td>Arrest Driver</td>\n",
       "      <td>True</td>\n",
       "      <td>NaN</td>\n",
       "      <td>16-30 Min</td>\n",
       "      <td>False</td>\n",
       "    </tr>\n",
       "    <tr>\n",
       "      <th>4</th>\n",
       "      <td>2005-03-14</td>\n",
       "      <td>10:00</td>\n",
       "      <td>NaN</td>\n",
       "      <td>F</td>\n",
       "      <td>1984.0</td>\n",
       "      <td>21.0</td>\n",
       "      <td>White</td>\n",
       "      <td>Speeding</td>\n",
       "      <td>Speeding</td>\n",
       "      <td>False</td>\n",
       "      <td>NaN</td>\n",
       "      <td>Citation</td>\n",
       "      <td>False</td>\n",
       "      <td>NaN</td>\n",
       "      <td>0-15 Min</td>\n",
       "      <td>False</td>\n",
       "    </tr>\n",
       "    <tr>\n",
       "      <th>...</th>\n",
       "      <td>...</td>\n",
       "      <td>...</td>\n",
       "      <td>...</td>\n",
       "      <td>...</td>\n",
       "      <td>...</td>\n",
       "      <td>...</td>\n",
       "      <td>...</td>\n",
       "      <td>...</td>\n",
       "      <td>...</td>\n",
       "      <td>...</td>\n",
       "      <td>...</td>\n",
       "      <td>...</td>\n",
       "      <td>...</td>\n",
       "      <td>...</td>\n",
       "      <td>...</td>\n",
       "      <td>...</td>\n",
       "    </tr>\n",
       "    <tr>\n",
       "      <th>91736</th>\n",
       "      <td>2015-12-31</td>\n",
       "      <td>20:27</td>\n",
       "      <td>NaN</td>\n",
       "      <td>M</td>\n",
       "      <td>1986.0</td>\n",
       "      <td>29.0</td>\n",
       "      <td>White</td>\n",
       "      <td>Speeding</td>\n",
       "      <td>Speeding</td>\n",
       "      <td>False</td>\n",
       "      <td>NaN</td>\n",
       "      <td>Warning</td>\n",
       "      <td>False</td>\n",
       "      <td>NaN</td>\n",
       "      <td>0-15 Min</td>\n",
       "      <td>False</td>\n",
       "    </tr>\n",
       "    <tr>\n",
       "      <th>91737</th>\n",
       "      <td>2015-12-31</td>\n",
       "      <td>20:35</td>\n",
       "      <td>NaN</td>\n",
       "      <td>F</td>\n",
       "      <td>1982.0</td>\n",
       "      <td>33.0</td>\n",
       "      <td>White</td>\n",
       "      <td>Equipment/Inspection Violation</td>\n",
       "      <td>Equipment</td>\n",
       "      <td>False</td>\n",
       "      <td>NaN</td>\n",
       "      <td>Warning</td>\n",
       "      <td>False</td>\n",
       "      <td>NaN</td>\n",
       "      <td>0-15 Min</td>\n",
       "      <td>False</td>\n",
       "    </tr>\n",
       "    <tr>\n",
       "      <th>91738</th>\n",
       "      <td>2015-12-31</td>\n",
       "      <td>20:45</td>\n",
       "      <td>NaN</td>\n",
       "      <td>M</td>\n",
       "      <td>1992.0</td>\n",
       "      <td>23.0</td>\n",
       "      <td>White</td>\n",
       "      <td>Other Traffic Violation</td>\n",
       "      <td>Moving violation</td>\n",
       "      <td>False</td>\n",
       "      <td>NaN</td>\n",
       "      <td>Warning</td>\n",
       "      <td>False</td>\n",
       "      <td>NaN</td>\n",
       "      <td>0-15 Min</td>\n",
       "      <td>False</td>\n",
       "    </tr>\n",
       "    <tr>\n",
       "      <th>91739</th>\n",
       "      <td>2015-12-31</td>\n",
       "      <td>21:42</td>\n",
       "      <td>NaN</td>\n",
       "      <td>M</td>\n",
       "      <td>1993.0</td>\n",
       "      <td>22.0</td>\n",
       "      <td>White</td>\n",
       "      <td>Speeding</td>\n",
       "      <td>Speeding</td>\n",
       "      <td>False</td>\n",
       "      <td>NaN</td>\n",
       "      <td>Citation</td>\n",
       "      <td>False</td>\n",
       "      <td>NaN</td>\n",
       "      <td>0-15 Min</td>\n",
       "      <td>False</td>\n",
       "    </tr>\n",
       "    <tr>\n",
       "      <th>91740</th>\n",
       "      <td>2015-12-31</td>\n",
       "      <td>22:46</td>\n",
       "      <td>NaN</td>\n",
       "      <td>M</td>\n",
       "      <td>1959.0</td>\n",
       "      <td>56.0</td>\n",
       "      <td>Hispanic</td>\n",
       "      <td>Speeding</td>\n",
       "      <td>Speeding</td>\n",
       "      <td>False</td>\n",
       "      <td>NaN</td>\n",
       "      <td>Citation</td>\n",
       "      <td>False</td>\n",
       "      <td>NaN</td>\n",
       "      <td>0-15 Min</td>\n",
       "      <td>False</td>\n",
       "    </tr>\n",
       "  </tbody>\n",
       "</table>\n",
       "<p>91741 rows × 16 columns</p>\n",
       "</div>"
      ],
      "text/plain": [
       "       stop_date stop_time  county_name driver_gender  driver_age_raw  \\\n",
       "0     2005-01-02      1:55          NaN             M          1985.0   \n",
       "1     2005-01-18      8:15          NaN             M          1965.0   \n",
       "2     2005-01-23     23:15          NaN             M          1972.0   \n",
       "3     2005-02-20     17:15          NaN             M          1986.0   \n",
       "4     2005-03-14     10:00          NaN             F          1984.0   \n",
       "...          ...       ...          ...           ...             ...   \n",
       "91736 2015-12-31     20:27          NaN             M          1986.0   \n",
       "91737 2015-12-31     20:35          NaN             F          1982.0   \n",
       "91738 2015-12-31     20:45          NaN             M          1992.0   \n",
       "91739 2015-12-31     21:42          NaN             M          1993.0   \n",
       "91740 2015-12-31     22:46          NaN             M          1959.0   \n",
       "\n",
       "       driver_age driver_race                   violation_raw  \\\n",
       "0            20.0       White                        Speeding   \n",
       "1            40.0       White                        Speeding   \n",
       "2            33.0       White                        Speeding   \n",
       "3            19.0       White                Call for Service   \n",
       "4            21.0       White                        Speeding   \n",
       "...           ...         ...                             ...   \n",
       "91736        29.0       White                        Speeding   \n",
       "91737        33.0       White  Equipment/Inspection Violation   \n",
       "91738        23.0       White         Other Traffic Violation   \n",
       "91739        22.0       White                        Speeding   \n",
       "91740        56.0    Hispanic                        Speeding   \n",
       "\n",
       "              violation  search_conducted search_type   stop_outcome  \\\n",
       "0              Speeding             False         NaN         Ticket   \n",
       "1              Speeding             False         NaN       Citation   \n",
       "2              Speeding             False         NaN         Ticket   \n",
       "3                 Other             False         NaN  Arrest Driver   \n",
       "4              Speeding             False         NaN       Citation   \n",
       "...                 ...               ...         ...            ...   \n",
       "91736          Speeding             False         NaN        Warning   \n",
       "91737         Equipment             False         NaN        Warning   \n",
       "91738  Moving violation             False         NaN        Warning   \n",
       "91739          Speeding             False         NaN       Citation   \n",
       "91740          Speeding             False         NaN       Citation   \n",
       "\n",
       "      is_arrested  ticket_amount stop_duration  drugs_related_stop  \n",
       "0           False          341.0      0-15 Min               False  \n",
       "1           False            NaN      0-15 Min               False  \n",
       "2           False          161.0      0-15 Min               False  \n",
       "3            True            NaN     16-30 Min               False  \n",
       "4           False            NaN      0-15 Min               False  \n",
       "...           ...            ...           ...                 ...  \n",
       "91736       False            NaN      0-15 Min               False  \n",
       "91737       False            NaN      0-15 Min               False  \n",
       "91738       False            NaN      0-15 Min               False  \n",
       "91739       False            NaN      0-15 Min               False  \n",
       "91740       False            NaN      0-15 Min               False  \n",
       "\n",
       "[91741 rows x 16 columns]"
      ]
     },
     "execution_count": 120,
     "metadata": {},
     "output_type": "execute_result"
    }
   ],
   "source": [
    "df = pd.read_csv('police.csv', parse_dates=['stop_date'], dayfirst=True)\n",
    "df\n"
   ]
  },
  {
   "cell_type": "markdown",
   "id": "15a9de67",
   "metadata": {},
   "source": [
    "6. Delete all empty columns from the df, and determine which operation to use How many column (s) were deleted? "
   ]
  },
  {
   "cell_type": "code",
   "execution_count": 121,
   "id": "aeee9acb",
   "metadata": {},
   "outputs": [
    {
     "name": "stdout",
     "output_type": "stream",
     "text": [
      "<class 'pandas.core.frame.DataFrame'>\n",
      "RangeIndex: 91741 entries, 0 to 91740\n",
      "Data columns (total 16 columns):\n",
      " #   Column              Non-Null Count  Dtype         \n",
      "---  ------              --------------  -----         \n",
      " 0   stop_date           91741 non-null  datetime64[ns]\n",
      " 1   stop_time           91741 non-null  object        \n",
      " 2   county_name         0 non-null      float64       \n",
      " 3   driver_gender       86406 non-null  object        \n",
      " 4   driver_age_raw      86414 non-null  float64       \n",
      " 5   driver_age          86120 non-null  float64       \n",
      " 6   driver_race         86408 non-null  object        \n",
      " 7   violation_raw       86408 non-null  object        \n",
      " 8   violation           86408 non-null  object        \n",
      " 9   search_conducted    91741 non-null  bool          \n",
      " 10  search_type         3196 non-null   object        \n",
      " 11  stop_outcome        86408 non-null  object        \n",
      " 12  is_arrested         86408 non-null  object        \n",
      " 13  ticket_amount       1082 non-null   float64       \n",
      " 14  stop_duration       86408 non-null  object        \n",
      " 15  drugs_related_stop  91741 non-null  bool          \n",
      "dtypes: bool(2), datetime64[ns](1), float64(4), object(9)\n",
      "memory usage: 10.0+ MB\n"
     ]
    }
   ],
   "source": [
    "df.info()\n"
   ]
  },
  {
   "cell_type": "code",
   "execution_count": 122,
   "id": "34dbb61e",
   "metadata": {},
   "outputs": [
    {
     "name": "stdout",
     "output_type": "stream",
     "text": [
      "<class 'pandas.core.frame.DataFrame'>\n",
      "RangeIndex: 91741 entries, 0 to 91740\n",
      "Data columns (total 15 columns):\n",
      " #   Column              Non-Null Count  Dtype         \n",
      "---  ------              --------------  -----         \n",
      " 0   stop_date           91741 non-null  datetime64[ns]\n",
      " 1   stop_time           91741 non-null  object        \n",
      " 2   driver_gender       86406 non-null  object        \n",
      " 3   driver_age_raw      86414 non-null  float64       \n",
      " 4   driver_age          86120 non-null  float64       \n",
      " 5   driver_race         86408 non-null  object        \n",
      " 6   violation_raw       86408 non-null  object        \n",
      " 7   violation           86408 non-null  object        \n",
      " 8   search_conducted    91741 non-null  bool          \n",
      " 9   search_type         3196 non-null   object        \n",
      " 10  stop_outcome        86408 non-null  object        \n",
      " 11  is_arrested         86408 non-null  object        \n",
      " 12  ticket_amount       1082 non-null   float64       \n",
      " 13  stop_duration       86408 non-null  object        \n",
      " 14  drugs_related_stop  91741 non-null  bool          \n",
      "dtypes: bool(2), datetime64[ns](1), float64(3), object(9)\n",
      "memory usage: 9.3+ MB\n"
     ]
    }
   ],
   "source": [
    "# option 1\n",
    "# delete column\n",
    "df.drop(columns=['county_name'],inplace=True)\n",
    "# option 2\n",
    "# all null >> delete \n",
    "# df.dropna(axis='columns', how='all', inplace=True)\n",
    "\n",
    "#Option 1: Specified column name that you want to removed.\n",
    "#Option 2: df.dropna(axis='columns', how='all', inplace=True) > this will remove all columns that are completely empty.\n",
    "# df.dropna(axis='columns', how='all', inplace=True)\n",
    "\n",
    "df.info()"
   ]
  },
  {
   "cell_type": "markdown",
   "id": "fc0c8d30",
   "metadata": {},
   "source": [
    "7. Check how many blank values there are in the column search_type \n",
    "8. Delete rows that contain NULL values in only one of the following columns: \n",
    "stop_date \n",
    "violation_raw \n",
    "violation "
   ]
  },
  {
   "cell_type": "code",
   "execution_count": 123,
   "id": "a7b96bd4",
   "metadata": {},
   "outputs": [
    {
     "data": {
      "text/plain": [
       "np.int64(88545)"
      ]
     },
     "execution_count": 123,
     "metadata": {},
     "output_type": "execute_result"
    }
   ],
   "source": [
    "#7 \n",
    "df['search_type'].isnull().sum()"
   ]
  },
  {
   "cell_type": "code",
   "execution_count": 124,
   "id": "4f83f5a9",
   "metadata": {},
   "outputs": [
    {
     "name": "stdout",
     "output_type": "stream",
     "text": [
      "<class 'pandas.core.frame.DataFrame'>\n",
      "Index: 86408 entries, 0 to 91740\n",
      "Data columns (total 15 columns):\n",
      " #   Column              Non-Null Count  Dtype         \n",
      "---  ------              --------------  -----         \n",
      " 0   stop_date           86408 non-null  datetime64[ns]\n",
      " 1   stop_time           86408 non-null  object        \n",
      " 2   driver_gender       86406 non-null  object        \n",
      " 3   driver_age_raw      86407 non-null  float64       \n",
      " 4   driver_age          86115 non-null  float64       \n",
      " 5   driver_race         86408 non-null  object        \n",
      " 6   violation_raw       86408 non-null  object        \n",
      " 7   violation           86408 non-null  object        \n",
      " 8   search_conducted    86408 non-null  bool          \n",
      " 9   search_type         3196 non-null   object        \n",
      " 10  stop_outcome        86408 non-null  object        \n",
      " 11  is_arrested         86408 non-null  object        \n",
      " 12  ticket_amount       1081 non-null   float64       \n",
      " 13  stop_duration       86408 non-null  object        \n",
      " 14  drugs_related_stop  86408 non-null  bool          \n",
      "dtypes: bool(2), datetime64[ns](1), float64(3), object(9)\n",
      "memory usage: 9.4+ MB\n"
     ]
    }
   ],
   "source": [
    "#8 \n",
    "df.dropna(subset=['stop_date', 'violation_raw', 'violation'], inplace=True)\n",
    "df.info()"
   ]
  },
  {
   "cell_type": "markdown",
   "id": "5dd23610",
   "metadata": {},
   "source": [
    "9. How many blank rows are there in the column driver_age ?"
   ]
  },
  {
   "cell_type": "code",
   "execution_count": 125,
   "id": "56699ca2",
   "metadata": {},
   "outputs": [
    {
     "data": {
      "text/plain": [
       "np.int64(293)"
      ]
     },
     "execution_count": 125,
     "metadata": {},
     "output_type": "execute_result"
    }
   ],
   "source": [
    "df['driver_age'].isnull().sum()"
   ]
  },
  {
   "cell_type": "markdown",
   "id": "b80220f1",
   "metadata": {},
   "source": [
    "10. What is the percentage of blank rows in the driver_age column? \n",
    "    Hint:The number of rows in the df can be calculated by the len () function"
   ]
  },
  {
   "cell_type": "code",
   "execution_count": 126,
   "id": "ea854be2",
   "metadata": {},
   "outputs": [
    {
     "data": {
      "text/plain": [
       "np.float64(0.33908897324321824)"
      ]
     },
     "execution_count": 126,
     "metadata": {},
     "output_type": "execute_result"
    }
   ],
   "source": [
    "df['driver_age'].isnull().sum() / len(df) * 100"
   ]
  },
  {
   "cell_type": "code",
   "execution_count": 127,
   "id": "974ae9a5",
   "metadata": {},
   "outputs": [
    {
     "name": "stdout",
     "output_type": "stream",
     "text": [
      "<class 'pandas.core.series.Series'>\n",
      "Index: 86408 entries, 0 to 91740\n",
      "Series name: driver_age\n",
      "Non-Null Count  Dtype  \n",
      "--------------  -----  \n",
      "86115 non-null  float64\n",
      "dtypes: float64(1)\n",
      "memory usage: 1.3 MB\n"
     ]
    },
    {
     "data": {
      "text/plain": [
       "np.float64(34.01165882831098)"
      ]
     },
     "execution_count": 127,
     "metadata": {},
     "output_type": "execute_result"
    }
   ],
   "source": [
    "#11. What is the average value in the driver_age column?\n",
    "df['driver_age'].info()\n",
    "\n",
    "df['driver_age'].mean()"
   ]
  },
  {
   "cell_type": "code",
   "execution_count": 128,
   "id": "e73be8c5",
   "metadata": {},
   "outputs": [
    {
     "name": "stderr",
     "output_type": "stream",
     "text": [
      "C:\\Users\\hanay\\AppData\\Local\\Temp\\ipykernel_34704\\4041053939.py:2: FutureWarning: A value is trying to be set on a copy of a DataFrame or Series through chained assignment using an inplace method.\n",
      "The behavior will change in pandas 3.0. This inplace method will never work because the intermediate object on which we are setting values always behaves as a copy.\n",
      "\n",
      "For example, when doing 'df[col].method(value, inplace=True)', try using 'df.method({col: value}, inplace=True)' or df[col] = df[col].method(value) instead, to perform the operation inplace on the original object.\n",
      "\n",
      "\n",
      "  df['driver_age'].fillna(round(df['driver_age'].mean()), inplace=True)\n"
     ]
    }
   ],
   "source": [
    "# 12. Fill in the missing values in the driver_age column with the average value of the column, rounded to the nearest whole number\n",
    "df['driver_age'].fillna(round(df['driver_age'].mean()), inplace=True)\n",
    "# above all\n"
   ]
  },
  {
   "cell_type": "code",
   "execution_count": 129,
   "id": "d59277fa",
   "metadata": {},
   "outputs": [
    {
     "data": {
      "text/plain": [
       "np.int64(0)"
      ]
     },
     "execution_count": 129,
     "metadata": {},
     "output_type": "execute_result"
    }
   ],
   "source": [
    "df['driver_age'].isnull().sum() \n"
   ]
  },
  {
   "cell_type": "code",
   "execution_count": 130,
   "id": "4405bef7",
   "metadata": {},
   "outputs": [
    {
     "data": {
      "text/plain": [
       "np.float64(34.01161929450977)"
      ]
     },
     "execution_count": 130,
     "metadata": {},
     "output_type": "execute_result"
    }
   ],
   "source": [
    "# 13. What is the new average value in the driver_age column? \n",
    "# Did filling in the missing values make a significant change to the average?\n",
    "df['driver_age'].mean()"
   ]
  },
  {
   "cell_type": "markdown",
   "id": "1c86d2f4",
   "metadata": {},
   "source": [
    "## Part 2 - Aggregative Methods\n",
    "\n",
    "16. What is the total monetary amount of all tickets given to drivers (ticket_amount) "
   ]
  },
  {
   "cell_type": "code",
   "execution_count": 131,
   "id": "c11c42c6",
   "metadata": {},
   "outputs": [
    {
     "data": {
      "text/plain": [
       "np.float64(237423.0)"
      ]
     },
     "execution_count": 131,
     "metadata": {},
     "output_type": "execute_result"
    }
   ],
   "source": [
    "# 16. What is the total monetary amount of all tickets given to drivers (ticket_amount) \n",
    "df['ticket_amount'].sum()"
   ]
  },
  {
   "cell_type": "code",
   "execution_count": 132,
   "id": "0a99ec00",
   "metadata": {},
   "outputs": [
    {
     "data": {
      "text/plain": [
       "np.float64(187053.0)"
      ]
     },
     "execution_count": 132,
     "metadata": {},
     "output_type": "execute_result"
    }
   ],
   "source": [
    "#17. What is the total monetary amount of tickets given to drivers aged 20-50? \n",
    "df[(df['driver_age'] >= 20) & (df['driver_age'] <= 50)]['ticket_amount'].sum()"
   ]
  },
  {
   "cell_type": "code",
   "execution_count": 133,
   "id": "5d4c4268",
   "metadata": {},
   "outputs": [
    {
     "data": {
      "text/plain": [
       "np.float64(187053.0)"
      ]
     },
     "execution_count": 133,
     "metadata": {},
     "output_type": "execute_result"
    }
   ],
   "source": [
    "#17\n",
    "whereabove20 = df['driver_age'] >= 20\n",
    "wherebelow50 = df['driver_age'] <= 50\n",
    "\n",
    "df.loc[whereabove20 & wherebelow50, 'ticket_amount'].sum()"
   ]
  },
  {
   "cell_type": "code",
   "execution_count": 134,
   "id": "08d1b2c4",
   "metadata": {},
   "outputs": [
    {
     "name": "stdout",
     "output_type": "stream",
     "text": [
      "<class 'pandas.core.frame.DataFrame'>\n",
      "Index: 86408 entries, 0 to 91740\n",
      "Data columns (total 15 columns):\n",
      " #   Column              Non-Null Count  Dtype         \n",
      "---  ------              --------------  -----         \n",
      " 0   stop_date           86408 non-null  datetime64[ns]\n",
      " 1   stop_time           86408 non-null  object        \n",
      " 2   driver_gender       86406 non-null  object        \n",
      " 3   driver_age_raw      86407 non-null  float64       \n",
      " 4   driver_age          86408 non-null  float64       \n",
      " 5   driver_race         86408 non-null  object        \n",
      " 6   violation_raw       86408 non-null  object        \n",
      " 7   violation           86408 non-null  object        \n",
      " 8   search_conducted    86408 non-null  bool          \n",
      " 9   search_type         3196 non-null   object        \n",
      " 10  stop_outcome        86408 non-null  object        \n",
      " 11  is_arrested         86408 non-null  object        \n",
      " 12  ticket_amount       1081 non-null   float64       \n",
      " 13  stop_duration       86408 non-null  object        \n",
      " 14  drugs_related_stop  86408 non-null  bool          \n",
      "dtypes: bool(2), datetime64[ns](1), float64(3), object(9)\n",
      "memory usage: 9.4+ MB\n"
     ]
    }
   ],
   "source": [
    "df.info()"
   ]
  },
  {
   "cell_type": "code",
   "execution_count": 135,
   "id": "974d2b32",
   "metadata": {},
   "outputs": [
    {
     "data": {
      "text/plain": [
       "np.float64(214.77197802197801)"
      ]
     },
     "execution_count": 135,
     "metadata": {},
     "output_type": "execute_result"
    }
   ],
   "source": [
    "# 18. What is the average monetary amount of tickets given to women? \n",
    "df['driver_gender'].value_counts()\n",
    "wheref = df['driver_gender'] == 'F'\n",
    "df.loc[wheref, 'ticket_amount'].mean()\n"
   ]
  },
  {
   "cell_type": "code",
   "execution_count": 136,
   "id": "cf650554",
   "metadata": {},
   "outputs": [
    {
     "data": {
      "text/plain": [
       "np.float64(60.0)"
      ]
     },
     "execution_count": 136,
     "metadata": {},
     "output_type": "execute_result"
    }
   ],
   "source": [
    "# 19. What is the maximum age of male drivers arrested for speeding?\n",
    "wheremale = df['driver_gender'] == 'M'\n",
    "wherespeeding = df['violation'] == 'Speeding'\n",
    "wherearrested = df['is_arrested'] == True\n",
    "df.loc[wheremale & wherespeeding & wherearrested, 'driver_age'].max()"
   ]
  },
  {
   "cell_type": "markdown",
   "id": "f025f88d",
   "metadata": {},
   "source": []
  },
  {
   "cell_type": "code",
   "execution_count": 137,
   "id": "2a6d2f14",
   "metadata": {},
   "outputs": [
    {
     "data": {
      "text/plain": [
       "64"
      ]
     },
     "execution_count": 137,
     "metadata": {},
     "output_type": "execute_result"
    }
   ],
   "source": [
    "# 20. How many women have been arrested for the traffic offense Call for Service?\n",
    "wherefemale = df['driver_gender'] == 'F'\n",
    "wherecallfor = df['violation_raw'] == 'Call for Service'\n",
    "df.loc[wherefemale & wherecallfor & wherearrested, 'is_arrested'].sum()"
   ]
  },
  {
   "cell_type": "code",
   "execution_count": 138,
   "id": "c3377ffb",
   "metadata": {},
   "outputs": [
    {
     "data": {
      "text/plain": [
       "np.int64(2725)"
      ]
     },
     "execution_count": 138,
     "metadata": {},
     "output_type": "execute_result"
    }
   ],
   "source": [
    "# 21. Who had more vehicle searches conducted (search_conducted), men or women? By what percentage more?\n",
    "df.loc[wheremale, 'search_conducted'].sum() "
   ]
  },
  {
   "cell_type": "code",
   "execution_count": 139,
   "id": "54ed0f29",
   "metadata": {},
   "outputs": [
    {
     "data": {
      "text/plain": [
       "np.int64(471)"
      ]
     },
     "execution_count": 139,
     "metadata": {},
     "output_type": "execute_result"
    }
   ],
   "source": [
    "df.loc[wherefemale, 'search_conducted'].sum() "
   ]
  },
  {
   "cell_type": "code",
   "execution_count": 141,
   "id": "39c2434f",
   "metadata": {},
   "outputs": [
    {
     "data": {
      "text/plain": [
       "np.float64(578.5562632696391)"
      ]
     },
     "execution_count": 141,
     "metadata": {},
     "output_type": "execute_result"
    }
   ],
   "source": [
    "df.loc[wheremale, 'search_conducted'].sum() / df.loc[wherefemale, 'search_conducted'].sum() * 100"
   ]
  },
  {
   "cell_type": "code",
   "execution_count": 142,
   "id": "d6b239ca",
   "metadata": {},
   "outputs": [
    {
     "data": {
      "text/plain": [
       "np.float64(478.5562632696391)"
      ]
     },
     "execution_count": 142,
     "metadata": {},
     "output_type": "execute_result"
    }
   ],
   "source": [
    "(df.loc[wheremale, 'search_conducted'].sum() - df.loc[wherefemale, 'search_conducted'].sum()) / df.loc[wherefemale, 'search_conducted'].sum() * 100"
   ]
  }
 ],
 "metadata": {
  "kernelspec": {
   "display_name": "Python 3",
   "language": "python",
   "name": "python3"
  },
  "language_info": {
   "codemirror_mode": {
    "name": "ipython",
    "version": 3
   },
   "file_extension": ".py",
   "mimetype": "text/x-python",
   "name": "python",
   "nbconvert_exporter": "python",
   "pygments_lexer": "ipython3",
   "version": "3.13.3"
  }
 },
 "nbformat": 4,
 "nbformat_minor": 5
}
