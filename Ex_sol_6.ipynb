{
 "cells": [
  {
   "cell_type": "markdown",
   "id": "05ac77f3",
   "metadata": {},
   "source": [
    "### Part 1 - Grouping and Aggregation \n",
    "1. Open a new folder on your desktop named Python_Class \n",
    "2. Go to the folder you opened, and create a new notebook called Ex_sol_6 \n",
    "(Make sure that a notebook has been opened in the desired location) \n",
    "3. Import the Pandas Library to the notebook ### Part 2 - Pivot Table "
   ]
  },
  {
   "cell_type": "code",
   "execution_count": 2,
   "id": "05698e3a",
   "metadata": {},
   "outputs": [],
   "source": [
    "import pandas as pd"
   ]
  },
  {
   "cell_type": "markdown",
   "id": "332294e0",
   "metadata": {},
   "source": [
    "Concatenate "
   ]
  },
  {
   "cell_type": "markdown",
   "id": "2f1ed191",
   "metadata": {},
   "source": [
    "In this section we will look at the daily grocery shopping list of three families    \n",
    "5. From the \"Data\" folder, import the following files into DataFrame objects, and display their contents:    \n",
    "(These files contain each family's daily shopping list) "
   ]
  },
  {
   "cell_type": "code",
   "execution_count": 3,
   "id": "71f59df3",
   "metadata": {},
   "outputs": [],
   "source": [
    "df1 = pd.read_csv('Family_1_groceries.csv')\n",
    "df2 = pd.read_csv('Family_2_groceries.csv')\n",
    "df3 = pd.read_csv('Family_3_groceries.csv')"
   ]
  },
  {
   "cell_type": "code",
   "execution_count": 4,
   "id": "8815728b",
   "metadata": {},
   "outputs": [
    {
     "data": {
      "application/vnd.microsoft.datawrangler.viewer.v0+json": {
       "columns": [
        {
         "name": "index",
         "rawType": "int64",
         "type": "integer"
        },
        {
         "name": "Customer no",
         "rawType": "int64",
         "type": "integer"
        },
        {
         "name": "Product Code",
         "rawType": "int64",
         "type": "integer"
        }
       ],
       "ref": "328c90a4-9ff4-4731-8bb8-06cd1e413cd8",
       "rows": [
        [
         "0",
         "1",
         "1003"
        ],
        [
         "1",
         "1",
         "1011"
        ],
        [
         "2",
         "1",
         "1010"
        ],
        [
         "3",
         "1",
         "1008"
        ],
        [
         "4",
         "1",
         "1002"
        ]
       ],
       "shape": {
        "columns": 2,
        "rows": 5
       }
      },
      "text/html": [
       "<div>\n",
       "<style scoped>\n",
       "    .dataframe tbody tr th:only-of-type {\n",
       "        vertical-align: middle;\n",
       "    }\n",
       "\n",
       "    .dataframe tbody tr th {\n",
       "        vertical-align: top;\n",
       "    }\n",
       "\n",
       "    .dataframe thead th {\n",
       "        text-align: right;\n",
       "    }\n",
       "</style>\n",
       "<table border=\"1\" class=\"dataframe\">\n",
       "  <thead>\n",
       "    <tr style=\"text-align: right;\">\n",
       "      <th></th>\n",
       "      <th>Customer no</th>\n",
       "      <th>Product Code</th>\n",
       "    </tr>\n",
       "  </thead>\n",
       "  <tbody>\n",
       "    <tr>\n",
       "      <th>0</th>\n",
       "      <td>1</td>\n",
       "      <td>1003</td>\n",
       "    </tr>\n",
       "    <tr>\n",
       "      <th>1</th>\n",
       "      <td>1</td>\n",
       "      <td>1011</td>\n",
       "    </tr>\n",
       "    <tr>\n",
       "      <th>2</th>\n",
       "      <td>1</td>\n",
       "      <td>1010</td>\n",
       "    </tr>\n",
       "    <tr>\n",
       "      <th>3</th>\n",
       "      <td>1</td>\n",
       "      <td>1008</td>\n",
       "    </tr>\n",
       "    <tr>\n",
       "      <th>4</th>\n",
       "      <td>1</td>\n",
       "      <td>1002</td>\n",
       "    </tr>\n",
       "  </tbody>\n",
       "</table>\n",
       "</div>"
      ],
      "text/plain": [
       "   Customer no  Product Code\n",
       "0            1          1003\n",
       "1            1          1011\n",
       "2            1          1010\n",
       "3            1          1008\n",
       "4            1          1002"
      ]
     },
     "execution_count": 4,
     "metadata": {},
     "output_type": "execute_result"
    }
   ],
   "source": [
    "df1"
   ]
  },
  {
   "cell_type": "code",
   "execution_count": 5,
   "id": "3fc976d0",
   "metadata": {},
   "outputs": [
    {
     "data": {
      "application/vnd.microsoft.datawrangler.viewer.v0+json": {
       "columns": [
        {
         "name": "index",
         "rawType": "int64",
         "type": "integer"
        },
        {
         "name": "Customer no",
         "rawType": "int64",
         "type": "integer"
        },
        {
         "name": "Product Code",
         "rawType": "int64",
         "type": "integer"
        }
       ],
       "ref": "b66fca90-5239-47de-bd03-2df9c08d0000",
       "rows": [
        [
         "0",
         "2",
         "1000"
        ],
        [
         "1",
         "2",
         "1004"
        ],
        [
         "2",
         "2",
         "1011"
        ],
        [
         "3",
         "2",
         "1003"
        ],
        [
         "4",
         "2",
         "1009"
        ]
       ],
       "shape": {
        "columns": 2,
        "rows": 5
       }
      },
      "text/html": [
       "<div>\n",
       "<style scoped>\n",
       "    .dataframe tbody tr th:only-of-type {\n",
       "        vertical-align: middle;\n",
       "    }\n",
       "\n",
       "    .dataframe tbody tr th {\n",
       "        vertical-align: top;\n",
       "    }\n",
       "\n",
       "    .dataframe thead th {\n",
       "        text-align: right;\n",
       "    }\n",
       "</style>\n",
       "<table border=\"1\" class=\"dataframe\">\n",
       "  <thead>\n",
       "    <tr style=\"text-align: right;\">\n",
       "      <th></th>\n",
       "      <th>Customer no</th>\n",
       "      <th>Product Code</th>\n",
       "    </tr>\n",
       "  </thead>\n",
       "  <tbody>\n",
       "    <tr>\n",
       "      <th>0</th>\n",
       "      <td>2</td>\n",
       "      <td>1000</td>\n",
       "    </tr>\n",
       "    <tr>\n",
       "      <th>1</th>\n",
       "      <td>2</td>\n",
       "      <td>1004</td>\n",
       "    </tr>\n",
       "    <tr>\n",
       "      <th>2</th>\n",
       "      <td>2</td>\n",
       "      <td>1011</td>\n",
       "    </tr>\n",
       "    <tr>\n",
       "      <th>3</th>\n",
       "      <td>2</td>\n",
       "      <td>1003</td>\n",
       "    </tr>\n",
       "    <tr>\n",
       "      <th>4</th>\n",
       "      <td>2</td>\n",
       "      <td>1009</td>\n",
       "    </tr>\n",
       "  </tbody>\n",
       "</table>\n",
       "</div>"
      ],
      "text/plain": [
       "   Customer no  Product Code\n",
       "0            2          1000\n",
       "1            2          1004\n",
       "2            2          1011\n",
       "3            2          1003\n",
       "4            2          1009"
      ]
     },
     "execution_count": 5,
     "metadata": {},
     "output_type": "execute_result"
    }
   ],
   "source": [
    "df2"
   ]
  },
  {
   "cell_type": "code",
   "execution_count": 6,
   "id": "c5903260",
   "metadata": {},
   "outputs": [
    {
     "data": {
      "application/vnd.microsoft.datawrangler.viewer.v0+json": {
       "columns": [
        {
         "name": "index",
         "rawType": "int64",
         "type": "integer"
        },
        {
         "name": "Customer no",
         "rawType": "int64",
         "type": "integer"
        },
        {
         "name": "Product Code",
         "rawType": "int64",
         "type": "integer"
        }
       ],
       "ref": "40cfa376-c199-4845-8c1c-1523a4d51e46",
       "rows": [
        [
         "0",
         "3",
         "1000"
        ],
        [
         "1",
         "3",
         "1004"
        ],
        [
         "2",
         "3",
         "1011"
        ],
        [
         "3",
         "3",
         "1003"
        ],
        [
         "4",
         "3",
         "1009"
        ],
        [
         "5",
         "3",
         "1000"
        ],
        [
         "6",
         "3",
         "1002"
        ]
       ],
       "shape": {
        "columns": 2,
        "rows": 7
       }
      },
      "text/html": [
       "<div>\n",
       "<style scoped>\n",
       "    .dataframe tbody tr th:only-of-type {\n",
       "        vertical-align: middle;\n",
       "    }\n",
       "\n",
       "    .dataframe tbody tr th {\n",
       "        vertical-align: top;\n",
       "    }\n",
       "\n",
       "    .dataframe thead th {\n",
       "        text-align: right;\n",
       "    }\n",
       "</style>\n",
       "<table border=\"1\" class=\"dataframe\">\n",
       "  <thead>\n",
       "    <tr style=\"text-align: right;\">\n",
       "      <th></th>\n",
       "      <th>Customer no</th>\n",
       "      <th>Product Code</th>\n",
       "    </tr>\n",
       "  </thead>\n",
       "  <tbody>\n",
       "    <tr>\n",
       "      <th>0</th>\n",
       "      <td>3</td>\n",
       "      <td>1000</td>\n",
       "    </tr>\n",
       "    <tr>\n",
       "      <th>1</th>\n",
       "      <td>3</td>\n",
       "      <td>1004</td>\n",
       "    </tr>\n",
       "    <tr>\n",
       "      <th>2</th>\n",
       "      <td>3</td>\n",
       "      <td>1011</td>\n",
       "    </tr>\n",
       "    <tr>\n",
       "      <th>3</th>\n",
       "      <td>3</td>\n",
       "      <td>1003</td>\n",
       "    </tr>\n",
       "    <tr>\n",
       "      <th>4</th>\n",
       "      <td>3</td>\n",
       "      <td>1009</td>\n",
       "    </tr>\n",
       "    <tr>\n",
       "      <th>5</th>\n",
       "      <td>3</td>\n",
       "      <td>1000</td>\n",
       "    </tr>\n",
       "    <tr>\n",
       "      <th>6</th>\n",
       "      <td>3</td>\n",
       "      <td>1002</td>\n",
       "    </tr>\n",
       "  </tbody>\n",
       "</table>\n",
       "</div>"
      ],
      "text/plain": [
       "   Customer no  Product Code\n",
       "0            3          1000\n",
       "1            3          1004\n",
       "2            3          1011\n",
       "3            3          1003\n",
       "4            3          1009\n",
       "5            3          1000\n",
       "6            3          1002"
      ]
     },
     "execution_count": 6,
     "metadata": {},
     "output_type": "execute_result"
    }
   ],
   "source": [
    "df3"
   ]
  },
  {
   "cell_type": "code",
   "execution_count": 7,
   "id": "88771727",
   "metadata": {},
   "outputs": [],
   "source": [
    "# 6. Merge the shopping data of the three families (df1, df2, df3) into a new DataFrame called shop_df, which will contain the complete shopping list of all the families. \n",
    "shop_df = pd.concat([df1, df2, df3], ignore_index=True)"
   ]
  },
  {
   "cell_type": "code",
   "execution_count": 8,
   "id": "23e86784",
   "metadata": {},
   "outputs": [
    {
     "data": {
      "application/vnd.microsoft.datawrangler.viewer.v0+json": {
       "columns": [
        {
         "name": "index",
         "rawType": "int64",
         "type": "integer"
        },
        {
         "name": "Customer no",
         "rawType": "int64",
         "type": "integer"
        },
        {
         "name": "Product Code",
         "rawType": "int64",
         "type": "integer"
        }
       ],
       "ref": "e4ea57e9-02f3-4df8-a294-8f630ed728bf",
       "rows": [
        [
         "0",
         "1",
         "1003"
        ],
        [
         "1",
         "1",
         "1011"
        ],
        [
         "2",
         "1",
         "1010"
        ],
        [
         "3",
         "1",
         "1008"
        ],
        [
         "4",
         "1",
         "1002"
        ],
        [
         "5",
         "2",
         "1000"
        ],
        [
         "6",
         "2",
         "1004"
        ],
        [
         "7",
         "2",
         "1011"
        ],
        [
         "8",
         "2",
         "1003"
        ],
        [
         "9",
         "2",
         "1009"
        ],
        [
         "10",
         "3",
         "1000"
        ],
        [
         "11",
         "3",
         "1004"
        ],
        [
         "12",
         "3",
         "1011"
        ],
        [
         "13",
         "3",
         "1003"
        ],
        [
         "14",
         "3",
         "1009"
        ],
        [
         "15",
         "3",
         "1000"
        ],
        [
         "16",
         "3",
         "1002"
        ]
       ],
       "shape": {
        "columns": 2,
        "rows": 17
       }
      },
      "text/html": [
       "<div>\n",
       "<style scoped>\n",
       "    .dataframe tbody tr th:only-of-type {\n",
       "        vertical-align: middle;\n",
       "    }\n",
       "\n",
       "    .dataframe tbody tr th {\n",
       "        vertical-align: top;\n",
       "    }\n",
       "\n",
       "    .dataframe thead th {\n",
       "        text-align: right;\n",
       "    }\n",
       "</style>\n",
       "<table border=\"1\" class=\"dataframe\">\n",
       "  <thead>\n",
       "    <tr style=\"text-align: right;\">\n",
       "      <th></th>\n",
       "      <th>Customer no</th>\n",
       "      <th>Product Code</th>\n",
       "    </tr>\n",
       "  </thead>\n",
       "  <tbody>\n",
       "    <tr>\n",
       "      <th>0</th>\n",
       "      <td>1</td>\n",
       "      <td>1003</td>\n",
       "    </tr>\n",
       "    <tr>\n",
       "      <th>1</th>\n",
       "      <td>1</td>\n",
       "      <td>1011</td>\n",
       "    </tr>\n",
       "    <tr>\n",
       "      <th>2</th>\n",
       "      <td>1</td>\n",
       "      <td>1010</td>\n",
       "    </tr>\n",
       "    <tr>\n",
       "      <th>3</th>\n",
       "      <td>1</td>\n",
       "      <td>1008</td>\n",
       "    </tr>\n",
       "    <tr>\n",
       "      <th>4</th>\n",
       "      <td>1</td>\n",
       "      <td>1002</td>\n",
       "    </tr>\n",
       "    <tr>\n",
       "      <th>5</th>\n",
       "      <td>2</td>\n",
       "      <td>1000</td>\n",
       "    </tr>\n",
       "    <tr>\n",
       "      <th>6</th>\n",
       "      <td>2</td>\n",
       "      <td>1004</td>\n",
       "    </tr>\n",
       "    <tr>\n",
       "      <th>7</th>\n",
       "      <td>2</td>\n",
       "      <td>1011</td>\n",
       "    </tr>\n",
       "    <tr>\n",
       "      <th>8</th>\n",
       "      <td>2</td>\n",
       "      <td>1003</td>\n",
       "    </tr>\n",
       "    <tr>\n",
       "      <th>9</th>\n",
       "      <td>2</td>\n",
       "      <td>1009</td>\n",
       "    </tr>\n",
       "    <tr>\n",
       "      <th>10</th>\n",
       "      <td>3</td>\n",
       "      <td>1000</td>\n",
       "    </tr>\n",
       "    <tr>\n",
       "      <th>11</th>\n",
       "      <td>3</td>\n",
       "      <td>1004</td>\n",
       "    </tr>\n",
       "    <tr>\n",
       "      <th>12</th>\n",
       "      <td>3</td>\n",
       "      <td>1011</td>\n",
       "    </tr>\n",
       "    <tr>\n",
       "      <th>13</th>\n",
       "      <td>3</td>\n",
       "      <td>1003</td>\n",
       "    </tr>\n",
       "    <tr>\n",
       "      <th>14</th>\n",
       "      <td>3</td>\n",
       "      <td>1009</td>\n",
       "    </tr>\n",
       "    <tr>\n",
       "      <th>15</th>\n",
       "      <td>3</td>\n",
       "      <td>1000</td>\n",
       "    </tr>\n",
       "    <tr>\n",
       "      <th>16</th>\n",
       "      <td>3</td>\n",
       "      <td>1002</td>\n",
       "    </tr>\n",
       "  </tbody>\n",
       "</table>\n",
       "</div>"
      ],
      "text/plain": [
       "    Customer no  Product Code\n",
       "0             1          1003\n",
       "1             1          1011\n",
       "2             1          1010\n",
       "3             1          1008\n",
       "4             1          1002\n",
       "5             2          1000\n",
       "6             2          1004\n",
       "7             2          1011\n",
       "8             2          1003\n",
       "9             2          1009\n",
       "10            3          1000\n",
       "11            3          1004\n",
       "12            3          1011\n",
       "13            3          1003\n",
       "14            3          1009\n",
       "15            3          1000\n",
       "16            3          1002"
      ]
     },
     "execution_count": 8,
     "metadata": {},
     "output_type": "execute_result"
    }
   ],
   "source": [
    "# 7. Because the indices of the rows are in disarray, please re-index the rows anew.\n",
    "shop_df"
   ]
  },
  {
   "cell_type": "code",
   "execution_count": 9,
   "id": "8549d4c4",
   "metadata": {},
   "outputs": [
    {
     "name": "stdout",
     "output_type": "stream",
     "text": [
      "<class 'pandas.core.frame.DataFrame'>\n",
      "RangeIndex: 17 entries, 0 to 16\n",
      "Data columns (total 2 columns):\n",
      " #   Column        Non-Null Count  Dtype\n",
      "---  ------        --------------  -----\n",
      " 0   Customer no   17 non-null     int64\n",
      " 1   Product Code  17 non-null     int64\n",
      "dtypes: int64(2)\n",
      "memory usage: 404.0 bytes\n"
     ]
    }
   ],
   "source": [
    "# 9. Which families purchased item number 1011 or 1000 \n",
    "# If you need to look for a method that deletes duplicate values, search the web for how to do this\n",
    "shop_df.info()"
   ]
  },
  {
   "cell_type": "code",
   "execution_count": 10,
   "id": "0f9d3db7",
   "metadata": {},
   "outputs": [
    {
     "data": {
      "application/vnd.microsoft.datawrangler.viewer.v0+json": {
       "columns": [
        {
         "name": "index",
         "rawType": "object",
         "type": "string"
        },
        {
         "name": "Customer no",
         "rawType": "float64",
         "type": "float"
        },
        {
         "name": "Product Code",
         "rawType": "float64",
         "type": "float"
        }
       ],
       "ref": "267ff896-d118-4319-8a5d-8c63a17632a1",
       "rows": [
        [
         "count",
         "17.0",
         "17.0"
        ],
        [
         "mean",
         "2.1176470588235294",
         "1005.2941176470588"
        ],
        [
         "std",
         "0.8574929257125442",
         "4.1797832761154154"
        ],
        [
         "min",
         "1.0",
         "1000.0"
        ],
        [
         "25%",
         "1.0",
         "1002.0"
        ],
        [
         "50%",
         "2.0",
         "1004.0"
        ],
        [
         "75%",
         "3.0",
         "1009.0"
        ],
        [
         "max",
         "3.0",
         "1011.0"
        ]
       ],
       "shape": {
        "columns": 2,
        "rows": 8
       }
      },
      "text/html": [
       "<div>\n",
       "<style scoped>\n",
       "    .dataframe tbody tr th:only-of-type {\n",
       "        vertical-align: middle;\n",
       "    }\n",
       "\n",
       "    .dataframe tbody tr th {\n",
       "        vertical-align: top;\n",
       "    }\n",
       "\n",
       "    .dataframe thead th {\n",
       "        text-align: right;\n",
       "    }\n",
       "</style>\n",
       "<table border=\"1\" class=\"dataframe\">\n",
       "  <thead>\n",
       "    <tr style=\"text-align: right;\">\n",
       "      <th></th>\n",
       "      <th>Customer no</th>\n",
       "      <th>Product Code</th>\n",
       "    </tr>\n",
       "  </thead>\n",
       "  <tbody>\n",
       "    <tr>\n",
       "      <th>count</th>\n",
       "      <td>17.000000</td>\n",
       "      <td>17.000000</td>\n",
       "    </tr>\n",
       "    <tr>\n",
       "      <th>mean</th>\n",
       "      <td>2.117647</td>\n",
       "      <td>1005.294118</td>\n",
       "    </tr>\n",
       "    <tr>\n",
       "      <th>std</th>\n",
       "      <td>0.857493</td>\n",
       "      <td>4.179783</td>\n",
       "    </tr>\n",
       "    <tr>\n",
       "      <th>min</th>\n",
       "      <td>1.000000</td>\n",
       "      <td>1000.000000</td>\n",
       "    </tr>\n",
       "    <tr>\n",
       "      <th>25%</th>\n",
       "      <td>1.000000</td>\n",
       "      <td>1002.000000</td>\n",
       "    </tr>\n",
       "    <tr>\n",
       "      <th>50%</th>\n",
       "      <td>2.000000</td>\n",
       "      <td>1004.000000</td>\n",
       "    </tr>\n",
       "    <tr>\n",
       "      <th>75%</th>\n",
       "      <td>3.000000</td>\n",
       "      <td>1009.000000</td>\n",
       "    </tr>\n",
       "    <tr>\n",
       "      <th>max</th>\n",
       "      <td>3.000000</td>\n",
       "      <td>1011.000000</td>\n",
       "    </tr>\n",
       "  </tbody>\n",
       "</table>\n",
       "</div>"
      ],
      "text/plain": [
       "       Customer no  Product Code\n",
       "count    17.000000     17.000000\n",
       "mean      2.117647   1005.294118\n",
       "std       0.857493      4.179783\n",
       "min       1.000000   1000.000000\n",
       "25%       1.000000   1002.000000\n",
       "50%       2.000000   1004.000000\n",
       "75%       3.000000   1009.000000\n",
       "max       3.000000   1011.000000"
      ]
     },
     "execution_count": 10,
     "metadata": {},
     "output_type": "execute_result"
    }
   ],
   "source": [
    "shop_df.describe()"
   ]
  },
  {
   "cell_type": "code",
   "execution_count": 11,
   "id": "207b9d8d",
   "metadata": {},
   "outputs": [
    {
     "data": {
      "text/plain": [
       "17"
      ]
     },
     "execution_count": 11,
     "metadata": {},
     "output_type": "execute_result"
    }
   ],
   "source": [
    "shop_df.shape[0]\n"
   ]
  },
  {
   "cell_type": "code",
   "execution_count": 12,
   "id": "e0e2ad4d",
   "metadata": {},
   "outputs": [
    {
     "data": {
      "application/vnd.microsoft.datawrangler.viewer.v0+json": {
       "columns": [
        {
         "name": "index",
         "rawType": "int64",
         "type": "integer"
        },
        {
         "name": "Customer no",
         "rawType": "int64",
         "type": "integer"
        }
       ],
       "ref": "8e161f76-b332-4223-b110-a526d3c33398",
       "rows": [
        [
         "1",
         "1"
        ],
        [
         "5",
         "2"
        ],
        [
         "7",
         "2"
        ],
        [
         "10",
         "3"
        ],
        [
         "12",
         "3"
        ],
        [
         "15",
         "3"
        ]
       ],
       "shape": {
        "columns": 1,
        "rows": 6
       }
      },
      "text/plain": [
       "1     1\n",
       "5     2\n",
       "7     2\n",
       "10    3\n",
       "12    3\n",
       "15    3\n",
       "Name: Customer no, dtype: int64"
      ]
     },
     "execution_count": 12,
     "metadata": {},
     "output_type": "execute_result"
    }
   ],
   "source": [
    "# 9. Which families purchased item number 1011 or 1000\n",
    "where1 = shop_df['Product Code'] == 1011\n",
    "where2 = shop_df['Product Code'] == 1000\n",
    "\n",
    "shop_df[where1 | where2]['Customer no']"
   ]
  },
  {
   "cell_type": "code",
   "execution_count": 13,
   "id": "99972a1d",
   "metadata": {},
   "outputs": [
    {
     "data": {
      "application/vnd.microsoft.datawrangler.viewer.v0+json": {
       "columns": [
        {
         "name": "index",
         "rawType": "int64",
         "type": "integer"
        },
        {
         "name": "Customer no",
         "rawType": "int64",
         "type": "integer"
        }
       ],
       "ref": "81f3b5b6-4713-4ab1-9139-c124cf13563a",
       "rows": [
        [
         "1",
         "1"
        ],
        [
         "5",
         "2"
        ],
        [
         "10",
         "3"
        ]
       ],
       "shape": {
        "columns": 1,
        "rows": 3
       }
      },
      "text/plain": [
       "1     1\n",
       "5     2\n",
       "10    3\n",
       "Name: Customer no, dtype: int64"
      ]
     },
     "execution_count": 13,
     "metadata": {},
     "output_type": "execute_result"
    }
   ],
   "source": [
    "# How to distinct?\n",
    "shop_df[where1 | where2]['Customer no'].drop_duplicates()"
   ]
  },
  {
   "cell_type": "code",
   "execution_count": 14,
   "id": "f65bf931",
   "metadata": {},
   "outputs": [
    {
     "data": {
      "application/vnd.microsoft.datawrangler.viewer.v0+json": {
       "columns": [
        {
         "name": "Product Code",
         "rawType": "int64",
         "type": "integer"
        },
        {
         "name": "count",
         "rawType": "int64",
         "type": "integer"
        }
       ],
       "ref": "afb93edf-6942-479a-b2b5-bd855fedbd92",
       "rows": [
        [
         "1003",
         "3"
        ],
        [
         "1011",
         "3"
        ],
        [
         "1000",
         "3"
        ],
        [
         "1002",
         "2"
        ],
        [
         "1004",
         "2"
        ],
        [
         "1009",
         "2"
        ],
        [
         "1008",
         "1"
        ],
        [
         "1010",
         "1"
        ]
       ],
       "shape": {
        "columns": 1,
        "rows": 8
       }
      },
      "text/plain": [
       "Product Code\n",
       "1003    3\n",
       "1011    3\n",
       "1000    3\n",
       "1002    2\n",
       "1004    2\n",
       "1009    2\n",
       "1008    1\n",
       "1010    1\n",
       "Name: count, dtype: int64"
      ]
     },
     "execution_count": 14,
     "metadata": {},
     "output_type": "execute_result"
    }
   ],
   "source": [
    "# 10. What is the best-selling item, and how many times was it sold?\n",
    "shop_df['Product Code'].value_counts()\n",
    "# best_selling_item = shop_df['Product Code'].value_counts().idxmax()"
   ]
  },
  {
   "cell_type": "code",
   "execution_count": 15,
   "id": "38992d7f",
   "metadata": {},
   "outputs": [
    {
     "data": {
      "application/vnd.microsoft.datawrangler.viewer.v0+json": {
       "columns": [
        {
         "name": "Customer no",
         "rawType": "int64",
         "type": "integer"
        },
        {
         "name": "count",
         "rawType": "int64",
         "type": "integer"
        }
       ],
       "ref": "fd19a2a0-a078-4d81-a5fe-c63a1a7651b2",
       "rows": [
        [
         "3",
         "7"
        ]
       ],
       "shape": {
        "columns": 1,
        "rows": 1
       }
      },
      "text/plain": [
       "Customer no\n",
       "3    7\n",
       "Name: count, dtype: int64"
      ]
     },
     "execution_count": 15,
     "metadata": {},
     "output_type": "execute_result"
    }
   ],
   "source": [
    "# 11. Which family purchased the most items, how many times did the family shop?\n",
    "shop_df['Customer no'].value_counts().head(1)\n",
    "\n"
   ]
  },
  {
   "cell_type": "code",
   "execution_count": 16,
   "id": "decf1562",
   "metadata": {},
   "outputs": [
    {
     "data": {
      "application/vnd.microsoft.datawrangler.viewer.v0+json": {
       "columns": [
        {
         "name": "Customer no",
         "rawType": "int64",
         "type": "integer"
        },
        {
         "name": "count",
         "rawType": "int64",
         "type": "integer"
        }
       ],
       "ref": "47a65d10-9a54-43e0-9383-72edf1292077",
       "rows": [
        [
         "1",
         "4"
        ],
        [
         "3",
         "4"
        ],
        [
         "2",
         "3"
        ]
       ],
       "shape": {
        "columns": 1,
        "rows": 3
       }
      },
      "text/plain": [
       "Customer no\n",
       "1    4\n",
       "3    4\n",
       "2    3\n",
       "Name: count, dtype: int64"
      ]
     },
     "execution_count": 16,
     "metadata": {},
     "output_type": "execute_result"
    }
   ],
   "source": [
    "# 12. Which family bought the most items if you don’t include the sales for items 1000 & 1011.\n",
    "where1 = shop_df['Product Code'] != 1011\n",
    "where2 = shop_df['Product Code'] != 1000\n",
    "shop_df[where1 & where2]['Customer no'].value_counts()"
   ]
  },
  {
   "cell_type": "code",
   "execution_count": 17,
   "id": "af66a8ee",
   "metadata": {},
   "outputs": [
    {
     "data": {
      "text/plain": [
       "np.int64(3)"
      ]
     },
     "execution_count": 17,
     "metadata": {},
     "output_type": "execute_result"
    }
   ],
   "source": [
    "# 13. How many times was item number 1003 purchased?\n",
    "# shop_df[shop_df['Product Code'] == 1003]['Product Code'].count()\n",
    "\n",
    "shop_df['Product Code'].value_counts()[1003]\n"
   ]
  },
  {
   "cell_type": "markdown",
   "id": "70c9a14c",
   "metadata": {},
   "source": [
    "### Part 2 - Merging DataFrames"
   ]
  },
  {
   "cell_type": "markdown",
   "id": "c12aadf2",
   "metadata": {},
   "source": [
    "Merge"
   ]
  },
  {
   "cell_type": "code",
   "execution_count": 21,
   "id": "80aa7d93",
   "metadata": {},
   "outputs": [
    {
     "data": {
      "application/vnd.microsoft.datawrangler.viewer.v0+json": {
       "columns": [
        {
         "name": "index",
         "rawType": "int64",
         "type": "integer"
        },
        {
         "name": "Code",
         "rawType": "int64",
         "type": "integer"
        },
        {
         "name": "Description",
         "rawType": "object",
         "type": "string"
        },
        {
         "name": "Price",
         "rawType": "float64",
         "type": "float"
        }
       ],
       "ref": "d6bb19e8-f00c-44a6-b72c-1b8f542c3112",
       "rows": [
        [
         "0",
         "1000",
         "Bread",
         "7.5"
        ],
        [
         "1",
         "1001",
         "Soy milk",
         "10.0"
        ],
        [
         "2",
         "1002",
         "Eggs",
         "30.0"
        ],
        [
         "3",
         "1003",
         "Cheese",
         "5.5"
        ],
        [
         "4",
         "1004",
         "Mineral water",
         "12.0"
        ],
        [
         "5",
         "1005",
         "Pasta",
         "5.0"
        ],
        [
         "6",
         "1006",
         "Bamba",
         "5.0"
        ],
        [
         "7",
         "1007",
         "Almonds",
         "20.0"
        ],
        [
         "8",
         "1008",
         "Quinoa",
         "15.0"
        ],
        [
         "9",
         "1009",
         "Rice",
         "10.0"
        ],
        [
         "10",
         "1010",
         "Honey",
         "13.0"
        ],
        [
         "11",
         "1011",
         "Dark Chocolate",
         "21.0"
        ]
       ],
       "shape": {
        "columns": 3,
        "rows": 12
       }
      },
      "text/html": [
       "<div>\n",
       "<style scoped>\n",
       "    .dataframe tbody tr th:only-of-type {\n",
       "        vertical-align: middle;\n",
       "    }\n",
       "\n",
       "    .dataframe tbody tr th {\n",
       "        vertical-align: top;\n",
       "    }\n",
       "\n",
       "    .dataframe thead th {\n",
       "        text-align: right;\n",
       "    }\n",
       "</style>\n",
       "<table border=\"1\" class=\"dataframe\">\n",
       "  <thead>\n",
       "    <tr style=\"text-align: right;\">\n",
       "      <th></th>\n",
       "      <th>Code</th>\n",
       "      <th>Description</th>\n",
       "      <th>Price</th>\n",
       "    </tr>\n",
       "  </thead>\n",
       "  <tbody>\n",
       "    <tr>\n",
       "      <th>0</th>\n",
       "      <td>1000</td>\n",
       "      <td>Bread</td>\n",
       "      <td>7.5</td>\n",
       "    </tr>\n",
       "    <tr>\n",
       "      <th>1</th>\n",
       "      <td>1001</td>\n",
       "      <td>Soy milk</td>\n",
       "      <td>10.0</td>\n",
       "    </tr>\n",
       "    <tr>\n",
       "      <th>2</th>\n",
       "      <td>1002</td>\n",
       "      <td>Eggs</td>\n",
       "      <td>30.0</td>\n",
       "    </tr>\n",
       "    <tr>\n",
       "      <th>3</th>\n",
       "      <td>1003</td>\n",
       "      <td>Cheese</td>\n",
       "      <td>5.5</td>\n",
       "    </tr>\n",
       "    <tr>\n",
       "      <th>4</th>\n",
       "      <td>1004</td>\n",
       "      <td>Mineral water</td>\n",
       "      <td>12.0</td>\n",
       "    </tr>\n",
       "    <tr>\n",
       "      <th>5</th>\n",
       "      <td>1005</td>\n",
       "      <td>Pasta</td>\n",
       "      <td>5.0</td>\n",
       "    </tr>\n",
       "    <tr>\n",
       "      <th>6</th>\n",
       "      <td>1006</td>\n",
       "      <td>Bamba</td>\n",
       "      <td>5.0</td>\n",
       "    </tr>\n",
       "    <tr>\n",
       "      <th>7</th>\n",
       "      <td>1007</td>\n",
       "      <td>Almonds</td>\n",
       "      <td>20.0</td>\n",
       "    </tr>\n",
       "    <tr>\n",
       "      <th>8</th>\n",
       "      <td>1008</td>\n",
       "      <td>Quinoa</td>\n",
       "      <td>15.0</td>\n",
       "    </tr>\n",
       "    <tr>\n",
       "      <th>9</th>\n",
       "      <td>1009</td>\n",
       "      <td>Rice</td>\n",
       "      <td>10.0</td>\n",
       "    </tr>\n",
       "    <tr>\n",
       "      <th>10</th>\n",
       "      <td>1010</td>\n",
       "      <td>Honey</td>\n",
       "      <td>13.0</td>\n",
       "    </tr>\n",
       "    <tr>\n",
       "      <th>11</th>\n",
       "      <td>1011</td>\n",
       "      <td>Dark Chocolate</td>\n",
       "      <td>21.0</td>\n",
       "    </tr>\n",
       "  </tbody>\n",
       "</table>\n",
       "</div>"
      ],
      "text/plain": [
       "    Code     Description  Price\n",
       "0   1000           Bread    7.5\n",
       "1   1001        Soy milk   10.0\n",
       "2   1002            Eggs   30.0\n",
       "3   1003          Cheese    5.5\n",
       "4   1004   Mineral water   12.0\n",
       "5   1005           Pasta    5.0\n",
       "6   1006           Bamba    5.0\n",
       "7   1007         Almonds   20.0\n",
       "8   1008          Quinoa   15.0\n",
       "9   1009            Rice   10.0\n",
       "10  1010           Honey   13.0\n",
       "11  1011  Dark Chocolate   21.0"
      ]
     },
     "execution_count": 21,
     "metadata": {},
     "output_type": "execute_result"
    }
   ],
   "source": [
    "gr_df = pd.read_csv('groceries.csv')\n",
    "gr_df"
   ]
  },
  {
   "cell_type": "code",
   "execution_count": 22,
   "id": "bd7f46e7",
   "metadata": {},
   "outputs": [
    {
     "data": {
      "application/vnd.microsoft.datawrangler.viewer.v0+json": {
       "columns": [
        {
         "name": "index",
         "rawType": "int64",
         "type": "integer"
        },
        {
         "name": "Customer no",
         "rawType": "int64",
         "type": "integer"
        },
        {
         "name": "Product Code",
         "rawType": "int64",
         "type": "integer"
        }
       ],
       "ref": "6f837b7c-499e-430d-9c7d-8674c87c4a6b",
       "rows": [
        [
         "0",
         "1",
         "1003"
        ],
        [
         "1",
         "1",
         "1011"
        ],
        [
         "2",
         "1",
         "1010"
        ],
        [
         "3",
         "1",
         "1008"
        ],
        [
         "4",
         "1",
         "1002"
        ],
        [
         "5",
         "2",
         "1000"
        ],
        [
         "6",
         "2",
         "1004"
        ],
        [
         "7",
         "2",
         "1011"
        ],
        [
         "8",
         "2",
         "1003"
        ],
        [
         "9",
         "2",
         "1009"
        ],
        [
         "10",
         "3",
         "1000"
        ],
        [
         "11",
         "3",
         "1004"
        ],
        [
         "12",
         "3",
         "1011"
        ],
        [
         "13",
         "3",
         "1003"
        ],
        [
         "14",
         "3",
         "1009"
        ],
        [
         "15",
         "3",
         "1000"
        ],
        [
         "16",
         "3",
         "1002"
        ]
       ],
       "shape": {
        "columns": 2,
        "rows": 17
       }
      },
      "text/html": [
       "<div>\n",
       "<style scoped>\n",
       "    .dataframe tbody tr th:only-of-type {\n",
       "        vertical-align: middle;\n",
       "    }\n",
       "\n",
       "    .dataframe tbody tr th {\n",
       "        vertical-align: top;\n",
       "    }\n",
       "\n",
       "    .dataframe thead th {\n",
       "        text-align: right;\n",
       "    }\n",
       "</style>\n",
       "<table border=\"1\" class=\"dataframe\">\n",
       "  <thead>\n",
       "    <tr style=\"text-align: right;\">\n",
       "      <th></th>\n",
       "      <th>Customer no</th>\n",
       "      <th>Product Code</th>\n",
       "    </tr>\n",
       "  </thead>\n",
       "  <tbody>\n",
       "    <tr>\n",
       "      <th>0</th>\n",
       "      <td>1</td>\n",
       "      <td>1003</td>\n",
       "    </tr>\n",
       "    <tr>\n",
       "      <th>1</th>\n",
       "      <td>1</td>\n",
       "      <td>1011</td>\n",
       "    </tr>\n",
       "    <tr>\n",
       "      <th>2</th>\n",
       "      <td>1</td>\n",
       "      <td>1010</td>\n",
       "    </tr>\n",
       "    <tr>\n",
       "      <th>3</th>\n",
       "      <td>1</td>\n",
       "      <td>1008</td>\n",
       "    </tr>\n",
       "    <tr>\n",
       "      <th>4</th>\n",
       "      <td>1</td>\n",
       "      <td>1002</td>\n",
       "    </tr>\n",
       "    <tr>\n",
       "      <th>5</th>\n",
       "      <td>2</td>\n",
       "      <td>1000</td>\n",
       "    </tr>\n",
       "    <tr>\n",
       "      <th>6</th>\n",
       "      <td>2</td>\n",
       "      <td>1004</td>\n",
       "    </tr>\n",
       "    <tr>\n",
       "      <th>7</th>\n",
       "      <td>2</td>\n",
       "      <td>1011</td>\n",
       "    </tr>\n",
       "    <tr>\n",
       "      <th>8</th>\n",
       "      <td>2</td>\n",
       "      <td>1003</td>\n",
       "    </tr>\n",
       "    <tr>\n",
       "      <th>9</th>\n",
       "      <td>2</td>\n",
       "      <td>1009</td>\n",
       "    </tr>\n",
       "    <tr>\n",
       "      <th>10</th>\n",
       "      <td>3</td>\n",
       "      <td>1000</td>\n",
       "    </tr>\n",
       "    <tr>\n",
       "      <th>11</th>\n",
       "      <td>3</td>\n",
       "      <td>1004</td>\n",
       "    </tr>\n",
       "    <tr>\n",
       "      <th>12</th>\n",
       "      <td>3</td>\n",
       "      <td>1011</td>\n",
       "    </tr>\n",
       "    <tr>\n",
       "      <th>13</th>\n",
       "      <td>3</td>\n",
       "      <td>1003</td>\n",
       "    </tr>\n",
       "    <tr>\n",
       "      <th>14</th>\n",
       "      <td>3</td>\n",
       "      <td>1009</td>\n",
       "    </tr>\n",
       "    <tr>\n",
       "      <th>15</th>\n",
       "      <td>3</td>\n",
       "      <td>1000</td>\n",
       "    </tr>\n",
       "    <tr>\n",
       "      <th>16</th>\n",
       "      <td>3</td>\n",
       "      <td>1002</td>\n",
       "    </tr>\n",
       "  </tbody>\n",
       "</table>\n",
       "</div>"
      ],
      "text/plain": [
       "    Customer no  Product Code\n",
       "0             1          1003\n",
       "1             1          1011\n",
       "2             1          1010\n",
       "3             1          1008\n",
       "4             1          1002\n",
       "5             2          1000\n",
       "6             2          1004\n",
       "7             2          1011\n",
       "8             2          1003\n",
       "9             2          1009\n",
       "10            3          1000\n",
       "11            3          1004\n",
       "12            3          1011\n",
       "13            3          1003\n",
       "14            3          1009\n",
       "15            3          1000\n",
       "16            3          1002"
      ]
     },
     "execution_count": 22,
     "metadata": {},
     "output_type": "execute_result"
    }
   ],
   "source": [
    "shop_df"
   ]
  },
  {
   "cell_type": "markdown",
   "id": "51fd46ef",
   "metadata": {},
   "source": [
    "2. From the \"Data\" folder, import the Groceries file into a variable named gr_df   \n"
   ]
  },
  {
   "cell_type": "code",
   "execution_count": 23,
   "id": "a80b93e6",
   "metadata": {},
   "outputs": [
    {
     "data": {
      "application/vnd.microsoft.datawrangler.viewer.v0+json": {
       "columns": [
        {
         "name": "index",
         "rawType": "int64",
         "type": "integer"
        },
        {
         "name": "Customer no",
         "rawType": "int64",
         "type": "integer"
        },
        {
         "name": "Product Code",
         "rawType": "int64",
         "type": "integer"
        },
        {
         "name": "Code",
         "rawType": "int64",
         "type": "integer"
        },
        {
         "name": "Description",
         "rawType": "object",
         "type": "string"
        },
        {
         "name": "Price",
         "rawType": "float64",
         "type": "float"
        }
       ],
       "ref": "6c3ed486-c6f0-44a8-83a5-9524e061456a",
       "rows": [
        [
         "0",
         "1",
         "1003",
         "1003",
         "Cheese",
         "5.5"
        ],
        [
         "1",
         "1",
         "1011",
         "1011",
         "Dark Chocolate",
         "21.0"
        ],
        [
         "2",
         "1",
         "1010",
         "1010",
         "Honey",
         "13.0"
        ],
        [
         "3",
         "1",
         "1008",
         "1008",
         "Quinoa",
         "15.0"
        ],
        [
         "4",
         "1",
         "1002",
         "1002",
         "Eggs",
         "30.0"
        ],
        [
         "5",
         "2",
         "1000",
         "1000",
         "Bread",
         "7.5"
        ],
        [
         "6",
         "2",
         "1004",
         "1004",
         "Mineral water",
         "12.0"
        ],
        [
         "7",
         "2",
         "1011",
         "1011",
         "Dark Chocolate",
         "21.0"
        ],
        [
         "8",
         "2",
         "1003",
         "1003",
         "Cheese",
         "5.5"
        ],
        [
         "9",
         "2",
         "1009",
         "1009",
         "Rice",
         "10.0"
        ],
        [
         "10",
         "3",
         "1000",
         "1000",
         "Bread",
         "7.5"
        ],
        [
         "11",
         "3",
         "1004",
         "1004",
         "Mineral water",
         "12.0"
        ],
        [
         "12",
         "3",
         "1011",
         "1011",
         "Dark Chocolate",
         "21.0"
        ],
        [
         "13",
         "3",
         "1003",
         "1003",
         "Cheese",
         "5.5"
        ],
        [
         "14",
         "3",
         "1009",
         "1009",
         "Rice",
         "10.0"
        ],
        [
         "15",
         "3",
         "1000",
         "1000",
         "Bread",
         "7.5"
        ],
        [
         "16",
         "3",
         "1002",
         "1002",
         "Eggs",
         "30.0"
        ]
       ],
       "shape": {
        "columns": 5,
        "rows": 17
       }
      },
      "text/html": [
       "<div>\n",
       "<style scoped>\n",
       "    .dataframe tbody tr th:only-of-type {\n",
       "        vertical-align: middle;\n",
       "    }\n",
       "\n",
       "    .dataframe tbody tr th {\n",
       "        vertical-align: top;\n",
       "    }\n",
       "\n",
       "    .dataframe thead th {\n",
       "        text-align: right;\n",
       "    }\n",
       "</style>\n",
       "<table border=\"1\" class=\"dataframe\">\n",
       "  <thead>\n",
       "    <tr style=\"text-align: right;\">\n",
       "      <th></th>\n",
       "      <th>Customer no</th>\n",
       "      <th>Product Code</th>\n",
       "      <th>Code</th>\n",
       "      <th>Description</th>\n",
       "      <th>Price</th>\n",
       "    </tr>\n",
       "  </thead>\n",
       "  <tbody>\n",
       "    <tr>\n",
       "      <th>0</th>\n",
       "      <td>1</td>\n",
       "      <td>1003</td>\n",
       "      <td>1003</td>\n",
       "      <td>Cheese</td>\n",
       "      <td>5.5</td>\n",
       "    </tr>\n",
       "    <tr>\n",
       "      <th>1</th>\n",
       "      <td>1</td>\n",
       "      <td>1011</td>\n",
       "      <td>1011</td>\n",
       "      <td>Dark Chocolate</td>\n",
       "      <td>21.0</td>\n",
       "    </tr>\n",
       "    <tr>\n",
       "      <th>2</th>\n",
       "      <td>1</td>\n",
       "      <td>1010</td>\n",
       "      <td>1010</td>\n",
       "      <td>Honey</td>\n",
       "      <td>13.0</td>\n",
       "    </tr>\n",
       "    <tr>\n",
       "      <th>3</th>\n",
       "      <td>1</td>\n",
       "      <td>1008</td>\n",
       "      <td>1008</td>\n",
       "      <td>Quinoa</td>\n",
       "      <td>15.0</td>\n",
       "    </tr>\n",
       "    <tr>\n",
       "      <th>4</th>\n",
       "      <td>1</td>\n",
       "      <td>1002</td>\n",
       "      <td>1002</td>\n",
       "      <td>Eggs</td>\n",
       "      <td>30.0</td>\n",
       "    </tr>\n",
       "    <tr>\n",
       "      <th>5</th>\n",
       "      <td>2</td>\n",
       "      <td>1000</td>\n",
       "      <td>1000</td>\n",
       "      <td>Bread</td>\n",
       "      <td>7.5</td>\n",
       "    </tr>\n",
       "    <tr>\n",
       "      <th>6</th>\n",
       "      <td>2</td>\n",
       "      <td>1004</td>\n",
       "      <td>1004</td>\n",
       "      <td>Mineral water</td>\n",
       "      <td>12.0</td>\n",
       "    </tr>\n",
       "    <tr>\n",
       "      <th>7</th>\n",
       "      <td>2</td>\n",
       "      <td>1011</td>\n",
       "      <td>1011</td>\n",
       "      <td>Dark Chocolate</td>\n",
       "      <td>21.0</td>\n",
       "    </tr>\n",
       "    <tr>\n",
       "      <th>8</th>\n",
       "      <td>2</td>\n",
       "      <td>1003</td>\n",
       "      <td>1003</td>\n",
       "      <td>Cheese</td>\n",
       "      <td>5.5</td>\n",
       "    </tr>\n",
       "    <tr>\n",
       "      <th>9</th>\n",
       "      <td>2</td>\n",
       "      <td>1009</td>\n",
       "      <td>1009</td>\n",
       "      <td>Rice</td>\n",
       "      <td>10.0</td>\n",
       "    </tr>\n",
       "    <tr>\n",
       "      <th>10</th>\n",
       "      <td>3</td>\n",
       "      <td>1000</td>\n",
       "      <td>1000</td>\n",
       "      <td>Bread</td>\n",
       "      <td>7.5</td>\n",
       "    </tr>\n",
       "    <tr>\n",
       "      <th>11</th>\n",
       "      <td>3</td>\n",
       "      <td>1004</td>\n",
       "      <td>1004</td>\n",
       "      <td>Mineral water</td>\n",
       "      <td>12.0</td>\n",
       "    </tr>\n",
       "    <tr>\n",
       "      <th>12</th>\n",
       "      <td>3</td>\n",
       "      <td>1011</td>\n",
       "      <td>1011</td>\n",
       "      <td>Dark Chocolate</td>\n",
       "      <td>21.0</td>\n",
       "    </tr>\n",
       "    <tr>\n",
       "      <th>13</th>\n",
       "      <td>3</td>\n",
       "      <td>1003</td>\n",
       "      <td>1003</td>\n",
       "      <td>Cheese</td>\n",
       "      <td>5.5</td>\n",
       "    </tr>\n",
       "    <tr>\n",
       "      <th>14</th>\n",
       "      <td>3</td>\n",
       "      <td>1009</td>\n",
       "      <td>1009</td>\n",
       "      <td>Rice</td>\n",
       "      <td>10.0</td>\n",
       "    </tr>\n",
       "    <tr>\n",
       "      <th>15</th>\n",
       "      <td>3</td>\n",
       "      <td>1000</td>\n",
       "      <td>1000</td>\n",
       "      <td>Bread</td>\n",
       "      <td>7.5</td>\n",
       "    </tr>\n",
       "    <tr>\n",
       "      <th>16</th>\n",
       "      <td>3</td>\n",
       "      <td>1002</td>\n",
       "      <td>1002</td>\n",
       "      <td>Eggs</td>\n",
       "      <td>30.0</td>\n",
       "    </tr>\n",
       "  </tbody>\n",
       "</table>\n",
       "</div>"
      ],
      "text/plain": [
       "    Customer no  Product Code  Code     Description  Price\n",
       "0             1          1003  1003          Cheese    5.5\n",
       "1             1          1011  1011  Dark Chocolate   21.0\n",
       "2             1          1010  1010           Honey   13.0\n",
       "3             1          1008  1008          Quinoa   15.0\n",
       "4             1          1002  1002            Eggs   30.0\n",
       "5             2          1000  1000           Bread    7.5\n",
       "6             2          1004  1004   Mineral water   12.0\n",
       "7             2          1011  1011  Dark Chocolate   21.0\n",
       "8             2          1003  1003          Cheese    5.5\n",
       "9             2          1009  1009            Rice   10.0\n",
       "10            3          1000  1000           Bread    7.5\n",
       "11            3          1004  1004   Mineral water   12.0\n",
       "12            3          1011  1011  Dark Chocolate   21.0\n",
       "13            3          1003  1003          Cheese    5.5\n",
       "14            3          1009  1009            Rice   10.0\n",
       "15            3          1000  1000           Bread    7.5\n",
       "16            3          1002  1002            Eggs   30.0"
      ]
     },
     "execution_count": 23,
     "metadata": {},
     "output_type": "execute_result"
    }
   ],
   "source": [
    "# 3. Merge the information from gr_df and shop_df into a new variable called sales, so that for each row in shop_df, the product description and price will also be added. \n",
    "shop_df.merge( gr_df, left_on='Product Code', right_on='Code',how='left')"
   ]
  },
  {
   "cell_type": "code",
   "execution_count": 24,
   "id": "17b86738",
   "metadata": {},
   "outputs": [
    {
     "data": {
      "application/vnd.microsoft.datawrangler.viewer.v0+json": {
       "columns": [
        {
         "name": "index",
         "rawType": "int64",
         "type": "integer"
        },
        {
         "name": "Customer no",
         "rawType": "int64",
         "type": "integer"
        },
        {
         "name": "Product Code",
         "rawType": "int64",
         "type": "integer"
        },
        {
         "name": "Code",
         "rawType": "int64",
         "type": "integer"
        },
        {
         "name": "Description",
         "rawType": "object",
         "type": "string"
        },
        {
         "name": "Price",
         "rawType": "float64",
         "type": "float"
        }
       ],
       "ref": "090f7200-4c07-48f9-8e08-7ceb9e593221",
       "rows": [
        [
         "0",
         "1",
         "1003",
         "1003",
         "Cheese",
         "5.5"
        ],
        [
         "1",
         "1",
         "1011",
         "1011",
         "Dark Chocolate",
         "21.0"
        ],
        [
         "2",
         "1",
         "1010",
         "1010",
         "Honey",
         "13.0"
        ],
        [
         "3",
         "1",
         "1008",
         "1008",
         "Quinoa",
         "15.0"
        ],
        [
         "4",
         "1",
         "1002",
         "1002",
         "Eggs",
         "30.0"
        ],
        [
         "5",
         "2",
         "1000",
         "1000",
         "Bread",
         "7.5"
        ],
        [
         "6",
         "2",
         "1004",
         "1004",
         "Mineral water",
         "12.0"
        ],
        [
         "7",
         "2",
         "1011",
         "1011",
         "Dark Chocolate",
         "21.0"
        ],
        [
         "8",
         "2",
         "1003",
         "1003",
         "Cheese",
         "5.5"
        ],
        [
         "9",
         "2",
         "1009",
         "1009",
         "Rice",
         "10.0"
        ],
        [
         "10",
         "3",
         "1000",
         "1000",
         "Bread",
         "7.5"
        ],
        [
         "11",
         "3",
         "1004",
         "1004",
         "Mineral water",
         "12.0"
        ],
        [
         "12",
         "3",
         "1011",
         "1011",
         "Dark Chocolate",
         "21.0"
        ],
        [
         "13",
         "3",
         "1003",
         "1003",
         "Cheese",
         "5.5"
        ],
        [
         "14",
         "3",
         "1009",
         "1009",
         "Rice",
         "10.0"
        ],
        [
         "15",
         "3",
         "1000",
         "1000",
         "Bread",
         "7.5"
        ],
        [
         "16",
         "3",
         "1002",
         "1002",
         "Eggs",
         "30.0"
        ]
       ],
       "shape": {
        "columns": 5,
        "rows": 17
       }
      },
      "text/html": [
       "<div>\n",
       "<style scoped>\n",
       "    .dataframe tbody tr th:only-of-type {\n",
       "        vertical-align: middle;\n",
       "    }\n",
       "\n",
       "    .dataframe tbody tr th {\n",
       "        vertical-align: top;\n",
       "    }\n",
       "\n",
       "    .dataframe thead th {\n",
       "        text-align: right;\n",
       "    }\n",
       "</style>\n",
       "<table border=\"1\" class=\"dataframe\">\n",
       "  <thead>\n",
       "    <tr style=\"text-align: right;\">\n",
       "      <th></th>\n",
       "      <th>Customer no</th>\n",
       "      <th>Product Code</th>\n",
       "      <th>Code</th>\n",
       "      <th>Description</th>\n",
       "      <th>Price</th>\n",
       "    </tr>\n",
       "  </thead>\n",
       "  <tbody>\n",
       "    <tr>\n",
       "      <th>0</th>\n",
       "      <td>1</td>\n",
       "      <td>1003</td>\n",
       "      <td>1003</td>\n",
       "      <td>Cheese</td>\n",
       "      <td>5.5</td>\n",
       "    </tr>\n",
       "    <tr>\n",
       "      <th>1</th>\n",
       "      <td>1</td>\n",
       "      <td>1011</td>\n",
       "      <td>1011</td>\n",
       "      <td>Dark Chocolate</td>\n",
       "      <td>21.0</td>\n",
       "    </tr>\n",
       "    <tr>\n",
       "      <th>2</th>\n",
       "      <td>1</td>\n",
       "      <td>1010</td>\n",
       "      <td>1010</td>\n",
       "      <td>Honey</td>\n",
       "      <td>13.0</td>\n",
       "    </tr>\n",
       "    <tr>\n",
       "      <th>3</th>\n",
       "      <td>1</td>\n",
       "      <td>1008</td>\n",
       "      <td>1008</td>\n",
       "      <td>Quinoa</td>\n",
       "      <td>15.0</td>\n",
       "    </tr>\n",
       "    <tr>\n",
       "      <th>4</th>\n",
       "      <td>1</td>\n",
       "      <td>1002</td>\n",
       "      <td>1002</td>\n",
       "      <td>Eggs</td>\n",
       "      <td>30.0</td>\n",
       "    </tr>\n",
       "    <tr>\n",
       "      <th>5</th>\n",
       "      <td>2</td>\n",
       "      <td>1000</td>\n",
       "      <td>1000</td>\n",
       "      <td>Bread</td>\n",
       "      <td>7.5</td>\n",
       "    </tr>\n",
       "    <tr>\n",
       "      <th>6</th>\n",
       "      <td>2</td>\n",
       "      <td>1004</td>\n",
       "      <td>1004</td>\n",
       "      <td>Mineral water</td>\n",
       "      <td>12.0</td>\n",
       "    </tr>\n",
       "    <tr>\n",
       "      <th>7</th>\n",
       "      <td>2</td>\n",
       "      <td>1011</td>\n",
       "      <td>1011</td>\n",
       "      <td>Dark Chocolate</td>\n",
       "      <td>21.0</td>\n",
       "    </tr>\n",
       "    <tr>\n",
       "      <th>8</th>\n",
       "      <td>2</td>\n",
       "      <td>1003</td>\n",
       "      <td>1003</td>\n",
       "      <td>Cheese</td>\n",
       "      <td>5.5</td>\n",
       "    </tr>\n",
       "    <tr>\n",
       "      <th>9</th>\n",
       "      <td>2</td>\n",
       "      <td>1009</td>\n",
       "      <td>1009</td>\n",
       "      <td>Rice</td>\n",
       "      <td>10.0</td>\n",
       "    </tr>\n",
       "    <tr>\n",
       "      <th>10</th>\n",
       "      <td>3</td>\n",
       "      <td>1000</td>\n",
       "      <td>1000</td>\n",
       "      <td>Bread</td>\n",
       "      <td>7.5</td>\n",
       "    </tr>\n",
       "    <tr>\n",
       "      <th>11</th>\n",
       "      <td>3</td>\n",
       "      <td>1004</td>\n",
       "      <td>1004</td>\n",
       "      <td>Mineral water</td>\n",
       "      <td>12.0</td>\n",
       "    </tr>\n",
       "    <tr>\n",
       "      <th>12</th>\n",
       "      <td>3</td>\n",
       "      <td>1011</td>\n",
       "      <td>1011</td>\n",
       "      <td>Dark Chocolate</td>\n",
       "      <td>21.0</td>\n",
       "    </tr>\n",
       "    <tr>\n",
       "      <th>13</th>\n",
       "      <td>3</td>\n",
       "      <td>1003</td>\n",
       "      <td>1003</td>\n",
       "      <td>Cheese</td>\n",
       "      <td>5.5</td>\n",
       "    </tr>\n",
       "    <tr>\n",
       "      <th>14</th>\n",
       "      <td>3</td>\n",
       "      <td>1009</td>\n",
       "      <td>1009</td>\n",
       "      <td>Rice</td>\n",
       "      <td>10.0</td>\n",
       "    </tr>\n",
       "    <tr>\n",
       "      <th>15</th>\n",
       "      <td>3</td>\n",
       "      <td>1000</td>\n",
       "      <td>1000</td>\n",
       "      <td>Bread</td>\n",
       "      <td>7.5</td>\n",
       "    </tr>\n",
       "    <tr>\n",
       "      <th>16</th>\n",
       "      <td>3</td>\n",
       "      <td>1002</td>\n",
       "      <td>1002</td>\n",
       "      <td>Eggs</td>\n",
       "      <td>30.0</td>\n",
       "    </tr>\n",
       "  </tbody>\n",
       "</table>\n",
       "</div>"
      ],
      "text/plain": [
       "    Customer no  Product Code  Code     Description  Price\n",
       "0             1          1003  1003          Cheese    5.5\n",
       "1             1          1011  1011  Dark Chocolate   21.0\n",
       "2             1          1010  1010           Honey   13.0\n",
       "3             1          1008  1008          Quinoa   15.0\n",
       "4             1          1002  1002            Eggs   30.0\n",
       "5             2          1000  1000           Bread    7.5\n",
       "6             2          1004  1004   Mineral water   12.0\n",
       "7             2          1011  1011  Dark Chocolate   21.0\n",
       "8             2          1003  1003          Cheese    5.5\n",
       "9             2          1009  1009            Rice   10.0\n",
       "10            3          1000  1000           Bread    7.5\n",
       "11            3          1004  1004   Mineral water   12.0\n",
       "12            3          1011  1011  Dark Chocolate   21.0\n",
       "13            3          1003  1003          Cheese    5.5\n",
       "14            3          1009  1009            Rice   10.0\n",
       "15            3          1000  1000           Bread    7.5\n",
       "16            3          1002  1002            Eggs   30.0"
      ]
     },
     "execution_count": 24,
     "metadata": {},
     "output_type": "execute_result"
    }
   ],
   "source": [
    "sales = shop_df.merge( gr_df, left_on='Product Code', right_on='Code',how='left')\n",
    "sales"
   ]
  },
  {
   "cell_type": "code",
   "execution_count": 25,
   "id": "8412116a",
   "metadata": {},
   "outputs": [
    {
     "data": {
      "application/vnd.microsoft.datawrangler.viewer.v0+json": {
       "columns": [
        {
         "name": "index",
         "rawType": "int64",
         "type": "integer"
        },
        {
         "name": "Customer no",
         "rawType": "int64",
         "type": "integer"
        },
        {
         "name": "Product Code",
         "rawType": "int64",
         "type": "integer"
        },
        {
         "name": "Description",
         "rawType": "object",
         "type": "string"
        },
        {
         "name": "Price",
         "rawType": "float64",
         "type": "float"
        }
       ],
       "ref": "6bb9b74c-24ea-4c22-b9d5-0fb9316eb0a0",
       "rows": [
        [
         "0",
         "1",
         "1003",
         "Cheese",
         "5.5"
        ],
        [
         "1",
         "1",
         "1011",
         "Dark Chocolate",
         "21.0"
        ],
        [
         "2",
         "1",
         "1010",
         "Honey",
         "13.0"
        ],
        [
         "3",
         "1",
         "1008",
         "Quinoa",
         "15.0"
        ],
        [
         "4",
         "1",
         "1002",
         "Eggs",
         "30.0"
        ],
        [
         "5",
         "2",
         "1000",
         "Bread",
         "7.5"
        ],
        [
         "6",
         "2",
         "1004",
         "Mineral water",
         "12.0"
        ],
        [
         "7",
         "2",
         "1011",
         "Dark Chocolate",
         "21.0"
        ],
        [
         "8",
         "2",
         "1003",
         "Cheese",
         "5.5"
        ],
        [
         "9",
         "2",
         "1009",
         "Rice",
         "10.0"
        ],
        [
         "10",
         "3",
         "1000",
         "Bread",
         "7.5"
        ],
        [
         "11",
         "3",
         "1004",
         "Mineral water",
         "12.0"
        ],
        [
         "12",
         "3",
         "1011",
         "Dark Chocolate",
         "21.0"
        ],
        [
         "13",
         "3",
         "1003",
         "Cheese",
         "5.5"
        ],
        [
         "14",
         "3",
         "1009",
         "Rice",
         "10.0"
        ],
        [
         "15",
         "3",
         "1000",
         "Bread",
         "7.5"
        ],
        [
         "16",
         "3",
         "1002",
         "Eggs",
         "30.0"
        ]
       ],
       "shape": {
        "columns": 4,
        "rows": 17
       }
      },
      "text/html": [
       "<div>\n",
       "<style scoped>\n",
       "    .dataframe tbody tr th:only-of-type {\n",
       "        vertical-align: middle;\n",
       "    }\n",
       "\n",
       "    .dataframe tbody tr th {\n",
       "        vertical-align: top;\n",
       "    }\n",
       "\n",
       "    .dataframe thead th {\n",
       "        text-align: right;\n",
       "    }\n",
       "</style>\n",
       "<table border=\"1\" class=\"dataframe\">\n",
       "  <thead>\n",
       "    <tr style=\"text-align: right;\">\n",
       "      <th></th>\n",
       "      <th>Customer no</th>\n",
       "      <th>Product Code</th>\n",
       "      <th>Description</th>\n",
       "      <th>Price</th>\n",
       "    </tr>\n",
       "  </thead>\n",
       "  <tbody>\n",
       "    <tr>\n",
       "      <th>0</th>\n",
       "      <td>1</td>\n",
       "      <td>1003</td>\n",
       "      <td>Cheese</td>\n",
       "      <td>5.5</td>\n",
       "    </tr>\n",
       "    <tr>\n",
       "      <th>1</th>\n",
       "      <td>1</td>\n",
       "      <td>1011</td>\n",
       "      <td>Dark Chocolate</td>\n",
       "      <td>21.0</td>\n",
       "    </tr>\n",
       "    <tr>\n",
       "      <th>2</th>\n",
       "      <td>1</td>\n",
       "      <td>1010</td>\n",
       "      <td>Honey</td>\n",
       "      <td>13.0</td>\n",
       "    </tr>\n",
       "    <tr>\n",
       "      <th>3</th>\n",
       "      <td>1</td>\n",
       "      <td>1008</td>\n",
       "      <td>Quinoa</td>\n",
       "      <td>15.0</td>\n",
       "    </tr>\n",
       "    <tr>\n",
       "      <th>4</th>\n",
       "      <td>1</td>\n",
       "      <td>1002</td>\n",
       "      <td>Eggs</td>\n",
       "      <td>30.0</td>\n",
       "    </tr>\n",
       "    <tr>\n",
       "      <th>5</th>\n",
       "      <td>2</td>\n",
       "      <td>1000</td>\n",
       "      <td>Bread</td>\n",
       "      <td>7.5</td>\n",
       "    </tr>\n",
       "    <tr>\n",
       "      <th>6</th>\n",
       "      <td>2</td>\n",
       "      <td>1004</td>\n",
       "      <td>Mineral water</td>\n",
       "      <td>12.0</td>\n",
       "    </tr>\n",
       "    <tr>\n",
       "      <th>7</th>\n",
       "      <td>2</td>\n",
       "      <td>1011</td>\n",
       "      <td>Dark Chocolate</td>\n",
       "      <td>21.0</td>\n",
       "    </tr>\n",
       "    <tr>\n",
       "      <th>8</th>\n",
       "      <td>2</td>\n",
       "      <td>1003</td>\n",
       "      <td>Cheese</td>\n",
       "      <td>5.5</td>\n",
       "    </tr>\n",
       "    <tr>\n",
       "      <th>9</th>\n",
       "      <td>2</td>\n",
       "      <td>1009</td>\n",
       "      <td>Rice</td>\n",
       "      <td>10.0</td>\n",
       "    </tr>\n",
       "    <tr>\n",
       "      <th>10</th>\n",
       "      <td>3</td>\n",
       "      <td>1000</td>\n",
       "      <td>Bread</td>\n",
       "      <td>7.5</td>\n",
       "    </tr>\n",
       "    <tr>\n",
       "      <th>11</th>\n",
       "      <td>3</td>\n",
       "      <td>1004</td>\n",
       "      <td>Mineral water</td>\n",
       "      <td>12.0</td>\n",
       "    </tr>\n",
       "    <tr>\n",
       "      <th>12</th>\n",
       "      <td>3</td>\n",
       "      <td>1011</td>\n",
       "      <td>Dark Chocolate</td>\n",
       "      <td>21.0</td>\n",
       "    </tr>\n",
       "    <tr>\n",
       "      <th>13</th>\n",
       "      <td>3</td>\n",
       "      <td>1003</td>\n",
       "      <td>Cheese</td>\n",
       "      <td>5.5</td>\n",
       "    </tr>\n",
       "    <tr>\n",
       "      <th>14</th>\n",
       "      <td>3</td>\n",
       "      <td>1009</td>\n",
       "      <td>Rice</td>\n",
       "      <td>10.0</td>\n",
       "    </tr>\n",
       "    <tr>\n",
       "      <th>15</th>\n",
       "      <td>3</td>\n",
       "      <td>1000</td>\n",
       "      <td>Bread</td>\n",
       "      <td>7.5</td>\n",
       "    </tr>\n",
       "    <tr>\n",
       "      <th>16</th>\n",
       "      <td>3</td>\n",
       "      <td>1002</td>\n",
       "      <td>Eggs</td>\n",
       "      <td>30.0</td>\n",
       "    </tr>\n",
       "  </tbody>\n",
       "</table>\n",
       "</div>"
      ],
      "text/plain": [
       "    Customer no  Product Code     Description  Price\n",
       "0             1          1003          Cheese    5.5\n",
       "1             1          1011  Dark Chocolate   21.0\n",
       "2             1          1010           Honey   13.0\n",
       "3             1          1008          Quinoa   15.0\n",
       "4             1          1002            Eggs   30.0\n",
       "5             2          1000           Bread    7.5\n",
       "6             2          1004   Mineral water   12.0\n",
       "7             2          1011  Dark Chocolate   21.0\n",
       "8             2          1003          Cheese    5.5\n",
       "9             2          1009            Rice   10.0\n",
       "10            3          1000           Bread    7.5\n",
       "11            3          1004   Mineral water   12.0\n",
       "12            3          1011  Dark Chocolate   21.0\n",
       "13            3          1003          Cheese    5.5\n",
       "14            3          1009            Rice   10.0\n",
       "15            3          1000           Bread    7.5\n",
       "16            3          1002            Eggs   30.0"
      ]
     },
     "execution_count": 25,
     "metadata": {},
     "output_type": "execute_result"
    }
   ],
   "source": [
    "# 4. Delete repetitive columns, if there are any. The Sales variable will contain the following columns:\n",
    "# sales = sales[['Customer no', 'Product Code', 'Description', 'Price']]\n",
    "sales.drop(columns=['Code'], inplace=True)\n",
    "sales"
   ]
  },
  {
   "cell_type": "code",
   "execution_count": null,
   "id": "0120bdac",
   "metadata": {},
   "outputs": [],
   "source": [
    "# 5. What is the total purchase amount for all of the families?\n",
    "sales"
   ]
  }
 ],
 "metadata": {
  "kernelspec": {
   "display_name": "Python 3",
   "language": "python",
   "name": "python3"
  },
  "language_info": {
   "codemirror_mode": {
    "name": "ipython",
    "version": 3
   },
   "file_extension": ".py",
   "mimetype": "text/x-python",
   "name": "python",
   "nbconvert_exporter": "python",
   "pygments_lexer": "ipython3",
   "version": "3.13.3"
  }
 },
 "nbformat": 4,
 "nbformat_minor": 5
}
